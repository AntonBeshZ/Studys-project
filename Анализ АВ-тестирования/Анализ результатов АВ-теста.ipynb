{
 "cells": [
  {
   "cell_type": "markdown",
   "metadata": {},
   "source": [
    "## Проверка гипотез и проведение анализа А/В - тестирования."
   ]
  },
  {
   "cell_type": "markdown",
   "metadata": {},
   "source": [
    "<font face='times new roman' size=4 font color='#5555FF'>**Цель исследования:**</font><br>\n",
    "Проверка приоритетной гипотезы на результатах проведенного A/B-теста, для выдачи рекомендаций руководителям интернет-магазина по повышению выручки.<br>\n",
    "\n",
    "**Входные данные** - подготовленные совместно с отделом маркетинга и собранные в датафрейм гипотезы для увеличения выручки бизнеса, а также информация о результатах А/В-теста, собранная в отдельные датафреймы заказов и посетителей.<br>\n",
    "\n",
    "<font face='times new roman' size=4 font color='#5555FF'>**Описание:**</font><br>\n",
    "1. Загрузка входных данных и выбор приоритетной гипотезы.\n",
    "2. Предобработка данных и их подготовка для проведения исследования.\n",
    "3. Исследовательский анализ.\n",
    "4. Выводы и рекомендации.\n",
    "\n",
    "Исследование поможет проверить приоритетную гипотезу на имеющихся данных, которое поможет принять правильное решение руководителям интернет-магазина."
   ]
  },
  {
   "cell_type": "markdown",
   "metadata": {},
   "source": [
    "## Выбор приоритетной гипотезы."
   ]
  },
  {
   "cell_type": "markdown",
   "metadata": {},
   "source": [
    "Запустим необходимые библиотеки и прочитаем имеющиеся файлы."
   ]
  },
  {
   "cell_type": "code",
   "execution_count": 1,
   "metadata": {},
   "outputs": [],
   "source": [
    "import pandas as pd"
   ]
  },
  {
   "cell_type": "code",
   "execution_count": 2,
   "metadata": {},
   "outputs": [],
   "source": [
    "import numpy as np"
   ]
  },
  {
   "cell_type": "code",
   "execution_count": 3,
   "metadata": {},
   "outputs": [],
   "source": [
    "import datetime as dt"
   ]
  },
  {
   "cell_type": "code",
   "execution_count": 4,
   "metadata": {},
   "outputs": [],
   "source": [
    "import matplotlib.pyplot as plt"
   ]
  },
  {
   "cell_type": "code",
   "execution_count": 5,
   "metadata": {},
   "outputs": [],
   "source": [
    "import scipy.stats as st"
   ]
  },
  {
   "cell_type": "code",
   "execution_count": 6,
   "metadata": {},
   "outputs": [],
   "source": [
    "df_hypot = pd.read_csv('/datasets/hypothesis.csv')"
   ]
  },
  {
   "cell_type": "code",
   "execution_count": 7,
   "metadata": {},
   "outputs": [],
   "source": [
    "orders = pd.read_csv('/datasets/orders.csv')"
   ]
  },
  {
   "cell_type": "code",
   "execution_count": 8,
   "metadata": {},
   "outputs": [],
   "source": [
    "visitors =  pd.read_csv('/datasets/visitors.csv')"
   ]
  },
  {
   "cell_type": "code",
   "execution_count": 9,
   "metadata": {},
   "outputs": [],
   "source": [
    "pd.options.display.max_colwidth = 1"
   ]
  },
  {
   "cell_type": "markdown",
   "metadata": {},
   "source": [
    "Познакомимся с таблицей гипотез."
   ]
  },
  {
   "cell_type": "code",
   "execution_count": 10,
   "metadata": {},
   "outputs": [
    {
     "name": "stdout",
     "output_type": "stream",
     "text": [
      "<class 'pandas.core.frame.DataFrame'>\n",
      "RangeIndex: 9 entries, 0 to 8\n",
      "Data columns (total 5 columns):\n",
      " #   Column      Non-Null Count  Dtype \n",
      "---  ------      --------------  ----- \n",
      " 0   Hypothesis  9 non-null      object\n",
      " 1   Reach       9 non-null      int64 \n",
      " 2   Impact      9 non-null      int64 \n",
      " 3   Confidence  9 non-null      int64 \n",
      " 4   Efforts     9 non-null      int64 \n",
      "dtypes: int64(4), object(1)\n",
      "memory usage: 488.0+ bytes\n"
     ]
    }
   ],
   "source": [
    "df_hypot.info()"
   ]
  },
  {
   "cell_type": "code",
   "execution_count": 11,
   "metadata": {},
   "outputs": [
    {
     "data": {
      "text/html": [
       "<div>\n",
       "<style scoped>\n",
       "    .dataframe tbody tr th:only-of-type {\n",
       "        vertical-align: middle;\n",
       "    }\n",
       "\n",
       "    .dataframe tbody tr th {\n",
       "        vertical-align: top;\n",
       "    }\n",
       "\n",
       "    .dataframe thead th {\n",
       "        text-align: right;\n",
       "    }\n",
       "</style>\n",
       "<table border=\"1\" class=\"dataframe\">\n",
       "  <thead>\n",
       "    <tr style=\"text-align: right;\">\n",
       "      <th></th>\n",
       "      <th>Hypothesis</th>\n",
       "      <th>Reach</th>\n",
       "      <th>Impact</th>\n",
       "      <th>Confidence</th>\n",
       "      <th>Efforts</th>\n",
       "    </tr>\n",
       "  </thead>\n",
       "  <tbody>\n",
       "    <tr>\n",
       "      <th>0</th>\n",
       "      <td>Добавить два новых канала привлечения трафика, что позволит привлекать на 30% больше пользователей</td>\n",
       "      <td>3</td>\n",
       "      <td>10</td>\n",
       "      <td>8</td>\n",
       "      <td>6</td>\n",
       "    </tr>\n",
       "    <tr>\n",
       "      <th>1</th>\n",
       "      <td>Запустить собственную службу доставки, что сократит срок доставки заказов</td>\n",
       "      <td>2</td>\n",
       "      <td>5</td>\n",
       "      <td>4</td>\n",
       "      <td>10</td>\n",
       "    </tr>\n",
       "    <tr>\n",
       "      <th>2</th>\n",
       "      <td>Добавить блоки рекомендаций товаров на сайт интернет магазина, чтобы повысить конверсию и средний чек заказа</td>\n",
       "      <td>8</td>\n",
       "      <td>3</td>\n",
       "      <td>7</td>\n",
       "      <td>3</td>\n",
       "    </tr>\n",
       "    <tr>\n",
       "      <th>3</th>\n",
       "      <td>Изменить структура категорий, что увеличит конверсию, т.к. пользователи быстрее найдут нужный товар</td>\n",
       "      <td>8</td>\n",
       "      <td>3</td>\n",
       "      <td>3</td>\n",
       "      <td>8</td>\n",
       "    </tr>\n",
       "    <tr>\n",
       "      <th>4</th>\n",
       "      <td>Изменить цвет фона главной страницы, чтобы увеличить вовлеченность пользователей</td>\n",
       "      <td>3</td>\n",
       "      <td>1</td>\n",
       "      <td>1</td>\n",
       "      <td>1</td>\n",
       "    </tr>\n",
       "    <tr>\n",
       "      <th>5</th>\n",
       "      <td>Добавить страницу отзывов клиентов о магазине, что позволит увеличить количество заказов</td>\n",
       "      <td>3</td>\n",
       "      <td>2</td>\n",
       "      <td>2</td>\n",
       "      <td>3</td>\n",
       "    </tr>\n",
       "    <tr>\n",
       "      <th>6</th>\n",
       "      <td>Показать на главной странице баннеры с актуальными акциями и распродажами, чтобы увеличить конверсию</td>\n",
       "      <td>5</td>\n",
       "      <td>3</td>\n",
       "      <td>8</td>\n",
       "      <td>3</td>\n",
       "    </tr>\n",
       "    <tr>\n",
       "      <th>7</th>\n",
       "      <td>Добавить форму подписки на все основные страницы, чтобы собрать базу клиентов для email-рассылок</td>\n",
       "      <td>10</td>\n",
       "      <td>7</td>\n",
       "      <td>8</td>\n",
       "      <td>5</td>\n",
       "    </tr>\n",
       "    <tr>\n",
       "      <th>8</th>\n",
       "      <td>Запустить акцию, дающую скидку на товар в день рождения</td>\n",
       "      <td>1</td>\n",
       "      <td>9</td>\n",
       "      <td>9</td>\n",
       "      <td>5</td>\n",
       "    </tr>\n",
       "  </tbody>\n",
       "</table>\n",
       "</div>"
      ],
      "text/plain": [
       "                                                                                                     Hypothesis  \\\n",
       "0  Добавить два новых канала привлечения трафика, что позволит привлекать на 30% больше пользователей             \n",
       "1  Запустить собственную службу доставки, что сократит срок доставки заказов                                      \n",
       "2  Добавить блоки рекомендаций товаров на сайт интернет магазина, чтобы повысить конверсию и средний чек заказа   \n",
       "3  Изменить структура категорий, что увеличит конверсию, т.к. пользователи быстрее найдут нужный товар            \n",
       "4  Изменить цвет фона главной страницы, чтобы увеличить вовлеченность пользователей                               \n",
       "5  Добавить страницу отзывов клиентов о магазине, что позволит увеличить количество заказов                       \n",
       "6  Показать на главной странице баннеры с актуальными акциями и распродажами, чтобы увеличить конверсию           \n",
       "7  Добавить форму подписки на все основные страницы, чтобы собрать базу клиентов для email-рассылок               \n",
       "8  Запустить акцию, дающую скидку на товар в день рождения                                                        \n",
       "\n",
       "   Reach  Impact  Confidence  Efforts  \n",
       "0  3      10      8           6        \n",
       "1  2      5       4           10       \n",
       "2  8      3       7           3        \n",
       "3  8      3       3           8        \n",
       "4  3      1       1           1        \n",
       "5  3      2       2           3        \n",
       "6  5      3       8           3        \n",
       "7  10     7       8           5        \n",
       "8  1      9       9           5        "
      ]
     },
     "execution_count": 11,
     "metadata": {},
     "output_type": "execute_result"
    }
   ],
   "source": [
    "df_hypot"
   ]
  },
  {
   "cell_type": "markdown",
   "metadata": {},
   "source": [
    "<div style=\"background-color: #CCCCCC;\">\n",
    "    \n",
    "Прочитали и вывели таблицу с гипотезами. Проблем с данными не обнаружено. Всего 9 гипотез по увеличению выручки интернет-магазина с параметрами *Reach, Impact, Confidence, Effort*.<br>\n",
    "Применим фреймворк ICE и RICE для приоритизации гипотез. Отсортируйте их по убыванию приоритета.\n",
    "\n",
    "</div>"
   ]
  },
  {
   "cell_type": "code",
   "execution_count": 12,
   "metadata": {},
   "outputs": [
    {
     "data": {
      "text/html": [
       "<div>\n",
       "<style scoped>\n",
       "    .dataframe tbody tr th:only-of-type {\n",
       "        vertical-align: middle;\n",
       "    }\n",
       "\n",
       "    .dataframe tbody tr th {\n",
       "        vertical-align: top;\n",
       "    }\n",
       "\n",
       "    .dataframe thead th {\n",
       "        text-align: right;\n",
       "    }\n",
       "</style>\n",
       "<table border=\"1\" class=\"dataframe\">\n",
       "  <thead>\n",
       "    <tr style=\"text-align: right;\">\n",
       "      <th></th>\n",
       "      <th>Hypothesis</th>\n",
       "      <th>Reach</th>\n",
       "      <th>Impact</th>\n",
       "      <th>Confidence</th>\n",
       "      <th>Efforts</th>\n",
       "      <th>ice</th>\n",
       "    </tr>\n",
       "  </thead>\n",
       "  <tbody>\n",
       "    <tr>\n",
       "      <th>8</th>\n",
       "      <td>Запустить акцию, дающую скидку на товар в день рождения</td>\n",
       "      <td>1</td>\n",
       "      <td>9</td>\n",
       "      <td>9</td>\n",
       "      <td>5</td>\n",
       "      <td>16.20</td>\n",
       "    </tr>\n",
       "    <tr>\n",
       "      <th>0</th>\n",
       "      <td>Добавить два новых канала привлечения трафика, что позволит привлекать на 30% больше пользователей</td>\n",
       "      <td>3</td>\n",
       "      <td>10</td>\n",
       "      <td>8</td>\n",
       "      <td>6</td>\n",
       "      <td>13.33</td>\n",
       "    </tr>\n",
       "    <tr>\n",
       "      <th>7</th>\n",
       "      <td>Добавить форму подписки на все основные страницы, чтобы собрать базу клиентов для email-рассылок</td>\n",
       "      <td>10</td>\n",
       "      <td>7</td>\n",
       "      <td>8</td>\n",
       "      <td>5</td>\n",
       "      <td>11.20</td>\n",
       "    </tr>\n",
       "    <tr>\n",
       "      <th>6</th>\n",
       "      <td>Показать на главной странице баннеры с актуальными акциями и распродажами, чтобы увеличить конверсию</td>\n",
       "      <td>5</td>\n",
       "      <td>3</td>\n",
       "      <td>8</td>\n",
       "      <td>3</td>\n",
       "      <td>8.00</td>\n",
       "    </tr>\n",
       "    <tr>\n",
       "      <th>2</th>\n",
       "      <td>Добавить блоки рекомендаций товаров на сайт интернет магазина, чтобы повысить конверсию и средний чек заказа</td>\n",
       "      <td>8</td>\n",
       "      <td>3</td>\n",
       "      <td>7</td>\n",
       "      <td>3</td>\n",
       "      <td>7.00</td>\n",
       "    </tr>\n",
       "    <tr>\n",
       "      <th>1</th>\n",
       "      <td>Запустить собственную службу доставки, что сократит срок доставки заказов</td>\n",
       "      <td>2</td>\n",
       "      <td>5</td>\n",
       "      <td>4</td>\n",
       "      <td>10</td>\n",
       "      <td>2.00</td>\n",
       "    </tr>\n",
       "    <tr>\n",
       "      <th>5</th>\n",
       "      <td>Добавить страницу отзывов клиентов о магазине, что позволит увеличить количество заказов</td>\n",
       "      <td>3</td>\n",
       "      <td>2</td>\n",
       "      <td>2</td>\n",
       "      <td>3</td>\n",
       "      <td>1.33</td>\n",
       "    </tr>\n",
       "    <tr>\n",
       "      <th>3</th>\n",
       "      <td>Изменить структура категорий, что увеличит конверсию, т.к. пользователи быстрее найдут нужный товар</td>\n",
       "      <td>8</td>\n",
       "      <td>3</td>\n",
       "      <td>3</td>\n",
       "      <td>8</td>\n",
       "      <td>1.12</td>\n",
       "    </tr>\n",
       "    <tr>\n",
       "      <th>4</th>\n",
       "      <td>Изменить цвет фона главной страницы, чтобы увеличить вовлеченность пользователей</td>\n",
       "      <td>3</td>\n",
       "      <td>1</td>\n",
       "      <td>1</td>\n",
       "      <td>1</td>\n",
       "      <td>1.00</td>\n",
       "    </tr>\n",
       "  </tbody>\n",
       "</table>\n",
       "</div>"
      ],
      "text/plain": [
       "                                                                                                     Hypothesis  \\\n",
       "8  Запустить акцию, дающую скидку на товар в день рождения                                                        \n",
       "0  Добавить два новых канала привлечения трафика, что позволит привлекать на 30% больше пользователей             \n",
       "7  Добавить форму подписки на все основные страницы, чтобы собрать базу клиентов для email-рассылок               \n",
       "6  Показать на главной странице баннеры с актуальными акциями и распродажами, чтобы увеличить конверсию           \n",
       "2  Добавить блоки рекомендаций товаров на сайт интернет магазина, чтобы повысить конверсию и средний чек заказа   \n",
       "1  Запустить собственную службу доставки, что сократит срок доставки заказов                                      \n",
       "5  Добавить страницу отзывов клиентов о магазине, что позволит увеличить количество заказов                       \n",
       "3  Изменить структура категорий, что увеличит конверсию, т.к. пользователи быстрее найдут нужный товар            \n",
       "4  Изменить цвет фона главной страницы, чтобы увеличить вовлеченность пользователей                               \n",
       "\n",
       "   Reach  Impact  Confidence  Efforts    ice  \n",
       "8  1      9       9           5        16.20  \n",
       "0  3      10      8           6        13.33  \n",
       "7  10     7       8           5        11.20  \n",
       "6  5      3       8           3        8.00   \n",
       "2  8      3       7           3        7.00   \n",
       "1  2      5       4           10       2.00   \n",
       "5  3      2       2           3        1.33   \n",
       "3  8      3       3           8        1.12   \n",
       "4  3      1       1           1        1.00   "
      ]
     },
     "execution_count": 12,
     "metadata": {},
     "output_type": "execute_result"
    }
   ],
   "source": [
    "# Добавим столбец ice\n",
    "df_hypot['ice'] = round(df_hypot['Impact'] * df_hypot['Confidence'] / df_hypot['Efforts'], 2)\n",
    "df_hypot.sort_values(by='ice', ascending=False)"
   ]
  },
  {
   "cell_type": "markdown",
   "metadata": {},
   "source": [
    "При применении фреймворка ICE тройка лидеров выглядит так: 8, 0 и 7 гипотезы."
   ]
  },
  {
   "cell_type": "code",
   "execution_count": 13,
   "metadata": {},
   "outputs": [
    {
     "data": {
      "text/html": [
       "<div>\n",
       "<style scoped>\n",
       "    .dataframe tbody tr th:only-of-type {\n",
       "        vertical-align: middle;\n",
       "    }\n",
       "\n",
       "    .dataframe tbody tr th {\n",
       "        vertical-align: top;\n",
       "    }\n",
       "\n",
       "    .dataframe thead th {\n",
       "        text-align: right;\n",
       "    }\n",
       "</style>\n",
       "<table border=\"1\" class=\"dataframe\">\n",
       "  <thead>\n",
       "    <tr style=\"text-align: right;\">\n",
       "      <th></th>\n",
       "      <th>Hypothesis</th>\n",
       "      <th>Reach</th>\n",
       "      <th>Impact</th>\n",
       "      <th>Confidence</th>\n",
       "      <th>Efforts</th>\n",
       "      <th>ice</th>\n",
       "      <th>rice</th>\n",
       "    </tr>\n",
       "  </thead>\n",
       "  <tbody>\n",
       "    <tr>\n",
       "      <th>7</th>\n",
       "      <td>Добавить форму подписки на все основные страницы, чтобы собрать базу клиентов для email-рассылок</td>\n",
       "      <td>10</td>\n",
       "      <td>7</td>\n",
       "      <td>8</td>\n",
       "      <td>5</td>\n",
       "      <td>11.20</td>\n",
       "      <td>112.0</td>\n",
       "    </tr>\n",
       "    <tr>\n",
       "      <th>2</th>\n",
       "      <td>Добавить блоки рекомендаций товаров на сайт интернет магазина, чтобы повысить конверсию и средний чек заказа</td>\n",
       "      <td>8</td>\n",
       "      <td>3</td>\n",
       "      <td>7</td>\n",
       "      <td>3</td>\n",
       "      <td>7.00</td>\n",
       "      <td>56.0</td>\n",
       "    </tr>\n",
       "    <tr>\n",
       "      <th>0</th>\n",
       "      <td>Добавить два новых канала привлечения трафика, что позволит привлекать на 30% больше пользователей</td>\n",
       "      <td>3</td>\n",
       "      <td>10</td>\n",
       "      <td>8</td>\n",
       "      <td>6</td>\n",
       "      <td>13.33</td>\n",
       "      <td>40.0</td>\n",
       "    </tr>\n",
       "    <tr>\n",
       "      <th>6</th>\n",
       "      <td>Показать на главной странице баннеры с актуальными акциями и распродажами, чтобы увеличить конверсию</td>\n",
       "      <td>5</td>\n",
       "      <td>3</td>\n",
       "      <td>8</td>\n",
       "      <td>3</td>\n",
       "      <td>8.00</td>\n",
       "      <td>40.0</td>\n",
       "    </tr>\n",
       "    <tr>\n",
       "      <th>8</th>\n",
       "      <td>Запустить акцию, дающую скидку на товар в день рождения</td>\n",
       "      <td>1</td>\n",
       "      <td>9</td>\n",
       "      <td>9</td>\n",
       "      <td>5</td>\n",
       "      <td>16.20</td>\n",
       "      <td>16.2</td>\n",
       "    </tr>\n",
       "    <tr>\n",
       "      <th>3</th>\n",
       "      <td>Изменить структура категорий, что увеличит конверсию, т.к. пользователи быстрее найдут нужный товар</td>\n",
       "      <td>8</td>\n",
       "      <td>3</td>\n",
       "      <td>3</td>\n",
       "      <td>8</td>\n",
       "      <td>1.12</td>\n",
       "      <td>9.0</td>\n",
       "    </tr>\n",
       "    <tr>\n",
       "      <th>1</th>\n",
       "      <td>Запустить собственную службу доставки, что сократит срок доставки заказов</td>\n",
       "      <td>2</td>\n",
       "      <td>5</td>\n",
       "      <td>4</td>\n",
       "      <td>10</td>\n",
       "      <td>2.00</td>\n",
       "      <td>4.0</td>\n",
       "    </tr>\n",
       "    <tr>\n",
       "      <th>5</th>\n",
       "      <td>Добавить страницу отзывов клиентов о магазине, что позволит увеличить количество заказов</td>\n",
       "      <td>3</td>\n",
       "      <td>2</td>\n",
       "      <td>2</td>\n",
       "      <td>3</td>\n",
       "      <td>1.33</td>\n",
       "      <td>4.0</td>\n",
       "    </tr>\n",
       "    <tr>\n",
       "      <th>4</th>\n",
       "      <td>Изменить цвет фона главной страницы, чтобы увеличить вовлеченность пользователей</td>\n",
       "      <td>3</td>\n",
       "      <td>1</td>\n",
       "      <td>1</td>\n",
       "      <td>1</td>\n",
       "      <td>1.00</td>\n",
       "      <td>3.0</td>\n",
       "    </tr>\n",
       "  </tbody>\n",
       "</table>\n",
       "</div>"
      ],
      "text/plain": [
       "                                                                                                     Hypothesis  \\\n",
       "7  Добавить форму подписки на все основные страницы, чтобы собрать базу клиентов для email-рассылок               \n",
       "2  Добавить блоки рекомендаций товаров на сайт интернет магазина, чтобы повысить конверсию и средний чек заказа   \n",
       "0  Добавить два новых канала привлечения трафика, что позволит привлекать на 30% больше пользователей             \n",
       "6  Показать на главной странице баннеры с актуальными акциями и распродажами, чтобы увеличить конверсию           \n",
       "8  Запустить акцию, дающую скидку на товар в день рождения                                                        \n",
       "3  Изменить структура категорий, что увеличит конверсию, т.к. пользователи быстрее найдут нужный товар            \n",
       "1  Запустить собственную службу доставки, что сократит срок доставки заказов                                      \n",
       "5  Добавить страницу отзывов клиентов о магазине, что позволит увеличить количество заказов                       \n",
       "4  Изменить цвет фона главной страницы, чтобы увеличить вовлеченность пользователей                               \n",
       "\n",
       "   Reach  Impact  Confidence  Efforts    ice   rice  \n",
       "7  10     7       8           5        11.20  112.0  \n",
       "2  8      3       7           3        7.00   56.0   \n",
       "0  3      10      8           6        13.33  40.0   \n",
       "6  5      3       8           3        8.00   40.0   \n",
       "8  1      9       9           5        16.20  16.2   \n",
       "3  8      3       3           8        1.12   9.0    \n",
       "1  2      5       4           10       2.00   4.0    \n",
       "5  3      2       2           3        1.33   4.0    \n",
       "4  3      1       1           1        1.00   3.0    "
      ]
     },
     "execution_count": 13,
     "metadata": {},
     "output_type": "execute_result"
    }
   ],
   "source": [
    "# Добавим столбец rice\n",
    "df_hypot['rice'] = round(df_hypot['Reach'] * df_hypot['Impact'] * df_hypot['Confidence'] / df_hypot['Efforts'], 2)\n",
    "df_hypot.sort_values(by='rice', ascending=False)"
   ]
  },
  {
   "cell_type": "markdown",
   "metadata": {},
   "source": [
    "При применении фреймворка RICE тройка лидеров изменилась: 7, 2 и 0 гипотезы. Так произошло потому, что фреймворк RICE учитывает охват пользователей *Reach*, а он самый высокий у седьмой гипотезы."
   ]
  },
  {
   "cell_type": "code",
   "execution_count": 14,
   "metadata": {},
   "outputs": [
    {
     "data": {
      "text/plain": [
       "'Добавить форму подписки на все основные страницы, чтобы собрать базу клиентов для email-рассылок'"
      ]
     },
     "execution_count": 14,
     "metadata": {},
     "output_type": "execute_result"
    }
   ],
   "source": [
    "df_hypot['Hypothesis'][7] # выведем полный текст гипотезы"
   ]
  },
  {
   "cell_type": "markdown",
   "metadata": {},
   "source": [
    "<div style=\"background-color: #CCCCCC;\">\n",
    "    \n",
    "Рассмотрели все 9 гипотез по увеличению выручки интернет-магазина.<br>\n",
    "Применили фреймворки ICE и RICE для приоритизации гипотез. При применении фреймворка ICE тройка лидеров выглядит так: 8, 0 и 7 гипотезы. При применении фреймворка RICE тройка лидеров изменяется на: 7, 2 и 0 гипотезы. Это происходит при учёте охвата пользователей. Седьмая гипотеза, которую предстоит проверить звучит следующим образом: *Добавить форму подписки на все основные страницы, чтобы собрать базу клиентов для email-рассылок*.\n",
    "</div>"
   ]
  },
  {
   "cell_type": "markdown",
   "metadata": {},
   "source": [
    "## Предобработка данных"
   ]
  },
  {
   "cell_type": "markdown",
   "metadata": {},
   "source": [
    "### Общая информация о данных"
   ]
  },
  {
   "cell_type": "markdown",
   "metadata": {},
   "source": [
    "Напишем функцию для ознакомления с датафреймами."
   ]
  },
  {
   "cell_type": "code",
   "execution_count": 15,
   "metadata": {},
   "outputs": [],
   "source": [
    "def print_df_info(df):\n",
    "    display(df.head()) # первые строки\n",
    "    print('\\nОбщая информация:')\n",
    "    print(df.info(), end='\\n\\n') # общая информация \n",
    "    print('Количество уникальных значений колонок:')\n",
    "    for col in df.columns: # количество уникальных значений\n",
    "        print(f'  {col}: {df[col].nunique()}')\n",
    "    print('')\n",
    "    print('Количество дубликатов:', df.duplicated().sum()) # количество явных дубликатов"
   ]
  },
  {
   "cell_type": "markdown",
   "metadata": {},
   "source": [
    "Используем функцию *print_df_info* для непосредственного ознакомления с датафреймами. Ознакомимся с *orders*."
   ]
  },
  {
   "cell_type": "code",
   "execution_count": 16,
   "metadata": {},
   "outputs": [
    {
     "data": {
      "text/html": [
       "<div>\n",
       "<style scoped>\n",
       "    .dataframe tbody tr th:only-of-type {\n",
       "        vertical-align: middle;\n",
       "    }\n",
       "\n",
       "    .dataframe tbody tr th {\n",
       "        vertical-align: top;\n",
       "    }\n",
       "\n",
       "    .dataframe thead th {\n",
       "        text-align: right;\n",
       "    }\n",
       "</style>\n",
       "<table border=\"1\" class=\"dataframe\">\n",
       "  <thead>\n",
       "    <tr style=\"text-align: right;\">\n",
       "      <th></th>\n",
       "      <th>transactionId</th>\n",
       "      <th>visitorId</th>\n",
       "      <th>date</th>\n",
       "      <th>revenue</th>\n",
       "      <th>group</th>\n",
       "    </tr>\n",
       "  </thead>\n",
       "  <tbody>\n",
       "    <tr>\n",
       "      <th>0</th>\n",
       "      <td>3667963787</td>\n",
       "      <td>3312258926</td>\n",
       "      <td>2019-08-15</td>\n",
       "      <td>1650</td>\n",
       "      <td>B</td>\n",
       "    </tr>\n",
       "    <tr>\n",
       "      <th>1</th>\n",
       "      <td>2804400009</td>\n",
       "      <td>3642806036</td>\n",
       "      <td>2019-08-15</td>\n",
       "      <td>730</td>\n",
       "      <td>B</td>\n",
       "    </tr>\n",
       "    <tr>\n",
       "      <th>2</th>\n",
       "      <td>2961555356</td>\n",
       "      <td>4069496402</td>\n",
       "      <td>2019-08-15</td>\n",
       "      <td>400</td>\n",
       "      <td>A</td>\n",
       "    </tr>\n",
       "    <tr>\n",
       "      <th>3</th>\n",
       "      <td>3797467345</td>\n",
       "      <td>1196621759</td>\n",
       "      <td>2019-08-15</td>\n",
       "      <td>9759</td>\n",
       "      <td>B</td>\n",
       "    </tr>\n",
       "    <tr>\n",
       "      <th>4</th>\n",
       "      <td>2282983706</td>\n",
       "      <td>2322279887</td>\n",
       "      <td>2019-08-15</td>\n",
       "      <td>2308</td>\n",
       "      <td>B</td>\n",
       "    </tr>\n",
       "  </tbody>\n",
       "</table>\n",
       "</div>"
      ],
      "text/plain": [
       "   transactionId   visitorId        date  revenue group\n",
       "0  3667963787     3312258926  2019-08-15  1650     B   \n",
       "1  2804400009     3642806036  2019-08-15  730      B   \n",
       "2  2961555356     4069496402  2019-08-15  400      A   \n",
       "3  3797467345     1196621759  2019-08-15  9759     B   \n",
       "4  2282983706     2322279887  2019-08-15  2308     B   "
      ]
     },
     "metadata": {},
     "output_type": "display_data"
    },
    {
     "name": "stdout",
     "output_type": "stream",
     "text": [
      "\n",
      "Общая информация:\n",
      "<class 'pandas.core.frame.DataFrame'>\n",
      "RangeIndex: 1197 entries, 0 to 1196\n",
      "Data columns (total 5 columns):\n",
      " #   Column         Non-Null Count  Dtype \n",
      "---  ------         --------------  ----- \n",
      " 0   transactionId  1197 non-null   int64 \n",
      " 1   visitorId      1197 non-null   int64 \n",
      " 2   date           1197 non-null   object\n",
      " 3   revenue        1197 non-null   int64 \n",
      " 4   group          1197 non-null   object\n",
      "dtypes: int64(3), object(2)\n",
      "memory usage: 46.9+ KB\n",
      "None\n",
      "\n",
      "Количество уникальных значений колонок:\n",
      "  transactionId: 1197\n",
      "  visitorId: 1031\n",
      "  date: 31\n",
      "  revenue: 713\n",
      "  group: 2\n",
      "\n",
      "Количество дубликатов: 0\n"
     ]
    }
   ],
   "source": [
    "print_df_info(orders)"
   ]
  },
  {
   "cell_type": "markdown",
   "metadata": {},
   "source": [
    "<div style=\"background-color: #CCCCCC;\">\n",
    "\n",
    "Датафрейм *orders* - таблица с заказами в которой 1197 строк, 5 столбцов. Столбцы представляют собой:\n",
    "- *transactionId* - идентификатор заказа, 1197 заказов. Тип данных int64 - соответствует;\n",
    "- *visitorId* - идентификатор пользователя, 1031 пользователь, который совершил заказ. Понятно, что некоторые пользователи совершили не по одному заказу.  Тип данных int64 - соответствует;\n",
    "- *date* - дата, когда был совершён заказ - 31 день. Похоже, что рассматриваем один месяц.  Тип данных object - не соответствует. Далее разбиремся подробнее;\n",
    "- *revenue* - выручка заказа - 713 различных значенийю Тип данных int64 - соответствует;\n",
    "- *group* -  группа A/B-теста, в которую попал заказ, в тесте всего 2 группы. Тип данных object - не соответствует.\n",
    "\n",
    "Явных дубликатов не обнаружено. В целом данные хорошего качества.\n",
    "</div>"
   ]
  },
  {
   "cell_type": "code",
   "execution_count": 17,
   "metadata": {},
   "outputs": [
    {
     "data": {
      "text/html": [
       "<div>\n",
       "<style scoped>\n",
       "    .dataframe tbody tr th:only-of-type {\n",
       "        vertical-align: middle;\n",
       "    }\n",
       "\n",
       "    .dataframe tbody tr th {\n",
       "        vertical-align: top;\n",
       "    }\n",
       "\n",
       "    .dataframe thead th {\n",
       "        text-align: right;\n",
       "    }\n",
       "</style>\n",
       "<table border=\"1\" class=\"dataframe\">\n",
       "  <thead>\n",
       "    <tr style=\"text-align: right;\">\n",
       "      <th></th>\n",
       "      <th>date</th>\n",
       "      <th>group</th>\n",
       "      <th>visitors</th>\n",
       "    </tr>\n",
       "  </thead>\n",
       "  <tbody>\n",
       "    <tr>\n",
       "      <th>0</th>\n",
       "      <td>2019-08-01</td>\n",
       "      <td>A</td>\n",
       "      <td>719</td>\n",
       "    </tr>\n",
       "    <tr>\n",
       "      <th>1</th>\n",
       "      <td>2019-08-02</td>\n",
       "      <td>A</td>\n",
       "      <td>619</td>\n",
       "    </tr>\n",
       "    <tr>\n",
       "      <th>2</th>\n",
       "      <td>2019-08-03</td>\n",
       "      <td>A</td>\n",
       "      <td>507</td>\n",
       "    </tr>\n",
       "    <tr>\n",
       "      <th>3</th>\n",
       "      <td>2019-08-04</td>\n",
       "      <td>A</td>\n",
       "      <td>717</td>\n",
       "    </tr>\n",
       "    <tr>\n",
       "      <th>4</th>\n",
       "      <td>2019-08-05</td>\n",
       "      <td>A</td>\n",
       "      <td>756</td>\n",
       "    </tr>\n",
       "  </tbody>\n",
       "</table>\n",
       "</div>"
      ],
      "text/plain": [
       "         date group  visitors\n",
       "0  2019-08-01  A     719     \n",
       "1  2019-08-02  A     619     \n",
       "2  2019-08-03  A     507     \n",
       "3  2019-08-04  A     717     \n",
       "4  2019-08-05  A     756     "
      ]
     },
     "metadata": {},
     "output_type": "display_data"
    },
    {
     "name": "stdout",
     "output_type": "stream",
     "text": [
      "\n",
      "Общая информация:\n",
      "<class 'pandas.core.frame.DataFrame'>\n",
      "RangeIndex: 62 entries, 0 to 61\n",
      "Data columns (total 3 columns):\n",
      " #   Column    Non-Null Count  Dtype \n",
      "---  ------    --------------  ----- \n",
      " 0   date      62 non-null     object\n",
      " 1   group     62 non-null     object\n",
      " 2   visitors  62 non-null     int64 \n",
      "dtypes: int64(1), object(2)\n",
      "memory usage: 1.6+ KB\n",
      "None\n",
      "\n",
      "Количество уникальных значений колонок:\n",
      "  date: 31\n",
      "  group: 2\n",
      "  visitors: 58\n",
      "\n",
      "Количество дубликатов: 0\n"
     ]
    }
   ],
   "source": [
    "print_df_info(visitors)"
   ]
  },
  {
   "cell_type": "markdown",
   "metadata": {},
   "source": [
    "<div style=\"background-color: #CCCCCC;\">\n",
    "\n",
    "Датафрейм *visitors* - таблица с количеством посетителей на каждый день, в которой 62 строки, 3 столбца. Столбцы представляют собой:\n",
    "- *date* - дата, 62 значения по 31 дню для каждой группы. Тип данных object - не соответствует;\n",
    "- *group* - группа A/B-теста, 2 группы - здесь всё понятно. Тип данных object - соответствует.;\n",
    "- *visitors* - количество пользователей в указанную дату в указанной группе A/B-теста, 58 значений.  Тип данных int64 - соответствует.\n",
    "\n",
    "Явных дубликатов не обнаружено. В целом данные хорошего качества.\n",
    "</div>"
   ]
  },
  {
   "cell_type": "markdown",
   "metadata": {},
   "source": [
    "### Предобработка Orders"
   ]
  },
  {
   "cell_type": "markdown",
   "metadata": {},
   "source": [
    "Изменим тип данных столбца *date*."
   ]
  },
  {
   "cell_type": "code",
   "execution_count": 18,
   "metadata": {},
   "outputs": [
    {
     "data": {
      "text/plain": [
       "0   2019-08-15\n",
       "1   2019-08-15\n",
       "2   2019-08-15\n",
       "3   2019-08-15\n",
       "4   2019-08-15\n",
       "Name: date, dtype: datetime64[ns]"
      ]
     },
     "execution_count": 18,
     "metadata": {},
     "output_type": "execute_result"
    }
   ],
   "source": [
    "orders['date'] = orders['date'].map(lambda x: dt.datetime.strptime(x, '%Y-%m-%d'))\n",
    "orders['date'].head()"
   ]
  },
  {
   "cell_type": "code",
   "execution_count": 19,
   "metadata": {},
   "outputs": [
    {
     "data": {
      "text/plain": [
       "Timestamp('2019-08-01 00:00:00')"
      ]
     },
     "execution_count": 19,
     "metadata": {},
     "output_type": "execute_result"
    }
   ],
   "source": [
    "orders['date'].min()"
   ]
  },
  {
   "cell_type": "code",
   "execution_count": 20,
   "metadata": {},
   "outputs": [
    {
     "data": {
      "text/plain": [
       "Timestamp('2019-08-31 00:00:00')"
      ]
     },
     "execution_count": 20,
     "metadata": {},
     "output_type": "execute_result"
    }
   ],
   "source": [
    "orders['date'].max()"
   ]
  },
  {
   "cell_type": "markdown",
   "metadata": {},
   "source": [
    "Измненив тип данных на datetime64, выяснили период в который проводился тест. С 1 августа 2019 года по 31 августа 2019 года."
   ]
  },
  {
   "cell_type": "code",
   "execution_count": 21,
   "metadata": {},
   "outputs": [
    {
     "data": {
      "text/plain": [
       "B    640\n",
       "A    557\n",
       "Name: group, dtype: int64"
      ]
     },
     "execution_count": 21,
     "metadata": {},
     "output_type": "execute_result"
    }
   ],
   "source": [
    "orders['group'].value_counts()"
   ]
  },
  {
   "cell_type": "markdown",
   "metadata": {},
   "source": [
    "Группы распределились не равномерно. Группа В - 640 заказов, группа А - 557 заказов."
   ]
  },
  {
   "cell_type": "code",
   "execution_count": 22,
   "metadata": {},
   "outputs": [
    {
     "data": {
      "text/plain": [
       "count    1.197000e+03\n",
       "mean     8.348006e+03\n",
       "std      3.919113e+04\n",
       "min      5.000000e+01\n",
       "25%      1.220000e+03\n",
       "50%      2.978000e+03\n",
       "75%      8.290000e+03\n",
       "max      1.294500e+06\n",
       "Name: revenue, dtype: float64"
      ]
     },
     "execution_count": 22,
     "metadata": {},
     "output_type": "execute_result"
    }
   ],
   "source": [
    "orders['revenue'].describe()"
   ]
  },
  {
   "cell_type": "markdown",
   "metadata": {},
   "source": [
    "Максимальное значение в 1 294 500 руб. при медиане в 2 978 выглядит аномальным. Посмотрим как выглядит топ-10 значений."
   ]
  },
  {
   "cell_type": "code",
   "execution_count": 23,
   "metadata": {},
   "outputs": [
    {
     "data": {
      "text/plain": [
       "425     1294500\n",
       "1196    202740 \n",
       "858     93940  \n",
       "1136    92550  \n",
       "744     86620  \n",
       "682     78990  \n",
       "662     78990  \n",
       "743     67990  \n",
       "1103    66350  \n",
       "1099    65710  \n",
       "Name: revenue, dtype: int64"
      ]
     },
     "execution_count": 23,
     "metadata": {},
     "output_type": "execute_result"
    }
   ],
   "source": [
    "orders['revenue'].sort_values(ascending=False).head(10)"
   ]
  },
  {
   "cell_type": "markdown",
   "metadata": {},
   "source": [
    "Два значения явно выделяются. Убедимся в этом на графике ящик с усами."
   ]
  },
  {
   "cell_type": "code",
   "execution_count": 24,
   "metadata": {},
   "outputs": [
    {
     "data": {
      "image/png": "[encoded data removed]",
      "text/plain": [
       "<Figure size 432x288 with 1 Axes>"
      ]
     },
     "metadata": {
      "needs_background": "light"
     },
     "output_type": "display_data"
    }
   ],
   "source": [
    "plt.boxplot(orders['revenue'])\n",
    "plt.title(label='Ящик с усами для стоимости заказов')\n",
    "plt.ylabel('Стоимость');"
   ]
  },
  {
   "cell_type": "code",
   "execution_count": 25,
   "metadata": {},
   "outputs": [],
   "source": [
    "df_b = orders.loc[orders['group'] == 'B']\n",
    "df_a = orders.loc[orders['group'] == 'A']"
   ]
  },
  {
   "cell_type": "code",
   "execution_count": 26,
   "metadata": {},
   "outputs": [
    {
     "data": {
      "text/plain": [
       "58"
      ]
     },
     "execution_count": 26,
     "metadata": {},
     "output_type": "execute_result"
    }
   ],
   "source": [
    "df_b[df_b['visitorId'].isin(df_a['visitorId'])]['visitorId'].nunique()"
   ]
  },
  {
   "cell_type": "markdown",
   "metadata": {},
   "source": [
    "58 пользователей которые совершили заказы и в группе А и в группе В. Скорее всего это постоянные клиенты компании. Их не стоит удалять."
   ]
  },
  {
   "cell_type": "markdown",
   "metadata": {},
   "source": [
    "### Предобработка Visitors"
   ]
  },
  {
   "cell_type": "markdown",
   "metadata": {},
   "source": [
    "Изменим тип данных столбца *date*."
   ]
  },
  {
   "cell_type": "code",
   "execution_count": 27,
   "metadata": {},
   "outputs": [
    {
     "data": {
      "text/plain": [
       "0   2019-08-01\n",
       "1   2019-08-02\n",
       "2   2019-08-03\n",
       "3   2019-08-04\n",
       "4   2019-08-05\n",
       "Name: date, dtype: datetime64[ns]"
      ]
     },
     "execution_count": 27,
     "metadata": {},
     "output_type": "execute_result"
    }
   ],
   "source": [
    "visitors['date'] = visitors['date'].map(lambda x: dt.datetime.strptime(x, '%Y-%m-%d'))\n",
    "visitors['date'].head()"
   ]
  },
  {
   "cell_type": "code",
   "execution_count": 28,
   "metadata": {},
   "outputs": [
    {
     "data": {
      "text/plain": [
       "Timestamp('2019-08-01 00:00:00')"
      ]
     },
     "execution_count": 28,
     "metadata": {},
     "output_type": "execute_result"
    }
   ],
   "source": [
    "visitors['date'].min()"
   ]
  },
  {
   "cell_type": "code",
   "execution_count": 29,
   "metadata": {},
   "outputs": [
    {
     "data": {
      "text/plain": [
       "Timestamp('2019-08-31 00:00:00')"
      ]
     },
     "execution_count": 29,
     "metadata": {},
     "output_type": "execute_result"
    }
   ],
   "source": [
    "visitors['date'].max()"
   ]
  },
  {
   "cell_type": "markdown",
   "metadata": {},
   "source": [
    "Данные также за период с 1 августа 2019 года по 31 августа 2019 года."
   ]
  },
  {
   "cell_type": "markdown",
   "metadata": {},
   "source": [
    "<div style=\"background-color: #CCCCCC;\">\n",
    "\n",
    "Провели первоначальное знакомство и предобработку исходных данных, так как данные хорошего качества, много времени не потратили.<br>\n",
    "**Таблица *orders*.**<br>\n",
    "Всего 1197 заказов. Некоторые пользователи совершали более одного заказа.  Тест проходил в период  с 1 по 31 августа 2019 года, изменили тип данных столбца *date*. В тесте всего 2 группы. Явных дубликатов не обнаружено. Удалили две строки, так как значения столбца *revenue* были аномальны и могли сильно исказить результаты тестирования.<br> \n",
    "    \n",
    "**Таблица *visitors*.**<br>\n",
    "Данные за каждый день с 1 по 31 августа 2019 года - количество пользователей в указанную дату в указанной группе A/B-теста. Изменили тип данных столбца *date*. Данные также за две группы A/B-теста. Явных дубликатов не обнаружено.                                                                                                                                 \n",
    "</div>"
   ]
  },
  {
   "cell_type": "markdown",
   "metadata": {},
   "source": [
    "## Исследовательский анализ"
   ]
  },
  {
   "cell_type": "markdown",
   "metadata": {},
   "source": [
    "### Подготовка данных"
   ]
  },
  {
   "cell_type": "markdown",
   "metadata": {},
   "source": [
    "Создадим массив уникальных пар значений дата - группа."
   ]
  },
  {
   "cell_type": "code",
   "execution_count": 30,
   "metadata": {},
   "outputs": [
    {
     "data": {
      "text/html": [
       "<div>\n",
       "<style scoped>\n",
       "    .dataframe tbody tr th:only-of-type {\n",
       "        vertical-align: middle;\n",
       "    }\n",
       "\n",
       "    .dataframe tbody tr th {\n",
       "        vertical-align: top;\n",
       "    }\n",
       "\n",
       "    .dataframe thead th {\n",
       "        text-align: right;\n",
       "    }\n",
       "</style>\n",
       "<table border=\"1\" class=\"dataframe\">\n",
       "  <thead>\n",
       "    <tr style=\"text-align: right;\">\n",
       "      <th></th>\n",
       "      <th>date</th>\n",
       "      <th>group</th>\n",
       "    </tr>\n",
       "  </thead>\n",
       "  <tbody>\n",
       "    <tr>\n",
       "      <th>0</th>\n",
       "      <td>2019-08-15</td>\n",
       "      <td>B</td>\n",
       "    </tr>\n",
       "    <tr>\n",
       "      <th>1</th>\n",
       "      <td>2019-08-15</td>\n",
       "      <td>A</td>\n",
       "    </tr>\n",
       "    <tr>\n",
       "      <th>2</th>\n",
       "      <td>2019-08-16</td>\n",
       "      <td>A</td>\n",
       "    </tr>\n",
       "    <tr>\n",
       "      <th>3</th>\n",
       "      <td>2019-08-16</td>\n",
       "      <td>B</td>\n",
       "    </tr>\n",
       "    <tr>\n",
       "      <th>4</th>\n",
       "      <td>2019-08-01</td>\n",
       "      <td>A</td>\n",
       "    </tr>\n",
       "  </tbody>\n",
       "</table>\n",
       "</div>"
      ],
      "text/plain": [
       "        date group\n",
       "0 2019-08-15  B   \n",
       "1 2019-08-15  A   \n",
       "2 2019-08-16  A   \n",
       "3 2019-08-16  B   \n",
       "4 2019-08-01  A   "
      ]
     },
     "execution_count": 30,
     "metadata": {},
     "output_type": "execute_result"
    }
   ],
   "source": [
    "dates_group = orders[['date', 'group']].drop_duplicates().reset_index(drop=True)\n",
    "dates_group.head()"
   ]
  },
  {
   "cell_type": "markdown",
   "metadata": {},
   "source": [
    "Создадим кумулятивные данные по таблице с заказами."
   ]
  },
  {
   "cell_type": "code",
   "execution_count": 31,
   "metadata": {},
   "outputs": [
    {
     "data": {
      "text/html": [
       "<div>\n",
       "<style scoped>\n",
       "    .dataframe tbody tr th:only-of-type {\n",
       "        vertical-align: middle;\n",
       "    }\n",
       "\n",
       "    .dataframe tbody tr th {\n",
       "        vertical-align: top;\n",
       "    }\n",
       "\n",
       "    .dataframe thead th {\n",
       "        text-align: right;\n",
       "    }\n",
       "</style>\n",
       "<table border=\"1\" class=\"dataframe\">\n",
       "  <thead>\n",
       "    <tr style=\"text-align: right;\">\n",
       "      <th></th>\n",
       "      <th>date</th>\n",
       "      <th>group</th>\n",
       "      <th>transactionId</th>\n",
       "      <th>visitorId</th>\n",
       "      <th>revenue</th>\n",
       "    </tr>\n",
       "  </thead>\n",
       "  <tbody>\n",
       "    <tr>\n",
       "      <th>0</th>\n",
       "      <td>2019-08-01</td>\n",
       "      <td>A</td>\n",
       "      <td>24</td>\n",
       "      <td>20</td>\n",
       "      <td>148579</td>\n",
       "    </tr>\n",
       "    <tr>\n",
       "      <th>1</th>\n",
       "      <td>2019-08-01</td>\n",
       "      <td>B</td>\n",
       "      <td>21</td>\n",
       "      <td>20</td>\n",
       "      <td>101217</td>\n",
       "    </tr>\n",
       "    <tr>\n",
       "      <th>2</th>\n",
       "      <td>2019-08-02</td>\n",
       "      <td>A</td>\n",
       "      <td>44</td>\n",
       "      <td>38</td>\n",
       "      <td>242401</td>\n",
       "    </tr>\n",
       "    <tr>\n",
       "      <th>3</th>\n",
       "      <td>2019-08-02</td>\n",
       "      <td>B</td>\n",
       "      <td>45</td>\n",
       "      <td>43</td>\n",
       "      <td>266748</td>\n",
       "    </tr>\n",
       "    <tr>\n",
       "      <th>4</th>\n",
       "      <td>2019-08-03</td>\n",
       "      <td>A</td>\n",
       "      <td>68</td>\n",
       "      <td>62</td>\n",
       "      <td>354874</td>\n",
       "    </tr>\n",
       "  </tbody>\n",
       "</table>\n",
       "</div>"
      ],
      "text/plain": [
       "        date group  transactionId  visitorId  revenue\n",
       "0 2019-08-01  A     24             20         148579 \n",
       "1 2019-08-01  B     21             20         101217 \n",
       "2 2019-08-02  A     44             38         242401 \n",
       "3 2019-08-02  B     45             43         266748 \n",
       "4 2019-08-03  A     68             62         354874 "
      ]
     },
     "execution_count": 31,
     "metadata": {},
     "output_type": "execute_result"
    }
   ],
   "source": [
    "orders_agregat = dates_group.apply(lambda x: orders[np.logical_and(orders['date'] <= x['date'], orders['group'] == x['group'])]\\\n",
    "                                 .agg({'date': 'max', 'group': 'max', 'transactionId': 'nunique', 'visitorId': 'nunique', 'revenue': 'sum'}),\\\n",
    "                                 axis = 1).sort_values(by=['date', 'group']).reset_index(drop=True)\n",
    "orders_agregat.head()"
   ]
  },
  {
   "cell_type": "markdown",
   "metadata": {},
   "source": [
    "Создадим кумулятивные данные по таблице с покупателями."
   ]
  },
  {
   "cell_type": "code",
   "execution_count": 32,
   "metadata": {},
   "outputs": [
    {
     "data": {
      "text/html": [
       "<div>\n",
       "<style scoped>\n",
       "    .dataframe tbody tr th:only-of-type {\n",
       "        vertical-align: middle;\n",
       "    }\n",
       "\n",
       "    .dataframe tbody tr th {\n",
       "        vertical-align: top;\n",
       "    }\n",
       "\n",
       "    .dataframe thead th {\n",
       "        text-align: right;\n",
       "    }\n",
       "</style>\n",
       "<table border=\"1\" class=\"dataframe\">\n",
       "  <thead>\n",
       "    <tr style=\"text-align: right;\">\n",
       "      <th></th>\n",
       "      <th>date</th>\n",
       "      <th>group</th>\n",
       "      <th>visitors</th>\n",
       "    </tr>\n",
       "  </thead>\n",
       "  <tbody>\n",
       "    <tr>\n",
       "      <th>0</th>\n",
       "      <td>2019-08-01</td>\n",
       "      <td>A</td>\n",
       "      <td>719</td>\n",
       "    </tr>\n",
       "    <tr>\n",
       "      <th>1</th>\n",
       "      <td>2019-08-01</td>\n",
       "      <td>B</td>\n",
       "      <td>713</td>\n",
       "    </tr>\n",
       "    <tr>\n",
       "      <th>2</th>\n",
       "      <td>2019-08-02</td>\n",
       "      <td>A</td>\n",
       "      <td>1338</td>\n",
       "    </tr>\n",
       "    <tr>\n",
       "      <th>3</th>\n",
       "      <td>2019-08-02</td>\n",
       "      <td>B</td>\n",
       "      <td>1294</td>\n",
       "    </tr>\n",
       "    <tr>\n",
       "      <th>4</th>\n",
       "      <td>2019-08-03</td>\n",
       "      <td>A</td>\n",
       "      <td>1845</td>\n",
       "    </tr>\n",
       "  </tbody>\n",
       "</table>\n",
       "</div>"
      ],
      "text/plain": [
       "        date group  visitors\n",
       "0 2019-08-01  A     719     \n",
       "1 2019-08-01  B     713     \n",
       "2 2019-08-02  A     1338    \n",
       "3 2019-08-02  B     1294    \n",
       "4 2019-08-03  A     1845    "
      ]
     },
     "execution_count": 32,
     "metadata": {},
     "output_type": "execute_result"
    }
   ],
   "source": [
    "visitors_agregat = dates_group.apply(lambda x: visitors[np.logical_and(visitors['date'] <= x['date'], visitors['group'] == x['group'])]\\\n",
    "                                 .agg({'date': 'max', 'group': 'max', 'visitors': 'sum'}),\\\n",
    "                                 axis = 1).sort_values(by=['date', 'group']).reset_index(drop=True)\n",
    "visitors_agregat.head()"
   ]
  },
  {
   "cell_type": "markdown",
   "metadata": {},
   "source": [
    "Объединим получившиеся таблицы."
   ]
  },
  {
   "cell_type": "code",
   "execution_count": 33,
   "metadata": {},
   "outputs": [
    {
     "data": {
      "text/html": [
       "<div>\n",
       "<style scoped>\n",
       "    .dataframe tbody tr th:only-of-type {\n",
       "        vertical-align: middle;\n",
       "    }\n",
       "\n",
       "    .dataframe tbody tr th {\n",
       "        vertical-align: top;\n",
       "    }\n",
       "\n",
       "    .dataframe thead th {\n",
       "        text-align: right;\n",
       "    }\n",
       "</style>\n",
       "<table border=\"1\" class=\"dataframe\">\n",
       "  <thead>\n",
       "    <tr style=\"text-align: right;\">\n",
       "      <th></th>\n",
       "      <th>date</th>\n",
       "      <th>group</th>\n",
       "      <th>transactionId</th>\n",
       "      <th>visitorId</th>\n",
       "      <th>revenue</th>\n",
       "      <th>visitors</th>\n",
       "    </tr>\n",
       "  </thead>\n",
       "  <tbody>\n",
       "    <tr>\n",
       "      <th>0</th>\n",
       "      <td>2019-08-01</td>\n",
       "      <td>A</td>\n",
       "      <td>24</td>\n",
       "      <td>20</td>\n",
       "      <td>148579</td>\n",
       "      <td>719</td>\n",
       "    </tr>\n",
       "    <tr>\n",
       "      <th>1</th>\n",
       "      <td>2019-08-01</td>\n",
       "      <td>B</td>\n",
       "      <td>21</td>\n",
       "      <td>20</td>\n",
       "      <td>101217</td>\n",
       "      <td>713</td>\n",
       "    </tr>\n",
       "    <tr>\n",
       "      <th>2</th>\n",
       "      <td>2019-08-02</td>\n",
       "      <td>A</td>\n",
       "      <td>44</td>\n",
       "      <td>38</td>\n",
       "      <td>242401</td>\n",
       "      <td>1338</td>\n",
       "    </tr>\n",
       "    <tr>\n",
       "      <th>3</th>\n",
       "      <td>2019-08-02</td>\n",
       "      <td>B</td>\n",
       "      <td>45</td>\n",
       "      <td>43</td>\n",
       "      <td>266748</td>\n",
       "      <td>1294</td>\n",
       "    </tr>\n",
       "    <tr>\n",
       "      <th>4</th>\n",
       "      <td>2019-08-03</td>\n",
       "      <td>A</td>\n",
       "      <td>68</td>\n",
       "      <td>62</td>\n",
       "      <td>354874</td>\n",
       "      <td>1845</td>\n",
       "    </tr>\n",
       "  </tbody>\n",
       "</table>\n",
       "</div>"
      ],
      "text/plain": [
       "        date group  transactionId  visitorId  revenue  visitors\n",
       "0 2019-08-01  A     24             20         148579   719     \n",
       "1 2019-08-01  B     21             20         101217   713     \n",
       "2 2019-08-02  A     44             38         242401   1338    \n",
       "3 2019-08-02  B     45             43         266748   1294    \n",
       "4 2019-08-03  A     68             62         354874   1845    "
      ]
     },
     "execution_count": 33,
     "metadata": {},
     "output_type": "execute_result"
    }
   ],
   "source": [
    "cumulative_df = orders_agregat.merge(visitors_agregat, left_on=['date', 'group'], right_on=['date', 'group'])\n",
    "cumulative_df.head()"
   ]
  },
  {
   "cell_type": "markdown",
   "metadata": {},
   "source": [
    "Теперь можем построить график кумулятивной выручки по группам."
   ]
  },
  {
   "cell_type": "markdown",
   "metadata": {},
   "source": [
    "###  График кумулятивной выручки"
   ]
  },
  {
   "cell_type": "markdown",
   "metadata": {},
   "source": [
    "Построим график кумулятивной выручки по группам и дням."
   ]
  },
  {
   "cell_type": "code",
   "execution_count": 34,
   "metadata": {},
   "outputs": [],
   "source": [
    "cumulative_rev_A = cumulative_df[cumulative_df['group'] == 'A'] # группа А \n",
    "cumulative_rev_B = cumulative_df[cumulative_df['group'] == 'B'] # группа В"
   ]
  },
  {
   "cell_type": "markdown",
   "metadata": {},
   "source": [
    "Строим непосредственно графики."
   ]
  },
  {
   "cell_type": "code",
   "execution_count": 35,
   "metadata": {},
   "outputs": [
    {
     "data": {
      "image/png": "[encoded data removed]",
      "text/plain": [
       "<Figure size 1008x432 with 1 Axes>"
      ]
     },
     "metadata": {
      "needs_background": "light"
     },
     "output_type": "display_data"
    }
   ],
   "source": [
    "plt.figure(figsize=(14,6))\n",
    "plt.plot(cumulative_rev_A['date'], cumulative_rev_A['revenue'], label='A')\n",
    "plt.plot(cumulative_rev_B['date'], cumulative_rev_B['revenue'], label='B')\n",
    "plt.grid()\n",
    "plt.title(label='Графики кумулятивной выручки по группам')\n",
    "plt.xlabel('Дата')\n",
    "plt.ylabel('Выручка')\n",
    "plt.legend();"
   ]
  },
  {
   "cell_type": "markdown",
   "metadata": {},
   "source": [
    "<div style=\"background-color: #CCCCCC;\">\n",
    "\n",
    "В группе А выручка равномерно увеличивается в течении всего времени. В группе В выручка равномерно увеличивалась до середины теста, затем резко выросла и продолжила также равномерно увеличиваться. На лицо влияние аномальных значений.\n",
    "</div>"
   ]
  },
  {
   "cell_type": "markdown",
   "metadata": {},
   "source": [
    "###  График кумулятивного среднего чека"
   ]
  },
  {
   "cell_type": "markdown",
   "metadata": {},
   "source": [
    "Построим график кумулятивного среднего чека по группам."
   ]
  },
  {
   "cell_type": "code",
   "execution_count": 36,
   "metadata": {},
   "outputs": [
    {
     "data": {
      "image/png": "[encoded data removed]",
      "text/plain": [
       "<Figure size 1008x432 with 1 Axes>"
      ]
     },
     "metadata": {
      "needs_background": "light"
     },
     "output_type": "display_data"
    }
   ],
   "source": [
    "plt.figure(figsize=(14,6))\n",
    "plt.plot(cumulative_rev_A['date'], cumulative_rev_A['revenue'] / cumulative_rev_A['transactionId'], label='A')\n",
    "plt.plot(cumulative_rev_B['date'], cumulative_rev_B['revenue'] / cumulative_rev_B['transactionId'], label='B')\n",
    "plt.grid()\n",
    "plt.title(label='Графики кумулятивного среднего чека по группам')\n",
    "plt.xlabel('Дата')\n",
    "plt.ylabel('Средний чек')\n",
    "plt.legend();"
   ]
  },
  {
   "cell_type": "markdown",
   "metadata": {},
   "source": [
    "<div style=\"background-color: #CCCCCC;\">\n",
    "\n",
    "В начале теста средний чек в группе В был значительно выше. К середине теста чеки сравнялись, затем средний чек группы В резко вырос и постепенно снижался к концу теста. Значение среднего чека в группе А с середины теста установилось и менялось незначительно. На графике также видно влияние аномальных значений в группе В.\n",
    "</div>"
   ]
  },
  {
   "cell_type": "markdown",
   "metadata": {},
   "source": [
    "###  График относительного изменения кумулятивного среднего чека"
   ]
  },
  {
   "cell_type": "markdown",
   "metadata": {},
   "source": [
    "Построим график относительного изменения кумулятивного среднего чека группы B к группе A. Подготовим данные."
   ]
  },
  {
   "cell_type": "code",
   "execution_count": 37,
   "metadata": {},
   "outputs": [
    {
     "data": {
      "text/html": [
       "<div>\n",
       "<style scoped>\n",
       "    .dataframe tbody tr th:only-of-type {\n",
       "        vertical-align: middle;\n",
       "    }\n",
       "\n",
       "    .dataframe tbody tr th {\n",
       "        vertical-align: top;\n",
       "    }\n",
       "\n",
       "    .dataframe thead th {\n",
       "        text-align: right;\n",
       "    }\n",
       "</style>\n",
       "<table border=\"1\" class=\"dataframe\">\n",
       "  <thead>\n",
       "    <tr style=\"text-align: right;\">\n",
       "      <th></th>\n",
       "      <th>date</th>\n",
       "      <th>groupA</th>\n",
       "      <th>transactionIdA</th>\n",
       "      <th>visitorIdA</th>\n",
       "      <th>revenueA</th>\n",
       "      <th>visitorsA</th>\n",
       "      <th>groupB</th>\n",
       "      <th>transactionIdB</th>\n",
       "      <th>visitorIdB</th>\n",
       "      <th>revenueB</th>\n",
       "      <th>visitorsB</th>\n",
       "    </tr>\n",
       "  </thead>\n",
       "  <tbody>\n",
       "    <tr>\n",
       "      <th>0</th>\n",
       "      <td>2019-08-01</td>\n",
       "      <td>A</td>\n",
       "      <td>24</td>\n",
       "      <td>20</td>\n",
       "      <td>148579</td>\n",
       "      <td>719</td>\n",
       "      <td>B</td>\n",
       "      <td>21</td>\n",
       "      <td>20</td>\n",
       "      <td>101217</td>\n",
       "      <td>713</td>\n",
       "    </tr>\n",
       "    <tr>\n",
       "      <th>1</th>\n",
       "      <td>2019-08-02</td>\n",
       "      <td>A</td>\n",
       "      <td>44</td>\n",
       "      <td>38</td>\n",
       "      <td>242401</td>\n",
       "      <td>1338</td>\n",
       "      <td>B</td>\n",
       "      <td>45</td>\n",
       "      <td>43</td>\n",
       "      <td>266748</td>\n",
       "      <td>1294</td>\n",
       "    </tr>\n",
       "    <tr>\n",
       "      <th>2</th>\n",
       "      <td>2019-08-03</td>\n",
       "      <td>A</td>\n",
       "      <td>68</td>\n",
       "      <td>62</td>\n",
       "      <td>354874</td>\n",
       "      <td>1845</td>\n",
       "      <td>B</td>\n",
       "      <td>61</td>\n",
       "      <td>59</td>\n",
       "      <td>380996</td>\n",
       "      <td>1803</td>\n",
       "    </tr>\n",
       "    <tr>\n",
       "      <th>3</th>\n",
       "      <td>2019-08-04</td>\n",
       "      <td>A</td>\n",
       "      <td>84</td>\n",
       "      <td>77</td>\n",
       "      <td>425699</td>\n",
       "      <td>2562</td>\n",
       "      <td>B</td>\n",
       "      <td>78</td>\n",
       "      <td>75</td>\n",
       "      <td>489567</td>\n",
       "      <td>2573</td>\n",
       "    </tr>\n",
       "    <tr>\n",
       "      <th>4</th>\n",
       "      <td>2019-08-05</td>\n",
       "      <td>A</td>\n",
       "      <td>109</td>\n",
       "      <td>100</td>\n",
       "      <td>549917</td>\n",
       "      <td>3318</td>\n",
       "      <td>B</td>\n",
       "      <td>101</td>\n",
       "      <td>98</td>\n",
       "      <td>581995</td>\n",
       "      <td>3280</td>\n",
       "    </tr>\n",
       "  </tbody>\n",
       "</table>\n",
       "</div>"
      ],
      "text/plain": [
       "        date groupA  transactionIdA  visitorIdA  revenueA  visitorsA groupB  \\\n",
       "0 2019-08-01  A      24              20          148579    719        B       \n",
       "1 2019-08-02  A      44              38          242401    1338       B       \n",
       "2 2019-08-03  A      68              62          354874    1845       B       \n",
       "3 2019-08-04  A      84              77          425699    2562       B       \n",
       "4 2019-08-05  A      109             100         549917    3318       B       \n",
       "\n",
       "   transactionIdB  visitorIdB  revenueB  visitorsB  \n",
       "0  21              20          101217    713        \n",
       "1  45              43          266748    1294       \n",
       "2  61              59          380996    1803       \n",
       "3  78              75          489567    2573       \n",
       "4  101             98          581995    3280       "
      ]
     },
     "execution_count": 37,
     "metadata": {},
     "output_type": "execute_result"
    }
   ],
   "source": [
    "# соединим две таблицы\n",
    "cumulative_rev_BA= cumulative_rev_A.merge(cumulative_rev_B, left_on='date', right_on='date', how='left', suffixes=['A', 'B'])\n",
    "cumulative_rev_BA.head()"
   ]
  },
  {
   "cell_type": "code",
   "execution_count": 38,
   "metadata": {},
   "outputs": [
    {
     "data": {
      "image/png": "[encoded data removed]",
      "text/plain": [
       "<Figure size 1008x432 with 1 Axes>"
      ]
     },
     "metadata": {
      "needs_background": "light"
     },
     "output_type": "display_data"
    }
   ],
   "source": [
    "plt.figure(figsize=(14,6))\n",
    "plt.plot(cumulative_rev_BA['date'], (cumulative_rev_BA['revenueB'] / cumulative_rev_BA['transactionIdB']) / \\\n",
    "         (cumulative_rev_BA['revenueA'] / cumulative_rev_BA['transactionIdA']) - 1)\n",
    "plt.axhline(y=0, color='red', linestyle='--')\n",
    "plt.grid()\n",
    "plt.title(label='График относительного изменения среднего чека')\n",
    "plt.xlabel('Дата')\n",
    "plt.show();"
   ]
  },
  {
   "cell_type": "markdown",
   "metadata": {},
   "source": [
    "<div style=\"background-color: #CCCCCC;\">\n",
    "\n",
    "График относительного изменения среднего чека подтверждает предыдущий вывод. Группа В в начале теста была лучше группы А, к середине теста средний чек в группах был одинаковый, затем в группе В он значительно вырос.\n",
    "</div>"
   ]
  },
  {
   "cell_type": "markdown",
   "metadata": {},
   "source": [
    "###  График кумулятивного среднего количества заказов"
   ]
  },
  {
   "cell_type": "markdown",
   "metadata": {},
   "source": [
    "Построим график кумулятивного среднего количества заказов на посетителя по группам."
   ]
  },
  {
   "cell_type": "code",
   "execution_count": 39,
   "metadata": {},
   "outputs": [
    {
     "data": {
      "image/png": "[encoded data removed]",
      "text/plain": [
       "<Figure size 1008x432 with 1 Axes>"
      ]
     },
     "metadata": {
      "needs_background": "light"
     },
     "output_type": "display_data"
    }
   ],
   "source": [
    "plt.figure(figsize=(14,6))\n",
    "plt.plot(cumulative_rev_A['date'], cumulative_rev_A['transactionId'] / cumulative_rev_A['visitors'], label='A')\n",
    "plt.plot(cumulative_rev_B['date'], cumulative_rev_B['transactionId'] / cumulative_rev_B['visitors'], label='B')\n",
    "plt.grid()\n",
    "plt.title(label='Графики кумулятивного среднего количества заказов по группам')\n",
    "plt.xlabel('Дата')\n",
    "plt.ylabel('Заказы')\n",
    "plt.legend();"
   ]
  },
  {
   "cell_type": "markdown",
   "metadata": {},
   "source": [
    "<div style=\"background-color: #CCCCCC;\">\n",
    "\n",
    "Значения установились для обоих групп и в группе В стабильно больше заказов.\n",
    "</div>"
   ]
  },
  {
   "cell_type": "markdown",
   "metadata": {},
   "source": [
    "###  График относительного изменения кумулятивного среднего количества заказов"
   ]
  },
  {
   "cell_type": "markdown",
   "metadata": {},
   "source": [
    "Построим график относительного изменения кумулятивного среднего количества заказов на посетителя группы B к группе A. Подготовим данные."
   ]
  },
  {
   "cell_type": "code",
   "execution_count": 40,
   "metadata": {},
   "outputs": [
    {
     "data": {
      "image/png": "[encoded data removed]",
      "text/plain": [
       "<Figure size 1008x432 with 1 Axes>"
      ]
     },
     "metadata": {
      "needs_background": "light"
     },
     "output_type": "display_data"
    }
   ],
   "source": [
    "plt.figure(figsize=(14,6))\n",
    "plt.plot(cumulative_rev_BA['date'], (cumulative_rev_BA['transactionIdB'] / cumulative_rev_BA['visitorsB']) / \\\n",
    "         (cumulative_rev_BA['transactionIdA'] / cumulative_rev_BA['visitorsA']) - 1)\n",
    "plt.axhline(y=0, color='red', linestyle='--')\n",
    "plt.grid()\n",
    "plt.title(label='График относительного изменения среднего количества заказов')\n",
    "plt.xlabel('Дата')\n",
    "plt.show();"
   ]
  },
  {
   "cell_type": "markdown",
   "metadata": {},
   "source": [
    "<div style=\"background-color: #CCCCCC;\">\n",
    "\n",
    "В начале теста группа В проигрывала группе А по количеству заказов, далее количество заказов в группе В резко выросло, к концу теста стабилизировалось и оставалось стабильно больше, чем в группе А.\n",
    "</div>"
   ]
  },
  {
   "cell_type": "markdown",
   "metadata": {},
   "source": [
    "###  Точечный график количества заказов по пользователям"
   ]
  },
  {
   "cell_type": "markdown",
   "metadata": {},
   "source": [
    "Построим точечный график для наглядности картины по количеству заказов на одного пользователя."
   ]
  },
  {
   "cell_type": "code",
   "execution_count": 41,
   "metadata": {},
   "outputs": [
    {
     "data": {
      "text/plain": [
       "4256040402    11\n",
       "2458001652    11\n",
       "2378935119    9 \n",
       "2038680547    8 \n",
       "199603092     5 \n",
       "237748145     5 \n",
       "3717692402    5 \n",
       "3062433592    5 \n",
       "3803269165    5 \n",
       "1230306981    5 \n",
       "Name: visitorId, dtype: int64"
      ]
     },
     "execution_count": 41,
     "metadata": {},
     "output_type": "execute_result"
    }
   ],
   "source": [
    "orders['visitorId'].value_counts().head(10)"
   ]
  },
  {
   "cell_type": "code",
   "execution_count": 42,
   "metadata": {},
   "outputs": [
    {
     "data": {
      "image/png": "[encoded data removed]",
      "text/plain": [
       "<Figure size 1008x432 with 1 Axes>"
      ]
     },
     "metadata": {
      "needs_background": "light"
     },
     "output_type": "display_data"
    }
   ],
   "source": [
    "x_value = pd.Series(range(0, len(orders['visitorId'].value_counts()))) # массив для построения графика\n",
    "plt.figure(figsize=(14,6))\n",
    "plt.scatter(x_value, orders['visitorId'].value_counts(), color='#4444FF')\n",
    "plt.grid(axis='x')\n",
    "plt.title(label='Количество заказов на пользователя')\n",
    "plt.xlabel('Пользователи')\n",
    "plt.ylabel('Заказы');"
   ]
  },
  {
   "cell_type": "markdown",
   "metadata": {},
   "source": [
    "<div style=\"background-color: #CCCCCC;\">\n",
    "\n",
    "Больше всего пользователей которые совершили 1 заказ, но есть и рекордсмены: 11, 9 и 8 заказов.\n",
    "</div>"
   ]
  },
  {
   "cell_type": "markdown",
   "metadata": {},
   "source": [
    "###  Посчет перцентилей количества заказов на пользователя."
   ]
  },
  {
   "cell_type": "code",
   "execution_count": 43,
   "metadata": {},
   "outputs": [
    {
     "data": {
      "text/plain": [
       "array([1., 2., 4.])"
      ]
     },
     "execution_count": 43,
     "metadata": {},
     "output_type": "execute_result"
    }
   ],
   "source": [
    "np.percentile(orders['visitorId'].value_counts(), [90, 95, 99])"
   ]
  },
  {
   "cell_type": "markdown",
   "metadata": {},
   "source": [
    "<div style=\"background-color: #CCCCCC;\">\n",
    "\n",
    "Ровно 1 % пользователей заказывали более 4 раз. Более 4 заказов уже аномальные значения.\n",
    "</div>"
   ]
  },
  {
   "cell_type": "markdown",
   "metadata": {},
   "source": [
    "###  Точечный график стоимостей заказов"
   ]
  },
  {
   "cell_type": "code",
   "execution_count": 44,
   "metadata": {},
   "outputs": [
    {
     "data": {
      "image/png": "[encoded data removed]",
      "text/plain": [
       "<Figure size 1008x432 with 1 Axes>"
      ]
     },
     "metadata": {
      "needs_background": "light"
     },
     "output_type": "display_data"
    }
   ],
   "source": [
    "x_value = pd.Series(range(0, len(orders['revenue']))) # массив для построения графика\n",
    "plt.figure(figsize=(14,6))\n",
    "plt.scatter(x_value, orders['revenue'], color='#4444FF')\n",
    "plt.grid(axis='x')\n",
    "plt.title(label='Распределение стоимости заказов')\n",
    "plt.xlabel('Количество заказов')\n",
    "plt.ylabel('Стоимость')\n",
    "plt.show();"
   ]
  },
  {
   "cell_type": "markdown",
   "metadata": {},
   "source": [
    "<div style=\"background-color: #CCCCCC;\">\n",
    "\n",
    "Заказы дороже 40 000 руб. выглядят редкими. Основная масса заказов стоимостью до 20 000 руб.\n",
    "</div>"
   ]
  },
  {
   "cell_type": "markdown",
   "metadata": {},
   "source": [
    "###  Подсчет перцентилей стоимости заказов."
   ]
  },
  {
   "cell_type": "code",
   "execution_count": 45,
   "metadata": {},
   "outputs": [
    {
     "data": {
      "text/plain": [
       "array([18168. , 28000. , 58233.2])"
      ]
     },
     "execution_count": 45,
     "metadata": {},
     "output_type": "execute_result"
    }
   ],
   "source": [
    "np.percentile(orders['revenue'], [90, 95, 99])"
   ]
  },
  {
   "cell_type": "markdown",
   "metadata": {},
   "source": [
    "<div style=\"background-color: #CCCCCC;\">\n",
    "\n",
    "5 % пользователей совершали заказ дороже 27 565 руб., 1 % пользователей совершали заказ дороже 56 744 руб. Всё что дороже - аномалии.\n",
    "</div>"
   ]
  },
  {
   "cell_type": "markdown",
   "metadata": {},
   "source": [
    "###  Статистическая значимость различий в среднем количестве заказов по сырым данным"
   ]
  },
  {
   "cell_type": "markdown",
   "metadata": {},
   "source": [
    "Подготовим данные для определения статистической значимости различий в среднем количестве заказов на посетителя между группами по сырым данным.<br>\n",
    "Гиротезы:<br>\n",
    "Н0 - статистически значимых различий нет, т. е. группы равны.<br>\n",
    "Н1 - разница есть.<br>\n",
    "Уровень значимости 5 %."
   ]
  },
  {
   "cell_type": "code",
   "execution_count": 46,
   "metadata": {},
   "outputs": [],
   "source": [
    "# Сгруппируем в каждой группе по пользователям, чтобы найти количество заказов на пользователя\n",
    "orders_A = orders.query('group == \"A\"').groupby('visitorId', as_index=False).agg({'transactionId': 'nunique'})\n",
    "orders_B = orders.query('group == \"B\"').groupby('visitorId', as_index=False).agg({'transactionId': 'nunique'})"
   ]
  },
  {
   "cell_type": "markdown",
   "metadata": {},
   "source": [
    "Теперь необходимо найти пользователей которые ничего не заказали и присвоить им 0."
   ]
  },
  {
   "cell_type": "code",
   "execution_count": 47,
   "metadata": {},
   "outputs": [],
   "source": [
    "# общее количество посетителей\n",
    "all_users_A = cumulative_df.loc[(cumulative_df['date'] == '2019-08-31') & (cumulative_df['group'] == 'A'), 'visitors']\n",
    "all_users_B = cumulative_df.loc[(cumulative_df['date'] == '2019-08-31') & (cumulative_df['group'] == 'B'), 'visitors']\n",
    "\n",
    "# количество посетителей которые ничего не заказали\n",
    "users_not_orders_A = int(all_users_A) - len(orders_A)\n",
    "users_not_orders_B = int(all_users_B) - len(orders_B)\n",
    "\n",
    "# создадим массив с количеством заказов у всех пользователей, у которых нет заказов присвоим 0\n",
    "users_A = pd.concat([orders_A['transactionId'], pd.Series(0, index=np.arange(users_not_orders_A), name='transactionId')], axis=0)\n",
    "users_B = pd.concat([orders_B['transactionId'], pd.Series(0, index=np.arange(users_not_orders_B), name='transactionId')], axis=0)"
   ]
  },
  {
   "cell_type": "markdown",
   "metadata": {},
   "source": [
    "Применим критерий Манна-Уитни."
   ]
  },
  {
   "cell_type": "code",
   "execution_count": 48,
   "metadata": {},
   "outputs": [
    {
     "name": "stdout",
     "output_type": "stream",
     "text": [
      "0.017\n"
     ]
    }
   ],
   "source": [
    "print('{0:.3f}'.format(st.mannwhitneyu(users_A, users_B)[1]))"
   ]
  },
  {
   "cell_type": "code",
   "execution_count": 49,
   "metadata": {},
   "outputs": [
    {
     "name": "stdout",
     "output_type": "stream",
     "text": [
      "0.138\n"
     ]
    }
   ],
   "source": [
    "print('{0:.3f}'.format(users_B.mean() / users_A.mean() - 1))"
   ]
  },
  {
   "cell_type": "markdown",
   "metadata": {},
   "source": [
    "<div style=\"background-color: #CCCCCC;\">\n",
    "\n",
    "Различия в среднем количестве заказов между группами есть, значение p-value всего 1,7 %. Относительный прирост заказов в группе В почти 14 %.\n",
    "</div>"
   ]
  },
  {
   "cell_type": "markdown",
   "metadata": {},
   "source": [
    "###  Статистическая значимость различий в среднем чеке заказа по cырым данным"
   ]
  },
  {
   "cell_type": "markdown",
   "metadata": {},
   "source": [
    "Посчитаем статистическую значимость различий в среднем чеке заказа между группами по сырым данным. Применим критерий Манна-Уитни."
   ]
  },
  {
   "cell_type": "code",
   "execution_count": 50,
   "metadata": {},
   "outputs": [
    {
     "name": "stdout",
     "output_type": "stream",
     "text": [
      "0.729\n"
     ]
    }
   ],
   "source": [
    "print('{0:.3f}'.format(st.mannwhitneyu(orders.query('group == \"A\"')['revenue'], orders.query('group == \"B\"')['revenue'])[1]))"
   ]
  },
  {
   "cell_type": "code",
   "execution_count": 51,
   "metadata": {},
   "outputs": [
    {
     "name": "stdout",
     "output_type": "stream",
     "text": [
      "0.259\n"
     ]
    }
   ],
   "source": [
    "print('{0:.3f}'.format(orders.query('group == \"B\"')['revenue'].mean() / orders.query('group == \"A\"')['revenue'].mean() - 1))"
   ]
  },
  {
   "cell_type": "markdown",
   "metadata": {},
   "source": [
    "<div style=\"background-color: #CCCCCC;\">\n",
    "\n",
    "Статистически значимых различий в среднем чеке между группами нет. Средний чек в группе В значительно выше - на 25,9 %. Это влияние аномальных значений.\n",
    "</div>"
   ]
  },
  {
   "cell_type": "markdown",
   "metadata": {},
   "source": [
    "###  Статистическая значимость различий в среднем количестве заказов по очищенным данным"
   ]
  },
  {
   "cell_type": "markdown",
   "metadata": {},
   "source": [
    "Очистим данные от аномальных значений и повторим проверку значимости уже с очищенными данными. Сначала очистим от дорогих заказов."
   ]
  },
  {
   "cell_type": "code",
   "execution_count": 52,
   "metadata": {},
   "outputs": [],
   "source": [
    "orders_A_new = orders.query('group == \"A\" and revenue <= 56744 ')\n",
    "orders_B_new = orders.query('group == \"B\" and revenue <= 56744 ')"
   ]
  },
  {
   "cell_type": "markdown",
   "metadata": {},
   "source": [
    "Теперь очистим от аномального количества заказов."
   ]
  },
  {
   "cell_type": "code",
   "execution_count": 53,
   "metadata": {},
   "outputs": [],
   "source": [
    "# сгруппируем по идентификационному номеру пользователя и найдем количество заказов\n",
    "orders_A_group = orders_A_new.groupby('visitorId', as_index=False).agg({'transactionId': 'nunique'})\n",
    "orders_B_group = orders_B_new.groupby('visitorId', as_index=False).agg({'transactionId': 'nunique'})"
   ]
  },
  {
   "cell_type": "code",
   "execution_count": 54,
   "metadata": {},
   "outputs": [],
   "source": [
    "# найдём идентификационные номера аномальных пользователей\n",
    "visitorId_anomal_A = list(orders_A_group.loc[orders_A_group['transactionId'] > 4, 'visitorId'])\n",
    "visitorId_anomal_B = list(orders_B_group.loc[orders_B_group['transactionId'] > 4, 'visitorId'])"
   ]
  },
  {
   "cell_type": "markdown",
   "metadata": {},
   "source": [
    "Перезапишем очищенные данные "
   ]
  },
  {
   "cell_type": "code",
   "execution_count": 55,
   "metadata": {},
   "outputs": [
    {
     "data": {
      "text/plain": [
       "532"
      ]
     },
     "execution_count": 55,
     "metadata": {},
     "output_type": "execute_result"
    }
   ],
   "source": [
    "orders_A_new = orders_A_new[~orders_A_new['visitorId'].isin(visitorId_anomal_A)]\n",
    "len(orders_A_new)"
   ]
  },
  {
   "cell_type": "code",
   "execution_count": 56,
   "metadata": {},
   "outputs": [
    {
     "data": {
      "text/plain": [
       "623"
      ]
     },
     "execution_count": 56,
     "metadata": {},
     "output_type": "execute_result"
    }
   ],
   "source": [
    "orders_B_new = orders_B_new[~orders_B_new['visitorId'].isin(visitorId_anomal_B)]\n",
    "len(orders_B_new)"
   ]
  },
  {
   "cell_type": "markdown",
   "metadata": {},
   "source": [
    "По сравнению с первоначальными 557 и 640 заказов, мы очистили от 25 и 17 аномальных заказов."
   ]
  },
  {
   "cell_type": "code",
   "execution_count": 57,
   "metadata": {},
   "outputs": [],
   "source": [
    "# сгруппируем заново без аномальных значений\n",
    "orders_A_clean = orders_A_new.groupby('visitorId', as_index=False).agg({'transactionId': 'nunique'})\n",
    "orders_B_clean = orders_B_new.groupby('visitorId', as_index=False).agg({'transactionId': 'nunique'})"
   ]
  },
  {
   "cell_type": "code",
   "execution_count": 58,
   "metadata": {},
   "outputs": [],
   "source": [
    "# количество посетителей которые ничего не заказали\n",
    "users_not_orders_A = int(all_users_A) - len(orders_A_clean)\n",
    "users_not_orders_B = int(all_users_B) - len(orders_B_clean)\n",
    "\n",
    "# создадим массив с количеством заказов у всех пользователей, у которых нет заказов присвоим 0\n",
    "users_A_clean = pd.concat([orders_A_clean['transactionId'], pd.Series(0, index=np.arange(users_not_orders_A), name='transactionId')], axis=0)\n",
    "users_B_clean = pd.concat([orders_B_clean['transactionId'], pd.Series(0, index=np.arange(users_not_orders_B), name='transactionId')], axis=0)"
   ]
  },
  {
   "cell_type": "markdown",
   "metadata": {},
   "source": [
    "Применим критерий Манна-Уитни к очищенным данным."
   ]
  },
  {
   "cell_type": "code",
   "execution_count": 59,
   "metadata": {},
   "outputs": [
    {
     "name": "stdout",
     "output_type": "stream",
     "text": [
      "0.012\n"
     ]
    }
   ],
   "source": [
    "print('{0:.3f}'.format(st.mannwhitneyu(users_A_clean, users_B_clean)[1]))"
   ]
  },
  {
   "cell_type": "code",
   "execution_count": 60,
   "metadata": {},
   "outputs": [
    {
     "name": "stdout",
     "output_type": "stream",
     "text": [
      "0.160\n"
     ]
    }
   ],
   "source": [
    "print('{0:.3f}'.format(users_B_clean.mean() / users_A_clean.mean() - 1))"
   ]
  },
  {
   "cell_type": "markdown",
   "metadata": {},
   "source": [
    "<div style=\"background-color: #CCCCCC;\">\n",
    "\n",
    "Статистически значимые различия в среднем числе заказов между группами остались. Как и относительный прирост заказов в группе В - больше на 16 %. Отвергаем нулевую гипотезу. Количество заказов не одинаково. Заказов больше в группе В.\n",
    "</div>"
   ]
  },
  {
   "cell_type": "markdown",
   "metadata": {},
   "source": [
    "###  Статистическая значимость различий в среднем чеке заказа по очищенным данным"
   ]
  },
  {
   "cell_type": "code",
   "execution_count": 61,
   "metadata": {},
   "outputs": [
    {
     "name": "stdout",
     "output_type": "stream",
     "text": [
      "0.795\n"
     ]
    }
   ],
   "source": [
    "print('{0:.3f}'.format(st.mannwhitneyu(orders_A_new['revenue'], orders_B_new['revenue'])[1]))"
   ]
  },
  {
   "cell_type": "code",
   "execution_count": 62,
   "metadata": {},
   "outputs": [
    {
     "name": "stdout",
     "output_type": "stream",
     "text": [
      "0.006\n"
     ]
    }
   ],
   "source": [
    "print('{0:.3f}'.format(orders_B_new['revenue'].mean() / orders_A_new['revenue'].mean() - 1))"
   ]
  },
  {
   "cell_type": "markdown",
   "metadata": {},
   "source": [
    "<div style=\"background-color: #CCCCCC;\">\n",
    "\n",
    "Статистически значимых различий в среднем чеке между группами также нет. Средний чек в группах практически одинаковый.<br>\n",
    "**Можно останавливать тестирование.**\n",
    "</div>"
   ]
  },
  {
   "cell_type": "markdown",
   "metadata": {},
   "source": [
    "## Общие выводы"
   ]
  },
  {
   "cell_type": "markdown",
   "metadata": {},
   "source": [
    "<div style=\"background-color: #CCCCCC;\">\n",
    "Рассмотрели 9 гипотез по увеличению выручки интернет-магазина.<br>\n",
    "С помощью фреймворка RICE провели приоритизацию гипотез. Седьмая гипотеза выбрана приоритетной: *Добавить форму подписки на все основные страницы, чтобы собрать базу клиентов для email-рассылок*. Тестирование проходило в период  с 1 по 31 августа 2019 года.<br>\n",
    "\n",
    "В ходе предобработки исходных данных удалили две строки с аномальными значениями стоимости покупки, так как могли сильно исказить результаты тестирования.<br> \n",
    "    \n",
    "В ходе исследования результатов тестирования выяснили:<br>\n",
    "- в группе А выручка равномерно увеличивается в течении всего времени. В группе В выручка равномерно увеличивалась до середины теста, затем резко выросла и продолжила также равномерно увеличиваться. На лицо влияние аномальных значений.\n",
    "- в начале теста средний чек в группе В был значительно выше. К середине теста чеки сравнялись, затем средний чек группы В резко вырос и постепенно снижался к концу теста. Значение среднего чека в группе А с середины теста установилось и менялось незначительно. На графике также видно влияние аномальных значений в группе В.\n",
    "- в группе В стабильно больше заказов.\n",
    "- больше всего пользователей которые совершили 1 заказ, но есть и рекордсмены: 11, 9 и 8 заказов.\n",
    "- 1 % пользователей заказывали более 4 раз.\n",
    "- заказы дороже 40 000 руб. большая редкость. Основная масса заказов стоимостью до 20 000 руб.\n",
    "- 5 % пользователей совершали заказ дороже 27 565 руб., 1 % пользователей совершали заказ дороже 56 744 руб.<br>\n",
    "\n",
    "Анализ сырых данных показал различия в среднем количестве заказов между группами. Относительный прирост заказов в группе В почти 14 %. А вот различий в среднем чеке между группами также нет. Средний чек в группе В значительно выше - на 25,9 %. Что говорит о сильном влиянии аномальных значений.<br>\n",
    "\n",
    "После очистки от аномальных значений (более 4 заказов и дороже 56 744 руб.) Статистически значимые различия в среднем числе заказов между группами остались. Относительный прирост заказов в группе В увеличился и составил 16 %. Можно делать окончательный вывод, что в группе В увеличилось количество заказов. Статистически значимых различий в среднем чеке между группами также нет. Средний чек в группах практически одинаковый. Можно останавливать тестирование.<br>\n",
    "\n",
    "<font face='times new roman' size=4 font color='#5555FF'>**Рекомендации:**</font><br>\n",
    "- добавление формы подписки на все основные страницы в итоге оказало влияние на выручку компании в положительную сторону. При неизменном среднем чеке, количество заказов увеличилось примерно на 16 %;\n",
    "- в компании есть постоянные клиенты, которых можно выделить отдельно;\n",
    "- в анализе результатов тестирования необходимо тщательно фильтровать данные.\n",
    "</div>"
   ]
  }
 ],
 "metadata": {
  "ExecuteTimeLog": [
   {
    "duration": 394,
    "start_time": "2024-08-07T01:28:48.083Z"
   },
   {
    "duration": 69,
    "start_time": "2024-08-07T01:28:50.204Z"
   },
   {
    "duration": 12,
    "start_time": "2024-08-07T01:28:56.624Z"
   },
   {
    "duration": 46,
    "start_time": "2024-08-07T18:18:35.353Z"
   },
   {
    "duration": 425,
    "start_time": "2024-08-07T18:18:47.253Z"
   },
   {
    "duration": 71,
    "start_time": "2024-08-07T18:18:47.679Z"
   },
   {
    "duration": 10,
    "start_time": "2024-08-07T18:18:47.752Z"
   },
   {
    "duration": 35,
    "start_time": "2024-08-07T18:18:47.764Z"
   },
   {
    "duration": 9,
    "start_time": "2024-08-07T18:18:47.801Z"
   },
   {
    "duration": 13,
    "start_time": "2024-08-07T18:21:29.950Z"
   },
   {
    "duration": 11,
    "start_time": "2024-08-07T18:21:56.759Z"
   },
   {
    "duration": 14,
    "start_time": "2024-08-07T18:25:50.652Z"
   },
   {
    "duration": 67,
    "start_time": "2024-08-07T18:52:46.269Z"
   },
   {
    "duration": 5,
    "start_time": "2024-08-07T18:57:07.987Z"
   },
   {
    "duration": 4,
    "start_time": "2024-08-07T18:57:22.347Z"
   },
   {
    "duration": 4,
    "start_time": "2024-08-07T18:57:51.815Z"
   },
   {
    "duration": 5,
    "start_time": "2024-08-07T18:58:01.887Z"
   },
   {
    "duration": 3,
    "start_time": "2024-08-07T18:58:51.695Z"
   },
   {
    "duration": 4,
    "start_time": "2024-08-07T18:59:45.558Z"
   },
   {
    "duration": 392,
    "start_time": "2024-08-07T19:12:09.719Z"
   },
   {
    "duration": 27,
    "start_time": "2024-08-07T19:12:10.113Z"
   },
   {
    "duration": 90,
    "start_time": "2024-08-07T19:12:10.142Z"
   },
   {
    "duration": 67,
    "start_time": "2024-08-07T19:12:10.234Z"
   },
   {
    "duration": 11,
    "start_time": "2024-08-07T19:12:10.303Z"
   },
   {
    "duration": 15,
    "start_time": "2024-08-07T19:12:10.315Z"
   },
   {
    "duration": 13,
    "start_time": "2024-08-07T19:12:10.331Z"
   },
   {
    "duration": 12,
    "start_time": "2024-08-07T19:12:10.345Z"
   },
   {
    "duration": 9,
    "start_time": "2024-08-07T19:12:10.359Z"
   },
   {
    "duration": 11,
    "start_time": "2024-08-07T19:14:02.442Z"
   },
   {
    "duration": 56,
    "start_time": "2024-08-07T19:15:49.916Z"
   },
   {
    "duration": 4,
    "start_time": "2024-08-07T19:16:00.485Z"
   },
   {
    "duration": 25,
    "start_time": "2024-08-07T19:17:19.690Z"
   },
   {
    "duration": 43,
    "start_time": "2024-08-10T14:37:52.981Z"
   },
   {
    "duration": 369,
    "start_time": "2024-08-10T14:38:13.705Z"
   },
   {
    "duration": 86,
    "start_time": "2024-08-10T14:38:14.076Z"
   },
   {
    "duration": 89,
    "start_time": "2024-08-10T14:38:14.164Z"
   },
   {
    "duration": 64,
    "start_time": "2024-08-10T14:38:14.255Z"
   },
   {
    "duration": 11,
    "start_time": "2024-08-10T14:38:14.326Z"
   },
   {
    "duration": 14,
    "start_time": "2024-08-10T14:38:14.338Z"
   },
   {
    "duration": 11,
    "start_time": "2024-08-10T14:38:14.353Z"
   },
   {
    "duration": 12,
    "start_time": "2024-08-10T14:38:14.365Z"
   },
   {
    "duration": 3,
    "start_time": "2024-08-10T14:38:14.378Z"
   },
   {
    "duration": 3,
    "start_time": "2024-08-10T14:38:14.650Z"
   },
   {
    "duration": 20,
    "start_time": "2024-08-10T14:38:14.655Z"
   },
   {
    "duration": 15,
    "start_time": "2024-08-10T14:38:14.676Z"
   },
   {
    "duration": 12,
    "start_time": "2024-08-10T14:51:58.933Z"
   },
   {
    "duration": 18,
    "start_time": "2024-08-10T14:52:27.781Z"
   },
   {
    "duration": 7,
    "start_time": "2024-08-10T14:53:10.976Z"
   },
   {
    "duration": 3,
    "start_time": "2024-08-10T14:53:54.099Z"
   },
   {
    "duration": 14,
    "start_time": "2024-08-10T14:57:00.512Z"
   },
   {
    "duration": 237,
    "start_time": "2024-08-10T14:57:19.373Z"
   },
   {
    "duration": 378,
    "start_time": "2024-08-10T14:58:05.393Z"
   },
   {
    "duration": 2,
    "start_time": "2024-08-10T14:58:05.773Z"
   },
   {
    "duration": 31,
    "start_time": "2024-08-10T14:58:05.776Z"
   },
   {
    "duration": 41,
    "start_time": "2024-08-10T14:58:05.809Z"
   },
   {
    "duration": 16,
    "start_time": "2024-08-10T14:58:05.851Z"
   },
   {
    "duration": 10,
    "start_time": "2024-08-10T14:58:05.868Z"
   },
   {
    "duration": 14,
    "start_time": "2024-08-10T14:58:05.879Z"
   },
   {
    "duration": 11,
    "start_time": "2024-08-10T14:58:05.894Z"
   },
   {
    "duration": 11,
    "start_time": "2024-08-10T14:58:05.906Z"
   },
   {
    "duration": 82,
    "start_time": "2024-08-10T14:58:05.919Z"
   },
   {
    "duration": 13,
    "start_time": "2024-08-10T14:58:06.003Z"
   },
   {
    "duration": 21,
    "start_time": "2024-08-10T14:58:06.018Z"
   },
   {
    "duration": 15,
    "start_time": "2024-08-10T14:58:06.040Z"
   },
   {
    "duration": 14,
    "start_time": "2024-08-10T14:58:06.056Z"
   },
   {
    "duration": 8,
    "start_time": "2024-08-10T14:59:18.184Z"
   },
   {
    "duration": 4,
    "start_time": "2024-08-10T15:00:59.498Z"
   },
   {
    "duration": 4,
    "start_time": "2024-08-10T15:01:16.778Z"
   },
   {
    "duration": 414,
    "start_time": "2024-08-10T18:11:06.723Z"
   },
   {
    "duration": 2,
    "start_time": "2024-08-10T18:11:07.139Z"
   },
   {
    "duration": 168,
    "start_time": "2024-08-10T18:11:07.142Z"
   },
   {
    "duration": 95,
    "start_time": "2024-08-10T18:11:07.313Z"
   },
   {
    "duration": 69,
    "start_time": "2024-08-10T18:11:07.410Z"
   },
   {
    "duration": 11,
    "start_time": "2024-08-10T18:11:07.481Z"
   },
   {
    "duration": 15,
    "start_time": "2024-08-10T18:11:07.494Z"
   },
   {
    "duration": 12,
    "start_time": "2024-08-10T18:11:07.510Z"
   },
   {
    "duration": 34,
    "start_time": "2024-08-10T18:11:07.523Z"
   },
   {
    "duration": 48,
    "start_time": "2024-08-10T18:11:07.560Z"
   },
   {
    "duration": 4,
    "start_time": "2024-08-10T18:11:07.609Z"
   },
   {
    "duration": 20,
    "start_time": "2024-08-10T18:11:07.614Z"
   },
   {
    "duration": 15,
    "start_time": "2024-08-10T18:11:07.635Z"
   },
   {
    "duration": 14,
    "start_time": "2024-08-10T18:11:07.652Z"
   },
   {
    "duration": 5,
    "start_time": "2024-08-10T18:11:07.667Z"
   },
   {
    "duration": 4,
    "start_time": "2024-08-10T18:11:07.673Z"
   },
   {
    "duration": 8,
    "start_time": "2024-08-10T18:13:19.491Z"
   },
   {
    "duration": 7,
    "start_time": "2024-08-10T18:15:20.612Z"
   },
   {
    "duration": 5,
    "start_time": "2024-08-10T18:19:13.489Z"
   },
   {
    "duration": 9,
    "start_time": "2024-08-10T18:22:09.353Z"
   },
   {
    "duration": 432,
    "start_time": "2024-08-11T10:35:28.705Z"
   },
   {
    "duration": 2,
    "start_time": "2024-08-11T10:35:29.139Z"
   },
   {
    "duration": 114,
    "start_time": "2024-08-11T10:35:29.143Z"
   },
   {
    "duration": 95,
    "start_time": "2024-08-11T10:35:29.259Z"
   },
   {
    "duration": 70,
    "start_time": "2024-08-11T10:35:29.356Z"
   },
   {
    "duration": 11,
    "start_time": "2024-08-11T10:35:29.428Z"
   },
   {
    "duration": 28,
    "start_time": "2024-08-11T10:35:29.441Z"
   },
   {
    "duration": 12,
    "start_time": "2024-08-11T10:35:29.470Z"
   },
   {
    "duration": 12,
    "start_time": "2024-08-11T10:35:29.484Z"
   },
   {
    "duration": 10,
    "start_time": "2024-08-11T10:35:29.498Z"
   },
   {
    "duration": 20,
    "start_time": "2024-08-11T10:35:29.510Z"
   },
   {
    "duration": 25,
    "start_time": "2024-08-11T10:35:29.532Z"
   },
   {
    "duration": 19,
    "start_time": "2024-08-11T10:35:29.559Z"
   },
   {
    "duration": 21,
    "start_time": "2024-08-11T10:35:29.582Z"
   },
   {
    "duration": 17,
    "start_time": "2024-08-11T10:35:29.625Z"
   },
   {
    "duration": 47,
    "start_time": "2024-08-11T10:35:29.643Z"
   },
   {
    "duration": 13,
    "start_time": "2024-08-11T10:35:29.691Z"
   },
   {
    "duration": 6,
    "start_time": "2024-08-11T10:35:29.705Z"
   },
   {
    "duration": 13,
    "start_time": "2024-08-11T10:35:29.712Z"
   },
   {
    "duration": 7,
    "start_time": "2024-08-11T10:40:03.980Z"
   },
   {
    "duration": 4,
    "start_time": "2024-08-11T10:40:55.120Z"
   },
   {
    "duration": 4,
    "start_time": "2024-08-11T10:40:59.510Z"
   },
   {
    "duration": 575,
    "start_time": "2024-08-11T11:19:08.940Z"
   },
   {
    "duration": 247,
    "start_time": "2024-08-11T11:19:37.528Z"
   },
   {
    "duration": 158,
    "start_time": "2024-08-11T11:19:47.810Z"
   },
   {
    "duration": 2,
    "start_time": "2024-08-11T11:20:48.278Z"
   },
   {
    "duration": 81,
    "start_time": "2024-08-11T11:21:20.226Z"
   },
   {
    "duration": 8,
    "start_time": "2024-08-11T11:21:27.660Z"
   },
   {
    "duration": 8,
    "start_time": "2024-08-11T11:21:40.291Z"
   },
   {
    "duration": 8,
    "start_time": "2024-08-11T11:21:48.367Z"
   },
   {
    "duration": 8,
    "start_time": "2024-08-11T11:22:04.240Z"
   },
   {
    "duration": 1673,
    "start_time": "2024-08-11T11:24:36.890Z"
   },
   {
    "duration": 549,
    "start_time": "2024-08-11T11:27:18.678Z"
   },
   {
    "duration": 563,
    "start_time": "2024-08-11T11:29:28.350Z"
   },
   {
    "duration": 416,
    "start_time": "2024-08-11T11:29:42.625Z"
   },
   {
    "duration": 8,
    "start_time": "2024-08-11T11:31:03.050Z"
   },
   {
    "duration": 120,
    "start_time": "2024-08-11T11:31:24.893Z"
   },
   {
    "duration": 91,
    "start_time": "2024-08-11T11:31:37.079Z"
   },
   {
    "duration": 104,
    "start_time": "2024-08-11T11:32:49.329Z"
   },
   {
    "duration": 6,
    "start_time": "2024-08-11T11:34:47.339Z"
   },
   {
    "duration": 6,
    "start_time": "2024-08-11T11:35:00.949Z"
   },
   {
    "duration": 14,
    "start_time": "2024-08-11T12:06:14.294Z"
   },
   {
    "duration": 12,
    "start_time": "2024-08-11T12:07:25.848Z"
   },
   {
    "duration": 9,
    "start_time": "2024-08-11T12:07:42.648Z"
   },
   {
    "duration": 3,
    "start_time": "2024-08-11T12:11:49.796Z"
   },
   {
    "duration": 22,
    "start_time": "2024-08-11T12:17:45.688Z"
   },
   {
    "duration": 4,
    "start_time": "2024-08-11T12:18:23.580Z"
   },
   {
    "duration": 16,
    "start_time": "2024-08-11T12:18:29.495Z"
   },
   {
    "duration": 73,
    "start_time": "2024-08-11T12:19:01.335Z"
   },
   {
    "duration": 94,
    "start_time": "2024-08-11T12:19:10.457Z"
   },
   {
    "duration": 16,
    "start_time": "2024-08-11T12:19:17.444Z"
   },
   {
    "duration": 17,
    "start_time": "2024-08-11T12:19:40.340Z"
   },
   {
    "duration": 16,
    "start_time": "2024-08-11T12:21:32.390Z"
   },
   {
    "duration": 434,
    "start_time": "2024-08-11T12:23:11.001Z"
   },
   {
    "duration": 3,
    "start_time": "2024-08-11T12:23:11.437Z"
   },
   {
    "duration": 6,
    "start_time": "2024-08-11T12:23:11.441Z"
   },
   {
    "duration": 231,
    "start_time": "2024-08-11T12:23:11.449Z"
   },
   {
    "duration": 31,
    "start_time": "2024-08-11T12:23:11.682Z"
   },
   {
    "duration": 43,
    "start_time": "2024-08-11T12:23:11.715Z"
   },
   {
    "duration": 18,
    "start_time": "2024-08-11T12:23:11.759Z"
   },
   {
    "duration": 10,
    "start_time": "2024-08-11T12:23:11.779Z"
   },
   {
    "duration": 18,
    "start_time": "2024-08-11T12:23:11.791Z"
   },
   {
    "duration": 12,
    "start_time": "2024-08-11T12:23:11.810Z"
   },
   {
    "duration": 26,
    "start_time": "2024-08-11T12:23:11.824Z"
   },
   {
    "duration": 4,
    "start_time": "2024-08-11T12:23:11.851Z"
   },
   {
    "duration": 60,
    "start_time": "2024-08-11T12:23:11.857Z"
   },
   {
    "duration": 31,
    "start_time": "2024-08-11T12:23:11.920Z"
   },
   {
    "duration": 16,
    "start_time": "2024-08-11T12:23:11.952Z"
   },
   {
    "duration": 14,
    "start_time": "2024-08-11T12:23:11.969Z"
   },
   {
    "duration": 5,
    "start_time": "2024-08-11T12:23:11.985Z"
   },
   {
    "duration": 5,
    "start_time": "2024-08-11T12:23:11.991Z"
   },
   {
    "duration": 28,
    "start_time": "2024-08-11T12:23:11.997Z"
   },
   {
    "duration": 8,
    "start_time": "2024-08-11T12:23:12.027Z"
   },
   {
    "duration": 5,
    "start_time": "2024-08-11T12:23:12.036Z"
   },
   {
    "duration": 22,
    "start_time": "2024-08-11T12:23:12.042Z"
   },
   {
    "duration": 27,
    "start_time": "2024-08-11T12:23:12.065Z"
   },
   {
    "duration": 87,
    "start_time": "2024-08-11T12:23:12.094Z"
   },
   {
    "duration": 0,
    "start_time": "2024-08-11T12:23:12.182Z"
   },
   {
    "duration": 0,
    "start_time": "2024-08-11T12:23:12.183Z"
   },
   {
    "duration": 0,
    "start_time": "2024-08-11T12:23:12.184Z"
   },
   {
    "duration": 155,
    "start_time": "2024-08-11T12:24:05.348Z"
   },
   {
    "duration": 157,
    "start_time": "2024-08-11T12:24:37.663Z"
   },
   {
    "duration": 165,
    "start_time": "2024-08-11T12:25:37.715Z"
   },
   {
    "duration": 159,
    "start_time": "2024-08-11T12:26:44.229Z"
   },
   {
    "duration": 17,
    "start_time": "2024-08-11T12:29:47.877Z"
   },
   {
    "duration": 118,
    "start_time": "2024-08-11T12:32:18.184Z"
   },
   {
    "duration": 19,
    "start_time": "2024-08-11T12:32:35.936Z"
   },
   {
    "duration": 15,
    "start_time": "2024-08-11T12:32:51.611Z"
   },
   {
    "duration": 12,
    "start_time": "2024-08-11T12:33:45.710Z"
   },
   {
    "duration": 375,
    "start_time": "2024-08-11T12:39:13.961Z"
   },
   {
    "duration": 3,
    "start_time": "2024-08-11T12:39:14.338Z"
   },
   {
    "duration": 3,
    "start_time": "2024-08-11T12:39:14.342Z"
   },
   {
    "duration": 231,
    "start_time": "2024-08-11T12:39:14.347Z"
   },
   {
    "duration": 31,
    "start_time": "2024-08-11T12:39:14.579Z"
   },
   {
    "duration": 42,
    "start_time": "2024-08-11T12:39:14.612Z"
   },
   {
    "duration": 17,
    "start_time": "2024-08-11T12:39:14.656Z"
   },
   {
    "duration": 11,
    "start_time": "2024-08-11T12:39:14.675Z"
   },
   {
    "duration": 12,
    "start_time": "2024-08-11T12:39:14.687Z"
   },
   {
    "duration": 12,
    "start_time": "2024-08-11T12:39:14.701Z"
   },
   {
    "duration": 11,
    "start_time": "2024-08-11T12:39:14.715Z"
   },
   {
    "duration": 4,
    "start_time": "2024-08-11T12:39:14.728Z"
   },
   {
    "duration": 4,
    "start_time": "2024-08-11T12:39:14.733Z"
   },
   {
    "duration": 19,
    "start_time": "2024-08-11T12:39:14.738Z"
   },
   {
    "duration": 17,
    "start_time": "2024-08-11T12:39:14.759Z"
   },
   {
    "duration": 48,
    "start_time": "2024-08-11T12:39:14.777Z"
   },
   {
    "duration": 5,
    "start_time": "2024-08-11T12:39:14.826Z"
   },
   {
    "duration": 4,
    "start_time": "2024-08-11T12:39:14.832Z"
   },
   {
    "duration": 16,
    "start_time": "2024-08-11T12:39:14.837Z"
   },
   {
    "duration": 6,
    "start_time": "2024-08-11T12:39:14.855Z"
   },
   {
    "duration": 4,
    "start_time": "2024-08-11T12:39:14.862Z"
   },
   {
    "duration": 5,
    "start_time": "2024-08-11T12:39:14.867Z"
   },
   {
    "duration": 13,
    "start_time": "2024-08-11T12:39:14.873Z"
   },
   {
    "duration": 194,
    "start_time": "2024-08-11T12:39:14.887Z"
   },
   {
    "duration": 125,
    "start_time": "2024-08-11T12:39:15.082Z"
   },
   {
    "duration": 75,
    "start_time": "2024-08-11T12:39:15.209Z"
   },
   {
    "duration": 0,
    "start_time": "2024-08-11T12:39:15.286Z"
   },
   {
    "duration": 0,
    "start_time": "2024-08-11T12:39:15.287Z"
   },
   {
    "duration": 0,
    "start_time": "2024-08-11T12:39:15.288Z"
   },
   {
    "duration": 0,
    "start_time": "2024-08-11T12:39:15.289Z"
   },
   {
    "duration": 12,
    "start_time": "2024-08-11T12:40:00.507Z"
   },
   {
    "duration": 13,
    "start_time": "2024-08-11T12:41:42.011Z"
   },
   {
    "duration": 13,
    "start_time": "2024-08-11T12:42:39.573Z"
   },
   {
    "duration": 6,
    "start_time": "2024-08-11T12:44:31.962Z"
   },
   {
    "duration": 6,
    "start_time": "2024-08-11T12:46:07.374Z"
   },
   {
    "duration": 238,
    "start_time": "2024-08-11T12:46:51.543Z"
   },
   {
    "duration": 163,
    "start_time": "2024-08-11T12:48:03.935Z"
   },
   {
    "duration": 157,
    "start_time": "2024-08-11T12:48:10.753Z"
   },
   {
    "duration": 202,
    "start_time": "2024-08-11T12:48:56.051Z"
   },
   {
    "duration": 177,
    "start_time": "2024-08-11T12:49:19.868Z"
   },
   {
    "duration": 182,
    "start_time": "2024-08-11T12:50:25.292Z"
   },
   {
    "duration": 4,
    "start_time": "2024-08-11T12:50:31.593Z"
   },
   {
    "duration": 181,
    "start_time": "2024-08-11T12:50:39.144Z"
   },
   {
    "duration": 179,
    "start_time": "2024-08-11T12:50:54.773Z"
   },
   {
    "duration": 174,
    "start_time": "2024-08-11T12:51:06.243Z"
   },
   {
    "duration": 196,
    "start_time": "2024-08-11T12:51:16.813Z"
   },
   {
    "duration": 184,
    "start_time": "2024-08-11T12:51:23.293Z"
   },
   {
    "duration": 172,
    "start_time": "2024-08-11T12:51:43.793Z"
   },
   {
    "duration": 204,
    "start_time": "2024-08-11T12:52:25.423Z"
   },
   {
    "duration": 238,
    "start_time": "2024-08-11T12:53:00.091Z"
   },
   {
    "duration": 232,
    "start_time": "2024-08-11T13:17:00.216Z"
   },
   {
    "duration": 154,
    "start_time": "2024-08-11T13:17:53.125Z"
   },
   {
    "duration": 168,
    "start_time": "2024-08-11T13:18:11.419Z"
   },
   {
    "duration": 161,
    "start_time": "2024-08-11T13:18:28.166Z"
   },
   {
    "duration": 167,
    "start_time": "2024-08-11T13:18:58.183Z"
   },
   {
    "duration": 184,
    "start_time": "2024-08-11T13:19:47.345Z"
   },
   {
    "duration": 221,
    "start_time": "2024-08-11T13:21:10.675Z"
   },
   {
    "duration": 216,
    "start_time": "2024-08-11T13:21:22.308Z"
   },
   {
    "duration": 188,
    "start_time": "2024-08-11T13:22:02.799Z"
   },
   {
    "duration": 14,
    "start_time": "2024-08-11T13:34:01.115Z"
   },
   {
    "duration": 11,
    "start_time": "2024-08-11T13:36:27.215Z"
   },
   {
    "duration": 153,
    "start_time": "2024-08-11T13:40:31.545Z"
   },
   {
    "duration": 176,
    "start_time": "2024-08-11T13:40:50.115Z"
   },
   {
    "duration": 291,
    "start_time": "2024-08-11T13:41:12.405Z"
   },
   {
    "duration": 178,
    "start_time": "2024-08-11T13:41:25.565Z"
   },
   {
    "duration": 211,
    "start_time": "2024-08-11T13:41:43.975Z"
   },
   {
    "duration": 210,
    "start_time": "2024-08-11T13:41:58.575Z"
   },
   {
    "duration": 213,
    "start_time": "2024-08-11T13:42:33.534Z"
   },
   {
    "duration": 198,
    "start_time": "2024-08-11T13:43:51.115Z"
   },
   {
    "duration": 286,
    "start_time": "2024-08-11T13:45:22.956Z"
   },
   {
    "duration": 5,
    "start_time": "2024-08-11T15:08:44.626Z"
   },
   {
    "duration": 401,
    "start_time": "2024-08-11T15:08:53.789Z"
   },
   {
    "duration": 2,
    "start_time": "2024-08-11T15:08:54.192Z"
   },
   {
    "duration": 4,
    "start_time": "2024-08-11T15:08:54.195Z"
   },
   {
    "duration": 252,
    "start_time": "2024-08-11T15:08:54.201Z"
   },
   {
    "duration": 31,
    "start_time": "2024-08-11T15:08:54.455Z"
   },
   {
    "duration": 43,
    "start_time": "2024-08-11T15:08:54.488Z"
   },
   {
    "duration": 17,
    "start_time": "2024-08-11T15:08:54.533Z"
   },
   {
    "duration": 11,
    "start_time": "2024-08-11T15:08:54.552Z"
   },
   {
    "duration": 11,
    "start_time": "2024-08-11T15:08:54.565Z"
   },
   {
    "duration": 12,
    "start_time": "2024-08-11T15:08:54.578Z"
   },
   {
    "duration": 12,
    "start_time": "2024-08-11T15:08:54.591Z"
   },
   {
    "duration": 34,
    "start_time": "2024-08-11T15:08:54.604Z"
   },
   {
    "duration": 21,
    "start_time": "2024-08-11T15:08:54.640Z"
   },
   {
    "duration": 26,
    "start_time": "2024-08-11T15:08:54.662Z"
   },
   {
    "duration": 15,
    "start_time": "2024-08-11T15:08:54.690Z"
   },
   {
    "duration": 13,
    "start_time": "2024-08-11T15:08:54.707Z"
   },
   {
    "duration": 4,
    "start_time": "2024-08-11T15:08:54.722Z"
   },
   {
    "duration": 4,
    "start_time": "2024-08-11T15:08:54.728Z"
   },
   {
    "duration": 6,
    "start_time": "2024-08-11T15:08:54.733Z"
   },
   {
    "duration": 6,
    "start_time": "2024-08-11T15:08:54.741Z"
   },
   {
    "duration": 6,
    "start_time": "2024-08-11T15:08:54.749Z"
   },
   {
    "duration": 5,
    "start_time": "2024-08-11T15:08:54.756Z"
   },
   {
    "duration": 10,
    "start_time": "2024-08-11T15:08:54.762Z"
   },
   {
    "duration": 187,
    "start_time": "2024-08-11T15:08:54.774Z"
   },
   {
    "duration": 133,
    "start_time": "2024-08-11T15:08:54.962Z"
   },
   {
    "duration": 28,
    "start_time": "2024-08-11T15:08:55.096Z"
   },
   {
    "duration": 5,
    "start_time": "2024-08-11T15:08:55.126Z"
   },
   {
    "duration": 312,
    "start_time": "2024-08-11T15:08:55.134Z"
   },
   {
    "duration": 221,
    "start_time": "2024-08-11T15:08:55.448Z"
   },
   {
    "duration": 14,
    "start_time": "2024-08-11T15:08:55.670Z"
   },
   {
    "duration": 340,
    "start_time": "2024-08-11T15:08:55.686Z"
   },
   {
    "duration": 269,
    "start_time": "2024-08-11T15:08:56.027Z"
   },
   {
    "duration": 231,
    "start_time": "2024-08-11T15:08:56.298Z"
   },
   {
    "duration": 0,
    "start_time": "2024-08-11T15:08:56.531Z"
   },
   {
    "duration": 0,
    "start_time": "2024-08-11T15:08:56.532Z"
   },
   {
    "duration": 0,
    "start_time": "2024-08-11T15:08:56.533Z"
   },
   {
    "duration": 245,
    "start_time": "2024-08-11T15:10:17.015Z"
   },
   {
    "duration": 310,
    "start_time": "2024-08-11T15:19:31.942Z"
   },
   {
    "duration": 48,
    "start_time": "2024-08-11T19:11:01.552Z"
   },
   {
    "duration": 433,
    "start_time": "2024-08-11T19:11:10.514Z"
   },
   {
    "duration": 3,
    "start_time": "2024-08-11T19:11:10.948Z"
   },
   {
    "duration": 4,
    "start_time": "2024-08-11T19:11:10.952Z"
   },
   {
    "duration": 398,
    "start_time": "2024-08-11T19:11:10.957Z"
   },
   {
    "duration": 112,
    "start_time": "2024-08-11T19:11:11.357Z"
   },
   {
    "duration": 101,
    "start_time": "2024-08-11T19:11:11.470Z"
   },
   {
    "duration": 72,
    "start_time": "2024-08-11T19:11:11.573Z"
   },
   {
    "duration": 12,
    "start_time": "2024-08-11T19:11:11.646Z"
   },
   {
    "duration": 25,
    "start_time": "2024-08-11T19:11:11.660Z"
   },
   {
    "duration": 13,
    "start_time": "2024-08-11T19:11:11.686Z"
   },
   {
    "duration": 13,
    "start_time": "2024-08-11T19:11:11.700Z"
   },
   {
    "duration": 4,
    "start_time": "2024-08-11T19:11:11.714Z"
   },
   {
    "duration": 11,
    "start_time": "2024-08-11T19:11:11.719Z"
   },
   {
    "duration": 72,
    "start_time": "2024-08-11T19:11:11.733Z"
   },
   {
    "duration": 16,
    "start_time": "2024-08-11T19:11:11.806Z"
   },
   {
    "duration": 15,
    "start_time": "2024-08-11T19:11:11.823Z"
   },
   {
    "duration": 4,
    "start_time": "2024-08-11T19:11:11.840Z"
   },
   {
    "duration": 4,
    "start_time": "2024-08-11T19:11:11.846Z"
   },
   {
    "duration": 5,
    "start_time": "2024-08-11T19:11:11.852Z"
   },
   {
    "duration": 15,
    "start_time": "2024-08-11T19:11:11.858Z"
   },
   {
    "duration": 6,
    "start_time": "2024-08-11T19:11:11.874Z"
   },
   {
    "duration": 4,
    "start_time": "2024-08-11T19:11:11.881Z"
   },
   {
    "duration": 4,
    "start_time": "2024-08-11T19:11:11.886Z"
   },
   {
    "duration": 11,
    "start_time": "2024-08-11T19:11:11.924Z"
   },
   {
    "duration": 177,
    "start_time": "2024-08-11T19:11:11.936Z"
   },
   {
    "duration": 123,
    "start_time": "2024-08-11T19:11:12.115Z"
   },
   {
    "duration": 12,
    "start_time": "2024-08-11T19:11:12.239Z"
   },
   {
    "duration": 4,
    "start_time": "2024-08-11T19:11:12.253Z"
   },
   {
    "duration": 313,
    "start_time": "2024-08-11T19:11:12.259Z"
   },
   {
    "duration": 223,
    "start_time": "2024-08-11T19:11:12.573Z"
   },
   {
    "duration": 13,
    "start_time": "2024-08-11T19:11:12.798Z"
   },
   {
    "duration": 437,
    "start_time": "2024-08-11T19:11:12.825Z"
   },
   {
    "duration": 234,
    "start_time": "2024-08-11T19:11:13.263Z"
   },
   {
    "duration": 338,
    "start_time": "2024-08-11T19:11:13.498Z"
   },
   {
    "duration": 778,
    "start_time": "2024-08-11T19:11:13.838Z"
   },
   {
    "duration": 0,
    "start_time": "2024-08-11T19:11:14.618Z"
   },
   {
    "duration": 0,
    "start_time": "2024-08-11T19:11:14.619Z"
   },
   {
    "duration": 0,
    "start_time": "2024-08-11T19:11:14.620Z"
   },
   {
    "duration": 4,
    "start_time": "2024-08-11T19:15:40.492Z"
   },
   {
    "duration": 4,
    "start_time": "2024-08-11T19:17:39.335Z"
   },
   {
    "duration": 5,
    "start_time": "2024-08-11T19:17:49.691Z"
   },
   {
    "duration": 9,
    "start_time": "2024-08-11T19:18:41.152Z"
   },
   {
    "duration": 6,
    "start_time": "2024-08-11T19:21:15.171Z"
   },
   {
    "duration": 6,
    "start_time": "2024-08-11T19:21:33.671Z"
   },
   {
    "duration": 6,
    "start_time": "2024-08-11T19:22:12.071Z"
   },
   {
    "duration": 6,
    "start_time": "2024-08-11T19:22:26.513Z"
   },
   {
    "duration": 5,
    "start_time": "2024-08-11T19:22:33.931Z"
   },
   {
    "duration": 4,
    "start_time": "2024-08-11T19:25:54.251Z"
   },
   {
    "duration": 10,
    "start_time": "2024-08-11T19:25:57.491Z"
   },
   {
    "duration": 408,
    "start_time": "2024-08-11T19:28:09.750Z"
   },
   {
    "duration": 3,
    "start_time": "2024-08-11T19:28:10.159Z"
   },
   {
    "duration": 2,
    "start_time": "2024-08-11T19:28:10.164Z"
   },
   {
    "duration": 256,
    "start_time": "2024-08-11T19:28:10.168Z"
   },
   {
    "duration": 32,
    "start_time": "2024-08-11T19:28:10.426Z"
   },
   {
    "duration": 45,
    "start_time": "2024-08-11T19:28:10.459Z"
   },
   {
    "duration": 17,
    "start_time": "2024-08-11T19:28:10.506Z"
   },
   {
    "duration": 11,
    "start_time": "2024-08-11T19:28:10.525Z"
   },
   {
    "duration": 11,
    "start_time": "2024-08-11T19:28:10.538Z"
   },
   {
    "duration": 13,
    "start_time": "2024-08-11T19:28:10.550Z"
   },
   {
    "duration": 12,
    "start_time": "2024-08-11T19:28:10.565Z"
   },
   {
    "duration": 4,
    "start_time": "2024-08-11T19:28:10.579Z"
   },
   {
    "duration": 5,
    "start_time": "2024-08-11T19:28:10.584Z"
   },
   {
    "duration": 22,
    "start_time": "2024-08-11T19:28:10.623Z"
   },
   {
    "duration": 18,
    "start_time": "2024-08-11T19:28:10.647Z"
   },
   {
    "duration": 20,
    "start_time": "2024-08-11T19:28:10.667Z"
   },
   {
    "duration": 5,
    "start_time": "2024-08-11T19:28:10.688Z"
   },
   {
    "duration": 5,
    "start_time": "2024-08-11T19:28:10.724Z"
   },
   {
    "duration": 6,
    "start_time": "2024-08-11T19:28:10.730Z"
   },
   {
    "duration": 10,
    "start_time": "2024-08-11T19:28:10.737Z"
   },
   {
    "duration": 5,
    "start_time": "2024-08-11T19:28:10.748Z"
   },
   {
    "duration": 4,
    "start_time": "2024-08-11T19:28:10.754Z"
   },
   {
    "duration": 11,
    "start_time": "2024-08-11T19:28:10.759Z"
   },
   {
    "duration": 6,
    "start_time": "2024-08-11T19:28:10.771Z"
   },
   {
    "duration": 46,
    "start_time": "2024-08-11T19:28:10.778Z"
   },
   {
    "duration": 4,
    "start_time": "2024-08-11T19:28:10.826Z"
   },
   {
    "duration": 10,
    "start_time": "2024-08-11T19:28:10.832Z"
   },
   {
    "duration": 177,
    "start_time": "2024-08-11T19:28:10.843Z"
   },
   {
    "duration": 120,
    "start_time": "2024-08-11T19:28:11.024Z"
   },
   {
    "duration": 11,
    "start_time": "2024-08-11T19:28:11.145Z"
   },
   {
    "duration": 4,
    "start_time": "2024-08-11T19:28:11.158Z"
   },
   {
    "duration": 302,
    "start_time": "2024-08-11T19:28:11.163Z"
   },
   {
    "duration": 224,
    "start_time": "2024-08-11T19:28:11.466Z"
   },
   {
    "duration": 14,
    "start_time": "2024-08-11T19:28:11.691Z"
   },
   {
    "duration": 344,
    "start_time": "2024-08-11T19:28:11.706Z"
   },
   {
    "duration": 292,
    "start_time": "2024-08-11T19:28:12.052Z"
   },
   {
    "duration": 321,
    "start_time": "2024-08-11T19:28:12.345Z"
   },
   {
    "duration": 6,
    "start_time": "2024-08-11T19:28:12.668Z"
   },
   {
    "duration": 8,
    "start_time": "2024-08-11T19:28:12.675Z"
   },
   {
    "duration": 263,
    "start_time": "2024-08-11T19:28:12.684Z"
   },
   {
    "duration": 75,
    "start_time": "2024-08-11T19:42:43.932Z"
   },
   {
    "duration": 151,
    "start_time": "2024-08-11T19:43:23.192Z"
   },
   {
    "duration": 6,
    "start_time": "2024-08-11T19:44:51.054Z"
   },
   {
    "duration": 6,
    "start_time": "2024-08-11T19:45:21.294Z"
   },
   {
    "duration": 127,
    "start_time": "2024-08-11T19:46:02.193Z"
   },
   {
    "duration": 150,
    "start_time": "2024-08-11T19:53:15.354Z"
   },
   {
    "duration": 153,
    "start_time": "2024-08-11T19:53:36.673Z"
   },
   {
    "duration": 147,
    "start_time": "2024-08-11T19:53:45.353Z"
   },
   {
    "duration": 144,
    "start_time": "2024-08-11T19:54:06.532Z"
   },
   {
    "duration": 134,
    "start_time": "2024-08-11T19:55:05.832Z"
   },
   {
    "duration": 188,
    "start_time": "2024-08-11T19:55:12.453Z"
   },
   {
    "duration": 152,
    "start_time": "2024-08-11T19:55:48.792Z"
   },
   {
    "duration": 154,
    "start_time": "2024-08-11T19:55:57.892Z"
   },
   {
    "duration": 152,
    "start_time": "2024-08-11T19:56:49.344Z"
   },
   {
    "duration": 151,
    "start_time": "2024-08-11T19:57:18.374Z"
   },
   {
    "duration": 6,
    "start_time": "2024-08-11T19:58:14.784Z"
   },
   {
    "duration": 89,
    "start_time": "2024-08-11T20:02:35.627Z"
   },
   {
    "duration": 84,
    "start_time": "2024-08-11T20:02:40.387Z"
   },
   {
    "duration": 423,
    "start_time": "2024-08-11T20:03:07.207Z"
   },
   {
    "duration": 2,
    "start_time": "2024-08-11T20:03:07.632Z"
   },
   {
    "duration": 3,
    "start_time": "2024-08-11T20:03:07.636Z"
   },
   {
    "duration": 225,
    "start_time": "2024-08-11T20:03:07.641Z"
   },
   {
    "duration": 33,
    "start_time": "2024-08-11T20:03:07.868Z"
   },
   {
    "duration": 45,
    "start_time": "2024-08-11T20:03:07.902Z"
   },
   {
    "duration": 17,
    "start_time": "2024-08-11T20:03:07.949Z"
   },
   {
    "duration": 10,
    "start_time": "2024-08-11T20:03:07.968Z"
   },
   {
    "duration": 17,
    "start_time": "2024-08-11T20:03:07.980Z"
   },
   {
    "duration": 12,
    "start_time": "2024-08-11T20:03:07.999Z"
   },
   {
    "duration": 12,
    "start_time": "2024-08-11T20:03:08.012Z"
   },
   {
    "duration": 4,
    "start_time": "2024-08-11T20:03:08.025Z"
   },
   {
    "duration": 3,
    "start_time": "2024-08-11T20:03:08.031Z"
   },
   {
    "duration": 18,
    "start_time": "2024-08-11T20:03:08.037Z"
   },
   {
    "duration": 15,
    "start_time": "2024-08-11T20:03:08.057Z"
   },
   {
    "duration": 14,
    "start_time": "2024-08-11T20:03:08.073Z"
   },
   {
    "duration": 36,
    "start_time": "2024-08-11T20:03:08.089Z"
   },
   {
    "duration": 4,
    "start_time": "2024-08-11T20:03:08.127Z"
   },
   {
    "duration": 5,
    "start_time": "2024-08-11T20:03:08.133Z"
   },
   {
    "duration": 7,
    "start_time": "2024-08-11T20:03:08.139Z"
   },
   {
    "duration": 5,
    "start_time": "2024-08-11T20:03:08.147Z"
   },
   {
    "duration": 133,
    "start_time": "2024-08-11T20:03:08.153Z"
   },
   {
    "duration": 4,
    "start_time": "2024-08-11T20:03:08.287Z"
   },
   {
    "duration": 11,
    "start_time": "2024-08-11T20:03:08.292Z"
   },
   {
    "duration": 22,
    "start_time": "2024-08-11T20:03:08.304Z"
   },
   {
    "duration": 4,
    "start_time": "2024-08-11T20:03:08.327Z"
   },
   {
    "duration": 5,
    "start_time": "2024-08-11T20:03:08.332Z"
   },
   {
    "duration": 8,
    "start_time": "2024-08-11T20:03:08.339Z"
   },
   {
    "duration": 181,
    "start_time": "2024-08-11T20:03:08.349Z"
   },
   {
    "duration": 123,
    "start_time": "2024-08-11T20:03:08.531Z"
   },
   {
    "duration": 11,
    "start_time": "2024-08-11T20:03:08.655Z"
   },
   {
    "duration": 7,
    "start_time": "2024-08-11T20:03:08.668Z"
   },
   {
    "duration": 307,
    "start_time": "2024-08-11T20:03:08.676Z"
   },
   {
    "duration": 220,
    "start_time": "2024-08-11T20:03:08.984Z"
   },
   {
    "duration": 27,
    "start_time": "2024-08-11T20:03:09.205Z"
   },
   {
    "duration": 413,
    "start_time": "2024-08-11T20:03:09.233Z"
   },
   {
    "duration": 238,
    "start_time": "2024-08-11T20:03:09.647Z"
   },
   {
    "duration": 307,
    "start_time": "2024-08-11T20:03:09.887Z"
   },
   {
    "duration": 8,
    "start_time": "2024-08-11T20:03:10.196Z"
   },
   {
    "duration": 160,
    "start_time": "2024-08-11T20:03:10.206Z"
   },
   {
    "duration": 6,
    "start_time": "2024-08-11T20:03:10.369Z"
   },
   {
    "duration": 8,
    "start_time": "2024-08-11T20:03:10.376Z"
   },
   {
    "duration": 251,
    "start_time": "2024-08-11T20:03:10.386Z"
   },
   {
    "duration": 142,
    "start_time": "2024-08-11T20:03:29.028Z"
   },
   {
    "duration": 144,
    "start_time": "2024-08-11T20:03:39.769Z"
   },
   {
    "duration": 145,
    "start_time": "2024-08-11T20:03:43.947Z"
   },
   {
    "duration": 98,
    "start_time": "2024-08-11T20:06:08.495Z"
   },
   {
    "duration": 94,
    "start_time": "2024-08-11T20:07:13.956Z"
   },
   {
    "duration": 426,
    "start_time": "2024-08-11T20:07:42.517Z"
   },
   {
    "duration": 3,
    "start_time": "2024-08-11T20:07:42.944Z"
   },
   {
    "duration": 4,
    "start_time": "2024-08-11T20:07:42.949Z"
   },
   {
    "duration": 233,
    "start_time": "2024-08-11T20:07:42.954Z"
   },
   {
    "duration": 33,
    "start_time": "2024-08-11T20:07:43.189Z"
   },
   {
    "duration": 45,
    "start_time": "2024-08-11T20:07:43.224Z"
   },
   {
    "duration": 18,
    "start_time": "2024-08-11T20:07:43.270Z"
   },
   {
    "duration": 10,
    "start_time": "2024-08-11T20:07:43.290Z"
   },
   {
    "duration": 15,
    "start_time": "2024-08-11T20:07:43.302Z"
   },
   {
    "duration": 41,
    "start_time": "2024-08-11T20:07:43.319Z"
   },
   {
    "duration": 21,
    "start_time": "2024-08-11T20:07:43.361Z"
   },
   {
    "duration": 5,
    "start_time": "2024-08-11T20:07:43.383Z"
   },
   {
    "duration": 4,
    "start_time": "2024-08-11T20:07:43.389Z"
   },
   {
    "duration": 18,
    "start_time": "2024-08-11T20:07:43.396Z"
   },
   {
    "duration": 15,
    "start_time": "2024-08-11T20:07:43.415Z"
   },
   {
    "duration": 13,
    "start_time": "2024-08-11T20:07:43.432Z"
   },
   {
    "duration": 22,
    "start_time": "2024-08-11T20:07:43.447Z"
   },
   {
    "duration": 4,
    "start_time": "2024-08-11T20:07:43.470Z"
   },
   {
    "duration": 11,
    "start_time": "2024-08-11T20:07:43.475Z"
   },
   {
    "duration": 10,
    "start_time": "2024-08-11T20:07:43.487Z"
   },
   {
    "duration": 6,
    "start_time": "2024-08-11T20:07:43.498Z"
   },
   {
    "duration": 126,
    "start_time": "2024-08-11T20:07:43.505Z"
   },
   {
    "duration": 4,
    "start_time": "2024-08-11T20:07:43.632Z"
   },
   {
    "duration": 9,
    "start_time": "2024-08-11T20:07:43.638Z"
   },
   {
    "duration": 7,
    "start_time": "2024-08-11T20:07:43.648Z"
   },
   {
    "duration": 5,
    "start_time": "2024-08-11T20:07:43.656Z"
   },
   {
    "duration": 4,
    "start_time": "2024-08-11T20:07:43.662Z"
   },
   {
    "duration": 9,
    "start_time": "2024-08-11T20:07:43.668Z"
   },
   {
    "duration": 202,
    "start_time": "2024-08-11T20:07:43.678Z"
   },
   {
    "duration": 131,
    "start_time": "2024-08-11T20:07:43.881Z"
   },
   {
    "duration": 20,
    "start_time": "2024-08-11T20:07:44.014Z"
   },
   {
    "duration": 5,
    "start_time": "2024-08-11T20:07:44.035Z"
   },
   {
    "duration": 293,
    "start_time": "2024-08-11T20:07:44.041Z"
   },
   {
    "duration": 226,
    "start_time": "2024-08-11T20:07:44.336Z"
   },
   {
    "duration": 14,
    "start_time": "2024-08-11T20:07:44.564Z"
   },
   {
    "duration": 353,
    "start_time": "2024-08-11T20:07:44.579Z"
   },
   {
    "duration": 241,
    "start_time": "2024-08-11T20:07:44.933Z"
   },
   {
    "duration": 289,
    "start_time": "2024-08-11T20:07:45.176Z"
   },
   {
    "duration": 6,
    "start_time": "2024-08-11T20:07:45.466Z"
   },
   {
    "duration": 151,
    "start_time": "2024-08-11T20:07:45.473Z"
   },
   {
    "duration": 6,
    "start_time": "2024-08-11T20:07:45.627Z"
   },
   {
    "duration": 8,
    "start_time": "2024-08-11T20:07:45.634Z"
   },
   {
    "duration": 250,
    "start_time": "2024-08-11T20:07:45.644Z"
   },
   {
    "duration": 142,
    "start_time": "2024-08-11T20:08:18.296Z"
   },
   {
    "duration": 145,
    "start_time": "2024-08-11T20:08:22.576Z"
   },
   {
    "duration": 6,
    "start_time": "2024-08-11T20:10:43.108Z"
   },
   {
    "duration": 163,
    "start_time": "2024-08-11T20:15:51.123Z"
   },
   {
    "duration": 157,
    "start_time": "2024-08-11T20:16:46.604Z"
   },
   {
    "duration": 153,
    "start_time": "2024-08-11T20:18:55.168Z"
   },
   {
    "duration": 240,
    "start_time": "2024-08-11T20:19:19.589Z"
   },
   {
    "duration": 213,
    "start_time": "2024-08-11T20:19:54.219Z"
   },
   {
    "duration": 158,
    "start_time": "2024-08-11T20:20:35.931Z"
   },
   {
    "duration": 162,
    "start_time": "2024-08-11T20:20:45.068Z"
   },
   {
    "duration": 151,
    "start_time": "2024-08-11T20:21:01.968Z"
   },
   {
    "duration": 5,
    "start_time": "2024-08-11T20:23:26.168Z"
   },
   {
    "duration": 4,
    "start_time": "2024-08-11T20:23:33.786Z"
   },
   {
    "duration": 448,
    "start_time": "2024-08-12T17:14:46.857Z"
   },
   {
    "duration": 2,
    "start_time": "2024-08-12T17:14:47.307Z"
   },
   {
    "duration": 48,
    "start_time": "2024-08-12T17:14:47.310Z"
   },
   {
    "duration": 431,
    "start_time": "2024-08-12T17:14:47.359Z"
   },
   {
    "duration": 71,
    "start_time": "2024-08-12T17:14:47.793Z"
   },
   {
    "duration": 90,
    "start_time": "2024-08-12T17:14:47.866Z"
   },
   {
    "duration": 68,
    "start_time": "2024-08-12T17:14:47.958Z"
   },
   {
    "duration": 11,
    "start_time": "2024-08-12T17:14:48.028Z"
   },
   {
    "duration": 21,
    "start_time": "2024-08-12T17:14:48.040Z"
   },
   {
    "duration": 13,
    "start_time": "2024-08-12T17:14:48.062Z"
   },
   {
    "duration": 12,
    "start_time": "2024-08-12T17:14:48.076Z"
   },
   {
    "duration": 5,
    "start_time": "2024-08-12T17:14:48.089Z"
   },
   {
    "duration": 7,
    "start_time": "2024-08-12T17:14:48.095Z"
   },
   {
    "duration": 21,
    "start_time": "2024-08-12T17:14:48.104Z"
   },
   {
    "duration": 41,
    "start_time": "2024-08-12T17:14:48.126Z"
   },
   {
    "duration": 14,
    "start_time": "2024-08-12T17:14:48.169Z"
   },
   {
    "duration": 7,
    "start_time": "2024-08-12T17:14:48.184Z"
   },
   {
    "duration": 17,
    "start_time": "2024-08-12T17:14:48.192Z"
   },
   {
    "duration": 6,
    "start_time": "2024-08-12T17:14:48.211Z"
   },
   {
    "duration": 8,
    "start_time": "2024-08-12T17:14:48.219Z"
   },
   {
    "duration": 29,
    "start_time": "2024-08-12T17:14:48.229Z"
   },
   {
    "duration": 130,
    "start_time": "2024-08-12T17:14:48.260Z"
   },
   {
    "duration": 4,
    "start_time": "2024-08-12T17:14:48.391Z"
   },
   {
    "duration": 14,
    "start_time": "2024-08-12T17:14:48.396Z"
   },
   {
    "duration": 7,
    "start_time": "2024-08-12T17:14:48.411Z"
   },
   {
    "duration": 20,
    "start_time": "2024-08-12T17:14:48.419Z"
   },
   {
    "duration": 13,
    "start_time": "2024-08-12T17:14:48.440Z"
   },
   {
    "duration": 24,
    "start_time": "2024-08-12T17:14:48.455Z"
   },
   {
    "duration": 164,
    "start_time": "2024-08-12T17:14:48.480Z"
   },
   {
    "duration": 125,
    "start_time": "2024-08-12T17:14:48.645Z"
   },
   {
    "duration": 11,
    "start_time": "2024-08-12T17:14:48.772Z"
   },
   {
    "duration": 86,
    "start_time": "2024-08-12T17:14:48.785Z"
   },
   {
    "duration": 285,
    "start_time": "2024-08-12T17:14:48.873Z"
   },
   {
    "duration": 289,
    "start_time": "2024-08-12T17:14:49.161Z"
   },
   {
    "duration": 18,
    "start_time": "2024-08-12T17:14:49.452Z"
   },
   {
    "duration": 348,
    "start_time": "2024-08-12T17:14:49.472Z"
   },
   {
    "duration": 244,
    "start_time": "2024-08-12T17:14:49.822Z"
   },
   {
    "duration": 324,
    "start_time": "2024-08-12T17:14:50.067Z"
   },
   {
    "duration": 6,
    "start_time": "2024-08-12T17:14:50.393Z"
   },
   {
    "duration": 164,
    "start_time": "2024-08-12T17:14:50.401Z"
   },
   {
    "duration": 6,
    "start_time": "2024-08-12T17:14:50.569Z"
   },
   {
    "duration": 184,
    "start_time": "2024-08-12T17:14:50.576Z"
   },
   {
    "duration": 6,
    "start_time": "2024-08-12T17:14:50.762Z"
   },
   {
    "duration": 89,
    "start_time": "2024-08-12T17:14:50.770Z"
   },
   {
    "duration": 9,
    "start_time": "2024-08-12T17:14:50.861Z"
   },
   {
    "duration": 256,
    "start_time": "2024-08-12T17:14:50.872Z"
   },
   {
    "duration": 12,
    "start_time": "2024-08-12T17:30:56.647Z"
   },
   {
    "duration": 11,
    "start_time": "2024-08-12T17:31:22.584Z"
   },
   {
    "duration": 7,
    "start_time": "2024-08-12T17:32:36.705Z"
   },
   {
    "duration": 6,
    "start_time": "2024-08-12T17:33:21.384Z"
   },
   {
    "duration": 12,
    "start_time": "2024-08-12T17:34:31.514Z"
   },
   {
    "duration": 7,
    "start_time": "2024-08-12T17:34:37.704Z"
   },
   {
    "duration": 5,
    "start_time": "2024-08-12T17:34:38.892Z"
   },
   {
    "duration": 6,
    "start_time": "2024-08-12T17:35:30.445Z"
   },
   {
    "duration": 5,
    "start_time": "2024-08-12T17:35:41.214Z"
   },
   {
    "duration": 3,
    "start_time": "2024-08-12T17:36:08.085Z"
   },
   {
    "duration": 5,
    "start_time": "2024-08-12T17:36:16.165Z"
   },
   {
    "duration": 8,
    "start_time": "2024-08-12T17:37:22.025Z"
   },
   {
    "duration": 75,
    "start_time": "2024-08-12T17:37:22.547Z"
   },
   {
    "duration": 505,
    "start_time": "2024-08-12T17:40:15.126Z"
   },
   {
    "duration": 40,
    "start_time": "2024-08-12T17:41:17.874Z"
   },
   {
    "duration": 62,
    "start_time": "2024-08-12T17:41:33.744Z"
   },
   {
    "duration": 15,
    "start_time": "2024-08-12T17:41:58.421Z"
   },
   {
    "duration": 14,
    "start_time": "2024-08-12T17:46:28.691Z"
   },
   {
    "duration": 5,
    "start_time": "2024-08-12T17:47:07.456Z"
   },
   {
    "duration": 12,
    "start_time": "2024-08-12T17:48:11.095Z"
   },
   {
    "duration": 390,
    "start_time": "2024-08-12T17:48:32.794Z"
   },
   {
    "duration": 3,
    "start_time": "2024-08-12T17:48:33.185Z"
   },
   {
    "duration": 8,
    "start_time": "2024-08-12T17:48:33.189Z"
   },
   {
    "duration": 246,
    "start_time": "2024-08-12T17:48:33.199Z"
   },
   {
    "duration": 482,
    "start_time": "2024-08-12T17:48:33.447Z"
   },
   {
    "duration": 28,
    "start_time": "2024-08-12T17:48:33.930Z"
   },
   {
    "duration": 38,
    "start_time": "2024-08-12T17:48:33.959Z"
   },
   {
    "duration": 15,
    "start_time": "2024-08-12T17:48:33.999Z"
   },
   {
    "duration": 13,
    "start_time": "2024-08-12T17:48:34.016Z"
   },
   {
    "duration": 38,
    "start_time": "2024-08-12T17:48:34.030Z"
   },
   {
    "duration": 21,
    "start_time": "2024-08-12T17:48:34.070Z"
   },
   {
    "duration": 14,
    "start_time": "2024-08-12T17:48:34.092Z"
   },
   {
    "duration": 3,
    "start_time": "2024-08-12T17:48:34.108Z"
   },
   {
    "duration": 4,
    "start_time": "2024-08-12T17:48:34.114Z"
   },
   {
    "duration": 37,
    "start_time": "2024-08-12T17:48:34.119Z"
   },
   {
    "duration": 24,
    "start_time": "2024-08-12T17:48:34.158Z"
   },
   {
    "duration": 16,
    "start_time": "2024-08-12T17:48:34.184Z"
   },
   {
    "duration": 5,
    "start_time": "2024-08-12T17:48:34.203Z"
   },
   {
    "duration": 24,
    "start_time": "2024-08-12T17:48:34.210Z"
   },
   {
    "duration": 18,
    "start_time": "2024-08-12T17:48:34.236Z"
   },
   {
    "duration": 8,
    "start_time": "2024-08-12T17:48:34.255Z"
   },
   {
    "duration": 11,
    "start_time": "2024-08-12T17:48:34.265Z"
   },
   {
    "duration": 142,
    "start_time": "2024-08-12T17:48:34.277Z"
   },
   {
    "duration": 4,
    "start_time": "2024-08-12T17:48:34.420Z"
   },
   {
    "duration": 11,
    "start_time": "2024-08-12T17:48:34.425Z"
   },
   {
    "duration": 17,
    "start_time": "2024-08-12T17:48:34.438Z"
   },
   {
    "duration": 9,
    "start_time": "2024-08-12T17:48:34.457Z"
   },
   {
    "duration": 10,
    "start_time": "2024-08-12T17:48:34.467Z"
   },
   {
    "duration": 11,
    "start_time": "2024-08-12T17:48:34.478Z"
   },
   {
    "duration": 203,
    "start_time": "2024-08-12T17:48:34.490Z"
   },
   {
    "duration": 134,
    "start_time": "2024-08-12T17:48:34.695Z"
   },
   {
    "duration": 28,
    "start_time": "2024-08-12T17:48:34.831Z"
   },
   {
    "duration": 89,
    "start_time": "2024-08-12T17:48:34.860Z"
   },
   {
    "duration": 294,
    "start_time": "2024-08-12T17:48:34.951Z"
   },
   {
    "duration": 232,
    "start_time": "2024-08-12T17:48:35.247Z"
   },
   {
    "duration": 14,
    "start_time": "2024-08-12T17:48:35.481Z"
   },
   {
    "duration": 309,
    "start_time": "2024-08-12T17:48:35.496Z"
   },
   {
    "duration": 257,
    "start_time": "2024-08-12T17:48:35.806Z"
   },
   {
    "duration": 346,
    "start_time": "2024-08-12T17:48:36.064Z"
   },
   {
    "duration": 6,
    "start_time": "2024-08-12T17:48:36.412Z"
   },
   {
    "duration": 180,
    "start_time": "2024-08-12T17:48:36.422Z"
   },
   {
    "duration": 5,
    "start_time": "2024-08-12T17:48:36.604Z"
   },
   {
    "duration": 174,
    "start_time": "2024-08-12T17:48:36.611Z"
   },
   {
    "duration": 4,
    "start_time": "2024-08-12T17:48:36.787Z"
   },
   {
    "duration": 13,
    "start_time": "2024-08-12T17:48:36.793Z"
   },
   {
    "duration": 3,
    "start_time": "2024-08-12T17:48:36.808Z"
   },
   {
    "duration": 114,
    "start_time": "2024-08-12T17:48:36.812Z"
   },
   {
    "duration": 0,
    "start_time": "2024-08-12T17:48:36.927Z"
   },
   {
    "duration": 0,
    "start_time": "2024-08-12T17:48:36.929Z"
   },
   {
    "duration": 0,
    "start_time": "2024-08-12T17:48:36.930Z"
   },
   {
    "duration": 5,
    "start_time": "2024-08-12T17:49:01.075Z"
   },
   {
    "duration": 11,
    "start_time": "2024-08-12T17:51:16.324Z"
   },
   {
    "duration": 10,
    "start_time": "2024-08-12T17:54:06.395Z"
   },
   {
    "duration": 6,
    "start_time": "2024-08-12T17:54:28.580Z"
   },
   {
    "duration": 2,
    "start_time": "2024-08-12T17:54:50.325Z"
   },
   {
    "duration": 11,
    "start_time": "2024-08-12T17:54:50.944Z"
   },
   {
    "duration": 6,
    "start_time": "2024-08-12T17:55:06.004Z"
   },
   {
    "duration": 439,
    "start_time": "2024-08-12T17:55:51.743Z"
   },
   {
    "duration": 3,
    "start_time": "2024-08-12T17:55:52.184Z"
   },
   {
    "duration": 9,
    "start_time": "2024-08-12T17:55:52.188Z"
   },
   {
    "duration": 265,
    "start_time": "2024-08-12T17:55:52.199Z"
   },
   {
    "duration": 461,
    "start_time": "2024-08-12T17:55:52.466Z"
   },
   {
    "duration": 28,
    "start_time": "2024-08-12T17:55:52.928Z"
   },
   {
    "duration": 37,
    "start_time": "2024-08-12T17:55:52.958Z"
   },
   {
    "duration": 16,
    "start_time": "2024-08-12T17:55:52.997Z"
   },
   {
    "duration": 11,
    "start_time": "2024-08-12T17:55:53.015Z"
   },
   {
    "duration": 12,
    "start_time": "2024-08-12T17:55:53.029Z"
   },
   {
    "duration": 14,
    "start_time": "2024-08-12T17:55:53.043Z"
   },
   {
    "duration": 15,
    "start_time": "2024-08-12T17:55:53.059Z"
   },
   {
    "duration": 5,
    "start_time": "2024-08-12T17:55:53.076Z"
   },
   {
    "duration": 12,
    "start_time": "2024-08-12T17:55:53.082Z"
   },
   {
    "duration": 24,
    "start_time": "2024-08-12T17:55:53.095Z"
   },
   {
    "duration": 40,
    "start_time": "2024-08-12T17:55:53.121Z"
   },
   {
    "duration": 17,
    "start_time": "2024-08-12T17:55:53.163Z"
   },
   {
    "duration": 15,
    "start_time": "2024-08-12T17:55:53.182Z"
   },
   {
    "duration": 5,
    "start_time": "2024-08-12T17:55:53.198Z"
   },
   {
    "duration": 7,
    "start_time": "2024-08-12T17:55:53.204Z"
   },
   {
    "duration": 12,
    "start_time": "2024-08-12T17:55:53.212Z"
   },
   {
    "duration": 5,
    "start_time": "2024-08-12T17:55:53.225Z"
   },
   {
    "duration": 117,
    "start_time": "2024-08-12T17:55:53.253Z"
   },
   {
    "duration": 4,
    "start_time": "2024-08-12T17:55:53.371Z"
   },
   {
    "duration": 14,
    "start_time": "2024-08-12T17:55:53.377Z"
   },
   {
    "duration": 21,
    "start_time": "2024-08-12T17:55:53.393Z"
   },
   {
    "duration": 9,
    "start_time": "2024-08-12T17:55:53.416Z"
   },
   {
    "duration": 4,
    "start_time": "2024-08-12T17:55:53.429Z"
   },
   {
    "duration": 21,
    "start_time": "2024-08-12T17:55:53.434Z"
   },
   {
    "duration": 173,
    "start_time": "2024-08-12T17:55:53.456Z"
   },
   {
    "duration": 137,
    "start_time": "2024-08-12T17:55:53.630Z"
   },
   {
    "duration": 13,
    "start_time": "2024-08-12T17:55:53.768Z"
   },
   {
    "duration": 9,
    "start_time": "2024-08-12T17:55:53.782Z"
   },
   {
    "duration": 300,
    "start_time": "2024-08-12T17:55:53.792Z"
   },
   {
    "duration": 237,
    "start_time": "2024-08-12T17:55:54.093Z"
   },
   {
    "duration": 13,
    "start_time": "2024-08-12T17:55:54.332Z"
   },
   {
    "duration": 334,
    "start_time": "2024-08-12T17:55:54.353Z"
   },
   {
    "duration": 238,
    "start_time": "2024-08-12T17:55:54.688Z"
   },
   {
    "duration": 358,
    "start_time": "2024-08-12T17:55:54.928Z"
   },
   {
    "duration": 6,
    "start_time": "2024-08-12T17:55:55.288Z"
   },
   {
    "duration": 150,
    "start_time": "2024-08-12T17:55:55.295Z"
   },
   {
    "duration": 6,
    "start_time": "2024-08-12T17:55:55.453Z"
   },
   {
    "duration": 176,
    "start_time": "2024-08-12T17:55:55.461Z"
   },
   {
    "duration": 6,
    "start_time": "2024-08-12T17:55:55.638Z"
   },
   {
    "duration": 10,
    "start_time": "2024-08-12T17:55:55.653Z"
   },
   {
    "duration": 5,
    "start_time": "2024-08-12T17:55:55.665Z"
   },
   {
    "duration": 5,
    "start_time": "2024-08-12T17:55:55.672Z"
   },
   {
    "duration": 7,
    "start_time": "2024-08-12T17:55:55.679Z"
   },
   {
    "duration": 333,
    "start_time": "2024-08-12T17:55:55.688Z"
   },
   {
    "duration": 75,
    "start_time": "2024-08-12T17:56:04.844Z"
   },
   {
    "duration": 4,
    "start_time": "2024-08-12T17:56:11.565Z"
   },
   {
    "duration": 6,
    "start_time": "2024-08-12T17:56:16.256Z"
   },
   {
    "duration": 118,
    "start_time": "2024-08-12T17:56:23.215Z"
   },
   {
    "duration": 6,
    "start_time": "2024-08-12T17:56:37.115Z"
   },
   {
    "duration": 6,
    "start_time": "2024-08-12T17:56:51.014Z"
   },
   {
    "duration": 11,
    "start_time": "2024-08-12T18:06:33.704Z"
   },
   {
    "duration": 4,
    "start_time": "2024-08-12T18:09:48.665Z"
   },
   {
    "duration": 10,
    "start_time": "2024-08-12T18:11:50.284Z"
   },
   {
    "duration": 445,
    "start_time": "2024-08-12T18:33:05.853Z"
   },
   {
    "duration": 3,
    "start_time": "2024-08-12T18:33:06.300Z"
   },
   {
    "duration": 16,
    "start_time": "2024-08-12T18:33:06.304Z"
   },
   {
    "duration": 268,
    "start_time": "2024-08-12T18:33:06.322Z"
   },
   {
    "duration": 524,
    "start_time": "2024-08-12T18:33:06.591Z"
   },
   {
    "duration": 27,
    "start_time": "2024-08-12T18:33:07.116Z"
   },
   {
    "duration": 37,
    "start_time": "2024-08-12T18:33:07.145Z"
   },
   {
    "duration": 18,
    "start_time": "2024-08-12T18:33:07.184Z"
   },
   {
    "duration": 14,
    "start_time": "2024-08-12T18:33:07.204Z"
   },
   {
    "duration": 15,
    "start_time": "2024-08-12T18:33:07.222Z"
   },
   {
    "duration": 18,
    "start_time": "2024-08-12T18:33:07.238Z"
   },
   {
    "duration": 22,
    "start_time": "2024-08-12T18:33:07.258Z"
   },
   {
    "duration": 15,
    "start_time": "2024-08-12T18:33:07.282Z"
   },
   {
    "duration": 5,
    "start_time": "2024-08-12T18:33:07.299Z"
   },
   {
    "duration": 20,
    "start_time": "2024-08-12T18:33:07.306Z"
   },
   {
    "duration": 41,
    "start_time": "2024-08-12T18:33:07.327Z"
   },
   {
    "duration": 15,
    "start_time": "2024-08-12T18:33:07.370Z"
   },
   {
    "duration": 21,
    "start_time": "2024-08-12T18:33:07.387Z"
   },
   {
    "duration": 7,
    "start_time": "2024-08-12T18:33:07.409Z"
   },
   {
    "duration": 36,
    "start_time": "2024-08-12T18:33:07.418Z"
   },
   {
    "duration": 8,
    "start_time": "2024-08-12T18:33:07.456Z"
   },
   {
    "duration": 5,
    "start_time": "2024-08-12T18:33:07.466Z"
   },
   {
    "duration": 153,
    "start_time": "2024-08-12T18:33:07.473Z"
   },
   {
    "duration": 5,
    "start_time": "2024-08-12T18:33:07.628Z"
   },
   {
    "duration": 71,
    "start_time": "2024-08-12T18:33:07.635Z"
   },
   {
    "duration": 9,
    "start_time": "2024-08-12T18:33:07.708Z"
   },
   {
    "duration": 13,
    "start_time": "2024-08-12T18:33:07.720Z"
   },
   {
    "duration": 4,
    "start_time": "2024-08-12T18:33:07.737Z"
   },
   {
    "duration": 14,
    "start_time": "2024-08-12T18:33:07.743Z"
   },
   {
    "duration": 188,
    "start_time": "2024-08-12T18:33:07.759Z"
   },
   {
    "duration": 144,
    "start_time": "2024-08-12T18:33:07.949Z"
   },
   {
    "duration": 12,
    "start_time": "2024-08-12T18:33:08.095Z"
   },
   {
    "duration": 5,
    "start_time": "2024-08-12T18:33:08.109Z"
   },
   {
    "duration": 332,
    "start_time": "2024-08-12T18:33:08.115Z"
   },
   {
    "duration": 233,
    "start_time": "2024-08-12T18:33:08.449Z"
   },
   {
    "duration": 16,
    "start_time": "2024-08-12T18:33:08.684Z"
   },
   {
    "duration": 282,
    "start_time": "2024-08-12T18:33:08.702Z"
   },
   {
    "duration": 245,
    "start_time": "2024-08-12T18:33:08.986Z"
   },
   {
    "duration": 335,
    "start_time": "2024-08-12T18:33:09.232Z"
   },
   {
    "duration": 7,
    "start_time": "2024-08-12T18:33:09.568Z"
   },
   {
    "duration": 167,
    "start_time": "2024-08-12T18:33:09.577Z"
   },
   {
    "duration": 12,
    "start_time": "2024-08-12T18:33:09.746Z"
   },
   {
    "duration": 193,
    "start_time": "2024-08-12T18:33:09.759Z"
   },
   {
    "duration": 5,
    "start_time": "2024-08-12T18:33:09.954Z"
   },
   {
    "duration": 20,
    "start_time": "2024-08-12T18:33:09.961Z"
   },
   {
    "duration": 12,
    "start_time": "2024-08-12T18:33:09.983Z"
   },
   {
    "duration": 124,
    "start_time": "2024-08-12T18:33:09.996Z"
   },
   {
    "duration": 0,
    "start_time": "2024-08-12T18:33:10.122Z"
   },
   {
    "duration": 0,
    "start_time": "2024-08-12T18:33:10.123Z"
   },
   {
    "duration": 0,
    "start_time": "2024-08-12T18:33:10.125Z"
   },
   {
    "duration": 0,
    "start_time": "2024-08-12T18:33:10.126Z"
   },
   {
    "duration": 0,
    "start_time": "2024-08-12T18:33:10.127Z"
   },
   {
    "duration": 0,
    "start_time": "2024-08-12T18:33:10.128Z"
   },
   {
    "duration": 0,
    "start_time": "2024-08-12T18:33:10.215Z"
   },
   {
    "duration": 17,
    "start_time": "2024-08-12T18:33:24.787Z"
   },
   {
    "duration": 14,
    "start_time": "2024-08-12T18:34:15.288Z"
   },
   {
    "duration": 10,
    "start_time": "2024-08-12T18:36:03.249Z"
   },
   {
    "duration": 54,
    "start_time": "2024-08-12T18:36:53.931Z"
   },
   {
    "duration": 8,
    "start_time": "2024-08-12T18:37:09.969Z"
   },
   {
    "duration": 12,
    "start_time": "2024-08-12T18:37:30.051Z"
   },
   {
    "duration": 12,
    "start_time": "2024-08-12T18:37:35.528Z"
   },
   {
    "duration": 6,
    "start_time": "2024-08-12T18:41:06.463Z"
   },
   {
    "duration": 4,
    "start_time": "2024-08-12T18:41:48.094Z"
   },
   {
    "duration": 11,
    "start_time": "2024-08-12T18:42:11.128Z"
   },
   {
    "duration": 9,
    "start_time": "2024-08-12T18:42:11.969Z"
   },
   {
    "duration": 15,
    "start_time": "2024-08-12T18:43:07.152Z"
   },
   {
    "duration": 10,
    "start_time": "2024-08-12T19:05:26.384Z"
   },
   {
    "duration": 6,
    "start_time": "2024-08-12T19:06:14.418Z"
   },
   {
    "duration": 6,
    "start_time": "2024-08-12T19:06:32.952Z"
   },
   {
    "duration": 14,
    "start_time": "2024-08-12T19:08:37.141Z"
   },
   {
    "duration": 4,
    "start_time": "2024-08-12T19:09:14.082Z"
   },
   {
    "duration": 7,
    "start_time": "2024-08-12T19:09:16.912Z"
   },
   {
    "duration": 8,
    "start_time": "2024-08-12T19:09:31.101Z"
   },
   {
    "duration": 10,
    "start_time": "2024-08-12T19:09:49.299Z"
   },
   {
    "duration": 5,
    "start_time": "2024-08-12T19:10:12.152Z"
   },
   {
    "duration": 18,
    "start_time": "2024-08-12T19:15:40.521Z"
   },
   {
    "duration": 5,
    "start_time": "2024-08-12T19:16:21.792Z"
   },
   {
    "duration": 7,
    "start_time": "2024-08-12T19:26:35.233Z"
   },
   {
    "duration": 7,
    "start_time": "2024-08-12T19:26:57.311Z"
   },
   {
    "duration": 7,
    "start_time": "2024-08-12T19:27:28.331Z"
   },
   {
    "duration": 8,
    "start_time": "2024-08-12T19:30:07.431Z"
   },
   {
    "duration": 7,
    "start_time": "2024-08-12T19:30:20.990Z"
   },
   {
    "duration": 14,
    "start_time": "2024-08-12T19:33:48.041Z"
   },
   {
    "duration": 10,
    "start_time": "2024-08-12T19:36:19.507Z"
   },
   {
    "duration": 10,
    "start_time": "2024-08-12T19:36:37.288Z"
   },
   {
    "duration": 5,
    "start_time": "2024-08-12T19:36:38.082Z"
   },
   {
    "duration": 5,
    "start_time": "2024-08-12T19:36:51.477Z"
   },
   {
    "duration": 7,
    "start_time": "2024-08-12T19:39:18.390Z"
   },
   {
    "duration": 6,
    "start_time": "2024-08-12T19:39:26.675Z"
   },
   {
    "duration": 10,
    "start_time": "2024-08-12T19:39:43.708Z"
   },
   {
    "duration": 4,
    "start_time": "2024-08-12T19:39:50.819Z"
   },
   {
    "duration": 5,
    "start_time": "2024-08-12T19:40:03.591Z"
   },
   {
    "duration": 6,
    "start_time": "2024-08-12T19:41:43.012Z"
   },
   {
    "duration": 5,
    "start_time": "2024-08-12T19:42:03.841Z"
   },
   {
    "duration": 9,
    "start_time": "2024-08-12T19:54:02.749Z"
   },
   {
    "duration": 9,
    "start_time": "2024-08-12T19:54:04.077Z"
   },
   {
    "duration": 4,
    "start_time": "2024-08-12T19:54:25.830Z"
   },
   {
    "duration": 1064,
    "start_time": "2024-08-12T19:57:40.750Z"
   },
   {
    "duration": 13,
    "start_time": "2024-08-12T19:58:09.629Z"
   },
   {
    "duration": 7,
    "start_time": "2024-08-12T19:58:47.645Z"
   },
   {
    "duration": 5,
    "start_time": "2024-08-12T19:59:28.786Z"
   },
   {
    "duration": 8,
    "start_time": "2024-08-12T20:08:30.177Z"
   },
   {
    "duration": 359,
    "start_time": "2024-08-12T21:06:32.907Z"
   },
   {
    "duration": 3,
    "start_time": "2024-08-12T21:06:33.268Z"
   },
   {
    "duration": 9,
    "start_time": "2024-08-12T21:06:33.272Z"
   },
   {
    "duration": 249,
    "start_time": "2024-08-12T21:06:33.282Z"
   },
   {
    "duration": 492,
    "start_time": "2024-08-12T21:06:33.533Z"
   },
   {
    "duration": 29,
    "start_time": "2024-08-12T21:06:34.027Z"
   },
   {
    "duration": 38,
    "start_time": "2024-08-12T21:06:34.057Z"
   },
   {
    "duration": 16,
    "start_time": "2024-08-12T21:06:34.097Z"
   },
   {
    "duration": 21,
    "start_time": "2024-08-12T21:06:34.115Z"
   },
   {
    "duration": 14,
    "start_time": "2024-08-12T21:06:34.138Z"
   },
   {
    "duration": 13,
    "start_time": "2024-08-12T21:06:34.154Z"
   },
   {
    "duration": 15,
    "start_time": "2024-08-12T21:06:34.169Z"
   },
   {
    "duration": 12,
    "start_time": "2024-08-12T21:06:34.186Z"
   },
   {
    "duration": 9,
    "start_time": "2024-08-12T21:06:34.201Z"
   },
   {
    "duration": 27,
    "start_time": "2024-08-12T21:06:34.212Z"
   },
   {
    "duration": 27,
    "start_time": "2024-08-12T21:06:34.241Z"
   },
   {
    "duration": 27,
    "start_time": "2024-08-12T21:06:34.269Z"
   },
   {
    "duration": 13,
    "start_time": "2024-08-12T21:06:34.298Z"
   },
   {
    "duration": 11,
    "start_time": "2024-08-12T21:06:34.313Z"
   },
   {
    "duration": 47,
    "start_time": "2024-08-12T21:06:34.326Z"
   },
   {
    "duration": 23,
    "start_time": "2024-08-12T21:06:34.375Z"
   },
   {
    "duration": 9,
    "start_time": "2024-08-12T21:06:34.399Z"
   },
   {
    "duration": 133,
    "start_time": "2024-08-12T21:06:34.409Z"
   },
   {
    "duration": 9,
    "start_time": "2024-08-12T21:06:34.544Z"
   },
   {
    "duration": 8,
    "start_time": "2024-08-12T21:06:34.554Z"
   },
   {
    "duration": 9,
    "start_time": "2024-08-12T21:06:34.564Z"
   },
   {
    "duration": 9,
    "start_time": "2024-08-12T21:06:34.575Z"
   },
   {
    "duration": 20,
    "start_time": "2024-08-12T21:06:34.585Z"
   },
   {
    "duration": 22,
    "start_time": "2024-08-12T21:06:34.607Z"
   },
   {
    "duration": 172,
    "start_time": "2024-08-12T21:06:34.631Z"
   },
   {
    "duration": 132,
    "start_time": "2024-08-12T21:06:34.804Z"
   },
   {
    "duration": 26,
    "start_time": "2024-08-12T21:06:34.937Z"
   },
   {
    "duration": 6,
    "start_time": "2024-08-12T21:06:34.964Z"
   },
   {
    "duration": 296,
    "start_time": "2024-08-12T21:06:34.971Z"
   },
   {
    "duration": 220,
    "start_time": "2024-08-12T21:06:35.269Z"
   },
   {
    "duration": 15,
    "start_time": "2024-08-12T21:06:35.491Z"
   },
   {
    "duration": 321,
    "start_time": "2024-08-12T21:06:35.507Z"
   },
   {
    "duration": 242,
    "start_time": "2024-08-12T21:06:35.829Z"
   },
   {
    "duration": 320,
    "start_time": "2024-08-12T21:06:36.073Z"
   },
   {
    "duration": 6,
    "start_time": "2024-08-12T21:06:36.395Z"
   },
   {
    "duration": 165,
    "start_time": "2024-08-12T21:06:36.405Z"
   },
   {
    "duration": 6,
    "start_time": "2024-08-12T21:06:36.572Z"
   },
   {
    "duration": 177,
    "start_time": "2024-08-12T21:06:36.579Z"
   },
   {
    "duration": 6,
    "start_time": "2024-08-12T21:06:36.758Z"
   },
   {
    "duration": 14,
    "start_time": "2024-08-12T21:06:36.765Z"
   },
   {
    "duration": 11,
    "start_time": "2024-08-12T21:06:36.780Z"
   },
   {
    "duration": 13,
    "start_time": "2024-08-12T21:06:36.793Z"
   },
   {
    "duration": 125,
    "start_time": "2024-08-12T21:06:36.807Z"
   },
   {
    "duration": 12,
    "start_time": "2024-08-12T21:06:36.933Z"
   },
   {
    "duration": 13,
    "start_time": "2024-08-12T21:06:36.946Z"
   },
   {
    "duration": 15,
    "start_time": "2024-08-12T21:06:36.960Z"
   },
   {
    "duration": 10,
    "start_time": "2024-08-12T21:06:36.977Z"
   },
   {
    "duration": 4,
    "start_time": "2024-08-12T21:06:36.989Z"
   },
   {
    "duration": 16,
    "start_time": "2024-08-12T21:06:36.995Z"
   },
   {
    "duration": 108,
    "start_time": "2024-08-12T21:06:37.012Z"
   },
   {
    "duration": 0,
    "start_time": "2024-08-12T21:06:37.121Z"
   },
   {
    "duration": 0,
    "start_time": "2024-08-12T21:06:37.123Z"
   },
   {
    "duration": 0,
    "start_time": "2024-08-12T21:06:37.124Z"
   },
   {
    "duration": 0,
    "start_time": "2024-08-12T21:06:37.125Z"
   },
   {
    "duration": 0,
    "start_time": "2024-08-12T21:06:37.126Z"
   },
   {
    "duration": 0,
    "start_time": "2024-08-12T21:06:37.127Z"
   },
   {
    "duration": 6,
    "start_time": "2024-08-12T21:07:21.546Z"
   },
   {
    "duration": 5,
    "start_time": "2024-08-12T21:07:32.947Z"
   },
   {
    "duration": 461,
    "start_time": "2024-08-12T21:07:43.127Z"
   },
   {
    "duration": 3,
    "start_time": "2024-08-12T21:07:43.590Z"
   },
   {
    "duration": 8,
    "start_time": "2024-08-12T21:07:43.595Z"
   },
   {
    "duration": 245,
    "start_time": "2024-08-12T21:07:43.604Z"
   },
   {
    "duration": 471,
    "start_time": "2024-08-12T21:07:43.852Z"
   },
   {
    "duration": 29,
    "start_time": "2024-08-12T21:07:44.324Z"
   },
   {
    "duration": 37,
    "start_time": "2024-08-12T21:07:44.355Z"
   },
   {
    "duration": 16,
    "start_time": "2024-08-12T21:07:44.393Z"
   },
   {
    "duration": 10,
    "start_time": "2024-08-12T21:07:44.411Z"
   },
   {
    "duration": 14,
    "start_time": "2024-08-12T21:07:44.423Z"
   },
   {
    "duration": 17,
    "start_time": "2024-08-12T21:07:44.438Z"
   },
   {
    "duration": 12,
    "start_time": "2024-08-12T21:07:44.457Z"
   },
   {
    "duration": 5,
    "start_time": "2024-08-12T21:07:44.471Z"
   },
   {
    "duration": 13,
    "start_time": "2024-08-12T21:07:44.479Z"
   },
   {
    "duration": 23,
    "start_time": "2024-08-12T21:07:44.493Z"
   },
   {
    "duration": 15,
    "start_time": "2024-08-12T21:07:44.517Z"
   },
   {
    "duration": 16,
    "start_time": "2024-08-12T21:07:44.553Z"
   },
   {
    "duration": 48,
    "start_time": "2024-08-12T21:07:44.570Z"
   },
   {
    "duration": 7,
    "start_time": "2024-08-12T21:07:44.620Z"
   },
   {
    "duration": 28,
    "start_time": "2024-08-12T21:07:44.629Z"
   },
   {
    "duration": 10,
    "start_time": "2024-08-12T21:07:44.659Z"
   },
   {
    "duration": 8,
    "start_time": "2024-08-12T21:07:44.671Z"
   },
   {
    "duration": 130,
    "start_time": "2024-08-12T21:07:44.681Z"
   },
   {
    "duration": 4,
    "start_time": "2024-08-12T21:07:44.812Z"
   },
   {
    "duration": 8,
    "start_time": "2024-08-12T21:07:44.818Z"
   },
   {
    "duration": 25,
    "start_time": "2024-08-12T21:07:44.828Z"
   },
   {
    "duration": 5,
    "start_time": "2024-08-12T21:07:44.854Z"
   },
   {
    "duration": 4,
    "start_time": "2024-08-12T21:07:44.860Z"
   },
   {
    "duration": 11,
    "start_time": "2024-08-12T21:07:44.866Z"
   },
   {
    "duration": 184,
    "start_time": "2024-08-12T21:07:44.878Z"
   },
   {
    "duration": 137,
    "start_time": "2024-08-12T21:07:45.064Z"
   },
   {
    "duration": 12,
    "start_time": "2024-08-12T21:07:45.202Z"
   },
   {
    "duration": 18,
    "start_time": "2024-08-12T21:07:45.215Z"
   },
   {
    "duration": 296,
    "start_time": "2024-08-12T21:07:45.234Z"
   },
   {
    "duration": 225,
    "start_time": "2024-08-12T21:07:45.532Z"
   },
   {
    "duration": 14,
    "start_time": "2024-08-12T21:07:45.759Z"
   },
   {
    "duration": 297,
    "start_time": "2024-08-12T21:07:45.775Z"
   },
   {
    "duration": 252,
    "start_time": "2024-08-12T21:07:46.074Z"
   },
   {
    "duration": 344,
    "start_time": "2024-08-12T21:07:46.328Z"
   },
   {
    "duration": 6,
    "start_time": "2024-08-12T21:07:46.673Z"
   },
   {
    "duration": 162,
    "start_time": "2024-08-12T21:07:46.683Z"
   },
   {
    "duration": 9,
    "start_time": "2024-08-12T21:07:46.846Z"
   },
   {
    "duration": 164,
    "start_time": "2024-08-12T21:07:46.856Z"
   },
   {
    "duration": 5,
    "start_time": "2024-08-12T21:07:47.021Z"
   },
   {
    "duration": 26,
    "start_time": "2024-08-12T21:07:47.027Z"
   },
   {
    "duration": 6,
    "start_time": "2024-08-12T21:07:47.055Z"
   },
   {
    "duration": 6,
    "start_time": "2024-08-12T21:07:47.062Z"
   },
   {
    "duration": 101,
    "start_time": "2024-08-12T21:07:47.070Z"
   },
   {
    "duration": 19,
    "start_time": "2024-08-12T21:07:47.173Z"
   },
   {
    "duration": 9,
    "start_time": "2024-08-12T21:07:47.194Z"
   },
   {
    "duration": 11,
    "start_time": "2024-08-12T21:07:47.205Z"
   },
   {
    "duration": 9,
    "start_time": "2024-08-12T21:07:47.218Z"
   },
   {
    "duration": 25,
    "start_time": "2024-08-12T21:07:47.229Z"
   },
   {
    "duration": 7,
    "start_time": "2024-08-12T21:07:47.256Z"
   },
   {
    "duration": 11,
    "start_time": "2024-08-12T21:07:47.265Z"
   },
   {
    "duration": 35,
    "start_time": "2024-08-12T21:07:47.277Z"
   },
   {
    "duration": 13,
    "start_time": "2024-08-12T21:07:47.314Z"
   },
   {
    "duration": 31,
    "start_time": "2024-08-12T21:07:47.329Z"
   },
   {
    "duration": 3,
    "start_time": "2024-08-12T21:07:47.362Z"
   },
   {
    "duration": 10,
    "start_time": "2024-08-12T21:07:47.367Z"
   },
   {
    "duration": 4,
    "start_time": "2024-08-12T21:07:47.379Z"
   },
   {
    "duration": 427,
    "start_time": "2024-08-12T21:09:39.668Z"
   },
   {
    "duration": 2,
    "start_time": "2024-08-12T21:09:40.097Z"
   },
   {
    "duration": 4,
    "start_time": "2024-08-12T21:09:40.101Z"
   },
   {
    "duration": 239,
    "start_time": "2024-08-12T21:09:40.107Z"
   },
   {
    "duration": 463,
    "start_time": "2024-08-12T21:09:40.348Z"
   },
   {
    "duration": 28,
    "start_time": "2024-08-12T21:09:40.812Z"
   },
   {
    "duration": 37,
    "start_time": "2024-08-12T21:09:40.841Z"
   },
   {
    "duration": 15,
    "start_time": "2024-08-12T21:09:40.880Z"
   },
   {
    "duration": 11,
    "start_time": "2024-08-12T21:09:40.897Z"
   },
   {
    "duration": 29,
    "start_time": "2024-08-12T21:09:40.910Z"
   },
   {
    "duration": 14,
    "start_time": "2024-08-12T21:09:40.940Z"
   },
   {
    "duration": 17,
    "start_time": "2024-08-12T21:09:40.956Z"
   },
   {
    "duration": 26,
    "start_time": "2024-08-12T21:09:40.975Z"
   },
   {
    "duration": 4,
    "start_time": "2024-08-12T21:09:41.004Z"
   },
   {
    "duration": 22,
    "start_time": "2024-08-12T21:09:41.010Z"
   },
   {
    "duration": 29,
    "start_time": "2024-08-12T21:09:41.034Z"
   },
   {
    "duration": 15,
    "start_time": "2024-08-12T21:09:41.065Z"
   },
   {
    "duration": 11,
    "start_time": "2024-08-12T21:09:41.082Z"
   },
   {
    "duration": 7,
    "start_time": "2024-08-12T21:09:41.095Z"
   },
   {
    "duration": 6,
    "start_time": "2024-08-12T21:09:41.104Z"
   },
   {
    "duration": 43,
    "start_time": "2024-08-12T21:09:41.112Z"
   },
   {
    "duration": 7,
    "start_time": "2024-08-12T21:09:41.157Z"
   },
   {
    "duration": 125,
    "start_time": "2024-08-12T21:09:41.165Z"
   },
   {
    "duration": 4,
    "start_time": "2024-08-12T21:09:41.292Z"
   },
   {
    "duration": 9,
    "start_time": "2024-08-12T21:09:41.298Z"
   },
   {
    "duration": 9,
    "start_time": "2024-08-12T21:09:41.308Z"
   },
   {
    "duration": 5,
    "start_time": "2024-08-12T21:09:41.319Z"
   },
   {
    "duration": 30,
    "start_time": "2024-08-12T21:09:41.326Z"
   },
   {
    "duration": 12,
    "start_time": "2024-08-12T21:09:41.357Z"
   },
   {
    "duration": 190,
    "start_time": "2024-08-12T21:09:41.370Z"
   },
   {
    "duration": 134,
    "start_time": "2024-08-12T21:09:41.562Z"
   },
   {
    "duration": 18,
    "start_time": "2024-08-12T21:09:41.698Z"
   },
   {
    "duration": 5,
    "start_time": "2024-08-12T21:09:41.719Z"
   },
   {
    "duration": 306,
    "start_time": "2024-08-12T21:09:41.726Z"
   },
   {
    "duration": 231,
    "start_time": "2024-08-12T21:09:42.034Z"
   },
   {
    "duration": 18,
    "start_time": "2024-08-12T21:09:42.267Z"
   },
   {
    "duration": 300,
    "start_time": "2024-08-12T21:09:42.287Z"
   },
   {
    "duration": 247,
    "start_time": "2024-08-12T21:09:42.589Z"
   },
   {
    "duration": 330,
    "start_time": "2024-08-12T21:09:42.838Z"
   },
   {
    "duration": 6,
    "start_time": "2024-08-12T21:09:43.170Z"
   },
   {
    "duration": 162,
    "start_time": "2024-08-12T21:09:43.180Z"
   },
   {
    "duration": 12,
    "start_time": "2024-08-12T21:09:43.344Z"
   },
   {
    "duration": 174,
    "start_time": "2024-08-12T21:09:43.358Z"
   },
   {
    "duration": 5,
    "start_time": "2024-08-12T21:09:43.534Z"
   },
   {
    "duration": 35,
    "start_time": "2024-08-12T21:09:43.541Z"
   },
   {
    "duration": 7,
    "start_time": "2024-08-12T21:09:43.577Z"
   },
   {
    "duration": 6,
    "start_time": "2024-08-12T21:09:43.585Z"
   },
   {
    "duration": 93,
    "start_time": "2024-08-12T21:09:43.592Z"
   },
   {
    "duration": 27,
    "start_time": "2024-08-12T21:09:43.687Z"
   },
   {
    "duration": 11,
    "start_time": "2024-08-12T21:09:43.716Z"
   },
   {
    "duration": 22,
    "start_time": "2024-08-12T21:09:43.729Z"
   },
   {
    "duration": 6,
    "start_time": "2024-08-12T21:09:43.752Z"
   },
   {
    "duration": 13,
    "start_time": "2024-08-12T21:09:43.760Z"
   },
   {
    "duration": 15,
    "start_time": "2024-08-12T21:09:43.775Z"
   },
   {
    "duration": 26,
    "start_time": "2024-08-12T21:09:43.792Z"
   },
   {
    "duration": 16,
    "start_time": "2024-08-12T21:09:43.820Z"
   },
   {
    "duration": 7,
    "start_time": "2024-08-12T21:09:43.838Z"
   },
   {
    "duration": 33,
    "start_time": "2024-08-12T21:09:43.847Z"
   },
   {
    "duration": 8,
    "start_time": "2024-08-12T21:09:43.881Z"
   },
   {
    "duration": 4,
    "start_time": "2024-08-12T21:09:43.891Z"
   },
   {
    "duration": 421,
    "start_time": "2024-08-12T21:13:36.714Z"
   },
   {
    "duration": 3,
    "start_time": "2024-08-12T21:13:37.137Z"
   },
   {
    "duration": 5,
    "start_time": "2024-08-12T21:13:37.152Z"
   },
   {
    "duration": 272,
    "start_time": "2024-08-12T21:13:37.159Z"
   },
   {
    "duration": 492,
    "start_time": "2024-08-12T21:13:37.433Z"
   },
   {
    "duration": 28,
    "start_time": "2024-08-12T21:13:37.927Z"
   },
   {
    "duration": 38,
    "start_time": "2024-08-12T21:13:37.957Z"
   },
   {
    "duration": 16,
    "start_time": "2024-08-12T21:13:37.997Z"
   },
   {
    "duration": 12,
    "start_time": "2024-08-12T21:13:38.015Z"
   },
   {
    "duration": 13,
    "start_time": "2024-08-12T21:13:38.029Z"
   },
   {
    "duration": 17,
    "start_time": "2024-08-12T21:13:38.044Z"
   },
   {
    "duration": 14,
    "start_time": "2024-08-12T21:13:38.063Z"
   },
   {
    "duration": 15,
    "start_time": "2024-08-12T21:13:38.079Z"
   },
   {
    "duration": 4,
    "start_time": "2024-08-12T21:13:38.098Z"
   },
   {
    "duration": 20,
    "start_time": "2024-08-12T21:13:38.104Z"
   },
   {
    "duration": 39,
    "start_time": "2024-08-12T21:13:38.126Z"
   },
   {
    "duration": 15,
    "start_time": "2024-08-12T21:13:38.167Z"
   },
   {
    "duration": 5,
    "start_time": "2024-08-12T21:13:38.183Z"
   },
   {
    "duration": 4,
    "start_time": "2024-08-12T21:13:38.189Z"
   },
   {
    "duration": 8,
    "start_time": "2024-08-12T21:13:38.194Z"
   },
   {
    "duration": 8,
    "start_time": "2024-08-12T21:13:38.203Z"
   },
   {
    "duration": 42,
    "start_time": "2024-08-12T21:13:38.212Z"
   },
   {
    "duration": 121,
    "start_time": "2024-08-12T21:13:38.256Z"
   },
   {
    "duration": 4,
    "start_time": "2024-08-12T21:13:38.378Z"
   },
   {
    "duration": 9,
    "start_time": "2024-08-12T21:13:38.384Z"
   },
   {
    "duration": 10,
    "start_time": "2024-08-12T21:13:38.394Z"
   },
   {
    "duration": 5,
    "start_time": "2024-08-12T21:13:38.405Z"
   },
   {
    "duration": 5,
    "start_time": "2024-08-12T21:13:38.411Z"
   },
   {
    "duration": 41,
    "start_time": "2024-08-12T21:13:38.418Z"
   },
   {
    "duration": 180,
    "start_time": "2024-08-12T21:13:38.461Z"
   },
   {
    "duration": 132,
    "start_time": "2024-08-12T21:13:38.643Z"
   },
   {
    "duration": 12,
    "start_time": "2024-08-12T21:13:38.776Z"
   },
   {
    "duration": 19,
    "start_time": "2024-08-12T21:13:38.789Z"
   },
   {
    "duration": 297,
    "start_time": "2024-08-12T21:13:38.809Z"
   },
   {
    "duration": 231,
    "start_time": "2024-08-12T21:13:39.107Z"
   },
   {
    "duration": 24,
    "start_time": "2024-08-12T21:13:39.340Z"
   },
   {
    "duration": 311,
    "start_time": "2024-08-12T21:13:39.366Z"
   },
   {
    "duration": 251,
    "start_time": "2024-08-12T21:13:39.679Z"
   },
   {
    "duration": 346,
    "start_time": "2024-08-12T21:13:39.932Z"
   },
   {
    "duration": 6,
    "start_time": "2024-08-12T21:13:40.279Z"
   },
   {
    "duration": 180,
    "start_time": "2024-08-12T21:13:40.291Z"
   },
   {
    "duration": 7,
    "start_time": "2024-08-12T21:13:40.474Z"
   },
   {
    "duration": 179,
    "start_time": "2024-08-12T21:13:40.483Z"
   },
   {
    "duration": 6,
    "start_time": "2024-08-12T21:13:40.663Z"
   },
   {
    "duration": 64,
    "start_time": "2024-08-12T21:13:40.670Z"
   },
   {
    "duration": 5,
    "start_time": "2024-08-12T21:13:40.736Z"
   },
   {
    "duration": 3,
    "start_time": "2024-08-12T21:13:40.743Z"
   },
   {
    "duration": 81,
    "start_time": "2024-08-12T21:13:40.748Z"
   },
   {
    "duration": 8,
    "start_time": "2024-08-12T21:13:40.831Z"
   },
   {
    "duration": 17,
    "start_time": "2024-08-12T21:13:40.840Z"
   },
   {
    "duration": 22,
    "start_time": "2024-08-12T21:13:40.858Z"
   },
   {
    "duration": 5,
    "start_time": "2024-08-12T21:13:40.881Z"
   },
   {
    "duration": 15,
    "start_time": "2024-08-12T21:13:40.887Z"
   },
   {
    "duration": 7,
    "start_time": "2024-08-12T21:13:40.903Z"
   },
   {
    "duration": 5,
    "start_time": "2024-08-12T21:13:40.911Z"
   },
   {
    "duration": 17,
    "start_time": "2024-08-12T21:13:40.918Z"
   },
   {
    "duration": 17,
    "start_time": "2024-08-12T21:13:40.936Z"
   },
   {
    "duration": 4,
    "start_time": "2024-08-12T21:13:40.955Z"
   },
   {
    "duration": 24,
    "start_time": "2024-08-12T21:13:40.960Z"
   },
   {
    "duration": 13,
    "start_time": "2024-08-12T21:13:40.985Z"
   },
   {
    "duration": 379,
    "start_time": "2024-08-13T03:50:55.380Z"
   },
   {
    "duration": 2,
    "start_time": "2024-08-13T03:50:55.761Z"
   },
   {
    "duration": 12,
    "start_time": "2024-08-13T03:50:55.764Z"
   },
   {
    "duration": 281,
    "start_time": "2024-08-13T03:50:55.777Z"
   },
   {
    "duration": 453,
    "start_time": "2024-08-13T03:50:56.060Z"
   },
   {
    "duration": 29,
    "start_time": "2024-08-13T03:50:56.514Z"
   },
   {
    "duration": 37,
    "start_time": "2024-08-13T03:50:56.544Z"
   },
   {
    "duration": 14,
    "start_time": "2024-08-13T03:50:56.583Z"
   },
   {
    "duration": 8,
    "start_time": "2024-08-13T03:50:56.599Z"
   },
   {
    "duration": 30,
    "start_time": "2024-08-13T03:50:56.609Z"
   },
   {
    "duration": 10,
    "start_time": "2024-08-13T03:50:56.641Z"
   },
   {
    "duration": 10,
    "start_time": "2024-08-13T03:50:56.652Z"
   },
   {
    "duration": 7,
    "start_time": "2024-08-13T03:50:56.663Z"
   },
   {
    "duration": 12,
    "start_time": "2024-08-13T03:50:56.673Z"
   },
   {
    "duration": 40,
    "start_time": "2024-08-13T03:50:56.686Z"
   },
   {
    "duration": 13,
    "start_time": "2024-08-13T03:50:56.727Z"
   },
   {
    "duration": 12,
    "start_time": "2024-08-13T03:50:56.742Z"
   },
   {
    "duration": 10,
    "start_time": "2024-08-13T03:50:56.755Z"
   },
   {
    "duration": 17,
    "start_time": "2024-08-13T03:50:56.767Z"
   },
   {
    "duration": 10,
    "start_time": "2024-08-13T03:50:56.785Z"
   },
   {
    "duration": 8,
    "start_time": "2024-08-13T03:50:56.797Z"
   },
   {
    "duration": 10,
    "start_time": "2024-08-13T03:50:56.806Z"
   },
   {
    "duration": 103,
    "start_time": "2024-08-13T03:50:56.817Z"
   },
   {
    "duration": 3,
    "start_time": "2024-08-13T03:50:56.922Z"
   },
   {
    "duration": 26,
    "start_time": "2024-08-13T03:50:56.926Z"
   },
   {
    "duration": 6,
    "start_time": "2024-08-13T03:50:56.954Z"
   },
   {
    "duration": 8,
    "start_time": "2024-08-13T03:50:56.961Z"
   },
   {
    "duration": 13,
    "start_time": "2024-08-13T03:50:56.970Z"
   },
   {
    "duration": 10,
    "start_time": "2024-08-13T03:50:56.984Z"
   },
   {
    "duration": 151,
    "start_time": "2024-08-13T03:50:56.995Z"
   },
   {
    "duration": 106,
    "start_time": "2024-08-13T03:50:57.148Z"
   },
   {
    "duration": 10,
    "start_time": "2024-08-13T03:50:57.255Z"
   },
   {
    "duration": 6,
    "start_time": "2024-08-13T03:50:57.266Z"
   },
   {
    "duration": 272,
    "start_time": "2024-08-13T03:50:57.273Z"
   },
   {
    "duration": 192,
    "start_time": "2024-08-13T03:50:57.547Z"
   },
   {
    "duration": 12,
    "start_time": "2024-08-13T03:50:57.741Z"
   },
   {
    "duration": 288,
    "start_time": "2024-08-13T03:50:57.754Z"
   },
   {
    "duration": 208,
    "start_time": "2024-08-13T03:50:58.044Z"
   },
   {
    "duration": 266,
    "start_time": "2024-08-13T03:50:58.253Z"
   },
   {
    "duration": 5,
    "start_time": "2024-08-13T03:50:58.521Z"
   },
   {
    "duration": 135,
    "start_time": "2024-08-13T03:50:58.530Z"
   },
   {
    "duration": 6,
    "start_time": "2024-08-13T03:50:58.666Z"
   },
   {
    "duration": 152,
    "start_time": "2024-08-13T03:50:58.673Z"
   },
   {
    "duration": 5,
    "start_time": "2024-08-13T03:50:58.827Z"
   },
   {
    "duration": 14,
    "start_time": "2024-08-13T03:50:58.833Z"
   },
   {
    "duration": 7,
    "start_time": "2024-08-13T03:50:58.849Z"
   },
   {
    "duration": 8,
    "start_time": "2024-08-13T03:50:58.857Z"
   },
   {
    "duration": 91,
    "start_time": "2024-08-13T03:50:58.866Z"
   },
   {
    "duration": 17,
    "start_time": "2024-08-13T03:50:58.959Z"
   },
   {
    "duration": 11,
    "start_time": "2024-08-13T03:50:58.977Z"
   },
   {
    "duration": 16,
    "start_time": "2024-08-13T03:50:58.989Z"
   },
   {
    "duration": 12,
    "start_time": "2024-08-13T03:50:59.006Z"
   },
   {
    "duration": 5,
    "start_time": "2024-08-13T03:50:59.019Z"
   },
   {
    "duration": 7,
    "start_time": "2024-08-13T03:50:59.025Z"
   },
   {
    "duration": 4,
    "start_time": "2024-08-13T03:50:59.033Z"
   },
   {
    "duration": 7,
    "start_time": "2024-08-13T03:50:59.038Z"
   },
   {
    "duration": 5,
    "start_time": "2024-08-13T03:50:59.046Z"
   },
   {
    "duration": 4,
    "start_time": "2024-08-13T03:50:59.052Z"
   },
   {
    "duration": 32,
    "start_time": "2024-08-13T03:50:59.057Z"
   },
   {
    "duration": 18,
    "start_time": "2024-08-13T03:50:59.090Z"
   },
   {
    "duration": 8,
    "start_time": "2024-08-13T04:16:07.474Z"
   },
   {
    "duration": 371,
    "start_time": "2024-08-13T04:19:01.917Z"
   },
   {
    "duration": 2,
    "start_time": "2024-08-13T04:19:02.290Z"
   },
   {
    "duration": 18,
    "start_time": "2024-08-13T04:19:02.293Z"
   },
   {
    "duration": 211,
    "start_time": "2024-08-13T04:19:02.314Z"
   },
   {
    "duration": 386,
    "start_time": "2024-08-13T04:19:02.530Z"
   },
   {
    "duration": 28,
    "start_time": "2024-08-13T04:19:02.917Z"
   },
   {
    "duration": 37,
    "start_time": "2024-08-13T04:19:02.946Z"
   },
   {
    "duration": 15,
    "start_time": "2024-08-13T04:19:02.984Z"
   },
   {
    "duration": 18,
    "start_time": "2024-08-13T04:19:03.000Z"
   },
   {
    "duration": 10,
    "start_time": "2024-08-13T04:19:03.019Z"
   },
   {
    "duration": 21,
    "start_time": "2024-08-13T04:19:03.030Z"
   },
   {
    "duration": 9,
    "start_time": "2024-08-13T04:19:03.052Z"
   },
   {
    "duration": 8,
    "start_time": "2024-08-13T04:19:03.062Z"
   },
   {
    "duration": 3,
    "start_time": "2024-08-13T04:19:03.072Z"
   },
   {
    "duration": 16,
    "start_time": "2024-08-13T04:19:03.076Z"
   },
   {
    "duration": 27,
    "start_time": "2024-08-13T04:19:03.093Z"
   },
   {
    "duration": 16,
    "start_time": "2024-08-13T04:19:03.122Z"
   },
   {
    "duration": 11,
    "start_time": "2024-08-13T04:19:03.139Z"
   },
   {
    "duration": 8,
    "start_time": "2024-08-13T04:19:03.152Z"
   },
   {
    "duration": 10,
    "start_time": "2024-08-13T04:19:03.161Z"
   },
   {
    "duration": 10,
    "start_time": "2024-08-13T04:19:03.173Z"
   },
   {
    "duration": 10,
    "start_time": "2024-08-13T04:19:03.184Z"
   },
   {
    "duration": 110,
    "start_time": "2024-08-13T04:19:03.196Z"
   },
   {
    "duration": 2,
    "start_time": "2024-08-13T04:19:03.308Z"
   },
   {
    "duration": 26,
    "start_time": "2024-08-13T04:19:03.311Z"
   },
   {
    "duration": 10,
    "start_time": "2024-08-13T04:19:03.338Z"
   },
   {
    "duration": 10,
    "start_time": "2024-08-13T04:19:03.349Z"
   },
   {
    "duration": 12,
    "start_time": "2024-08-13T04:19:03.360Z"
   },
   {
    "duration": 10,
    "start_time": "2024-08-13T04:19:03.373Z"
   },
   {
    "duration": 153,
    "start_time": "2024-08-13T04:19:03.385Z"
   },
   {
    "duration": 121,
    "start_time": "2024-08-13T04:19:03.539Z"
   },
   {
    "duration": 9,
    "start_time": "2024-08-13T04:19:03.661Z"
   },
   {
    "duration": 7,
    "start_time": "2024-08-13T04:19:03.671Z"
   },
   {
    "duration": 337,
    "start_time": "2024-08-13T04:19:03.680Z"
   },
   {
    "duration": 189,
    "start_time": "2024-08-13T04:19:04.018Z"
   },
   {
    "duration": 13,
    "start_time": "2024-08-13T04:19:04.208Z"
   },
   {
    "duration": 292,
    "start_time": "2024-08-13T04:19:04.223Z"
   },
   {
    "duration": 201,
    "start_time": "2024-08-13T04:19:04.517Z"
   },
   {
    "duration": 298,
    "start_time": "2024-08-13T04:19:04.719Z"
   },
   {
    "duration": 5,
    "start_time": "2024-08-13T04:19:05.019Z"
   },
   {
    "duration": 139,
    "start_time": "2024-08-13T04:19:05.028Z"
   },
   {
    "duration": 5,
    "start_time": "2024-08-13T04:19:05.169Z"
   },
   {
    "duration": 158,
    "start_time": "2024-08-13T04:19:05.175Z"
   },
   {
    "duration": 4,
    "start_time": "2024-08-13T04:19:05.335Z"
   },
   {
    "duration": 24,
    "start_time": "2024-08-13T04:19:05.340Z"
   },
   {
    "duration": 18,
    "start_time": "2024-08-13T04:19:05.366Z"
   },
   {
    "duration": 30,
    "start_time": "2024-08-13T04:19:05.385Z"
   },
   {
    "duration": 100,
    "start_time": "2024-08-13T04:19:05.417Z"
   },
   {
    "duration": 81,
    "start_time": "2024-08-13T04:19:05.518Z"
   },
   {
    "duration": 50,
    "start_time": "2024-08-13T04:19:05.600Z"
   },
   {
    "duration": 19,
    "start_time": "2024-08-13T04:19:05.651Z"
   },
   {
    "duration": 72,
    "start_time": "2024-08-13T04:19:05.671Z"
   },
   {
    "duration": 34,
    "start_time": "2024-08-13T04:19:05.744Z"
   },
   {
    "duration": 9,
    "start_time": "2024-08-13T04:19:05.780Z"
   },
   {
    "duration": 9,
    "start_time": "2024-08-13T04:19:05.790Z"
   },
   {
    "duration": 25,
    "start_time": "2024-08-13T04:19:05.800Z"
   },
   {
    "duration": 16,
    "start_time": "2024-08-13T04:19:05.826Z"
   },
   {
    "duration": 3,
    "start_time": "2024-08-13T04:19:05.844Z"
   },
   {
    "duration": 75,
    "start_time": "2024-08-13T04:19:05.848Z"
   },
   {
    "duration": 11,
    "start_time": "2024-08-13T04:19:05.924Z"
   },
   {
    "duration": 373,
    "start_time": "2024-08-13T04:26:58.699Z"
   },
   {
    "duration": 3,
    "start_time": "2024-08-13T04:26:59.073Z"
   },
   {
    "duration": 11,
    "start_time": "2024-08-13T04:26:59.077Z"
   },
   {
    "duration": 206,
    "start_time": "2024-08-13T04:26:59.089Z"
   },
   {
    "duration": 457,
    "start_time": "2024-08-13T04:26:59.297Z"
   },
   {
    "duration": 28,
    "start_time": "2024-08-13T04:26:59.755Z"
   },
   {
    "duration": 77,
    "start_time": "2024-08-13T04:26:59.784Z"
   },
   {
    "duration": 15,
    "start_time": "2024-08-13T04:26:59.863Z"
   },
   {
    "duration": 68,
    "start_time": "2024-08-13T04:26:59.879Z"
   },
   {
    "duration": 24,
    "start_time": "2024-08-13T04:26:59.949Z"
   },
   {
    "duration": 17,
    "start_time": "2024-08-13T04:26:59.975Z"
   },
   {
    "duration": 49,
    "start_time": "2024-08-13T04:26:59.993Z"
   },
   {
    "duration": 129,
    "start_time": "2024-08-13T04:27:00.043Z"
   },
   {
    "duration": 164,
    "start_time": "2024-08-13T04:27:00.176Z"
   },
   {
    "duration": 85,
    "start_time": "2024-08-13T04:27:00.341Z"
   },
   {
    "duration": 61,
    "start_time": "2024-08-13T04:27:00.427Z"
   },
   {
    "duration": 159,
    "start_time": "2024-08-13T04:27:00.489Z"
   },
   {
    "duration": 72,
    "start_time": "2024-08-13T04:27:00.649Z"
   },
   {
    "duration": 38,
    "start_time": "2024-08-13T04:27:00.722Z"
   },
   {
    "duration": 91,
    "start_time": "2024-08-13T04:27:00.761Z"
   },
   {
    "duration": 57,
    "start_time": "2024-08-13T04:27:00.853Z"
   },
   {
    "duration": 39,
    "start_time": "2024-08-13T04:27:00.912Z"
   },
   {
    "duration": 164,
    "start_time": "2024-08-13T04:27:00.952Z"
   },
   {
    "duration": 4,
    "start_time": "2024-08-13T04:27:01.118Z"
   },
   {
    "duration": 50,
    "start_time": "2024-08-13T04:27:01.123Z"
   },
   {
    "duration": 48,
    "start_time": "2024-08-13T04:27:01.174Z"
   },
   {
    "duration": 38,
    "start_time": "2024-08-13T04:27:01.224Z"
   },
   {
    "duration": 24,
    "start_time": "2024-08-13T04:27:01.264Z"
   },
   {
    "duration": 48,
    "start_time": "2024-08-13T04:27:01.290Z"
   },
   {
    "duration": 176,
    "start_time": "2024-08-13T04:27:01.340Z"
   },
   {
    "duration": 115,
    "start_time": "2024-08-13T04:27:01.518Z"
   },
   {
    "duration": 10,
    "start_time": "2024-08-13T04:27:01.635Z"
   },
   {
    "duration": 29,
    "start_time": "2024-08-13T04:27:01.646Z"
   },
   {
    "duration": 283,
    "start_time": "2024-08-13T04:27:01.677Z"
   },
   {
    "duration": 189,
    "start_time": "2024-08-13T04:27:01.962Z"
   },
   {
    "duration": 12,
    "start_time": "2024-08-13T04:27:02.152Z"
   },
   {
    "duration": 321,
    "start_time": "2024-08-13T04:27:02.165Z"
   },
   {
    "duration": 224,
    "start_time": "2024-08-13T04:27:02.487Z"
   },
   {
    "duration": 302,
    "start_time": "2024-08-13T04:27:02.713Z"
   },
   {
    "duration": 6,
    "start_time": "2024-08-13T04:27:03.017Z"
   },
   {
    "duration": 156,
    "start_time": "2024-08-13T04:27:03.028Z"
   },
   {
    "duration": 5,
    "start_time": "2024-08-13T04:27:03.186Z"
   },
   {
    "duration": 166,
    "start_time": "2024-08-13T04:27:03.192Z"
   },
   {
    "duration": 4,
    "start_time": "2024-08-13T04:27:03.359Z"
   },
   {
    "duration": 20,
    "start_time": "2024-08-13T04:27:03.365Z"
   },
   {
    "duration": 33,
    "start_time": "2024-08-13T04:27:03.386Z"
   },
   {
    "duration": 6,
    "start_time": "2024-08-13T04:27:03.420Z"
   },
   {
    "duration": 67,
    "start_time": "2024-08-13T04:27:03.427Z"
   },
   {
    "duration": 7,
    "start_time": "2024-08-13T04:27:03.495Z"
   },
   {
    "duration": 17,
    "start_time": "2024-08-13T04:27:03.514Z"
   },
   {
    "duration": 9,
    "start_time": "2024-08-13T04:27:03.532Z"
   },
   {
    "duration": 73,
    "start_time": "2024-08-13T04:27:03.542Z"
   },
   {
    "duration": 6,
    "start_time": "2024-08-13T04:27:03.616Z"
   },
   {
    "duration": 14,
    "start_time": "2024-08-13T04:27:03.623Z"
   },
   {
    "duration": 11,
    "start_time": "2024-08-13T04:27:03.638Z"
   },
   {
    "duration": 12,
    "start_time": "2024-08-13T04:27:03.650Z"
   },
   {
    "duration": 33,
    "start_time": "2024-08-13T04:27:03.663Z"
   },
   {
    "duration": 25,
    "start_time": "2024-08-13T04:27:03.697Z"
   },
   {
    "duration": 112,
    "start_time": "2024-08-13T04:27:03.723Z"
   },
   {
    "duration": 20,
    "start_time": "2024-08-13T04:27:03.837Z"
   },
   {
    "duration": 44,
    "start_time": "2024-08-13T11:32:59.235Z"
   },
   {
    "duration": 399,
    "start_time": "2024-08-13T16:59:19.996Z"
   },
   {
    "duration": 3,
    "start_time": "2024-08-13T16:59:20.397Z"
   },
   {
    "duration": 7,
    "start_time": "2024-08-13T16:59:20.401Z"
   },
   {
    "duration": 429,
    "start_time": "2024-08-13T16:59:20.409Z"
   },
   {
    "duration": 516,
    "start_time": "2024-08-13T16:59:20.841Z"
   },
   {
    "duration": 73,
    "start_time": "2024-08-13T16:59:21.359Z"
   },
   {
    "duration": 89,
    "start_time": "2024-08-13T16:59:21.434Z"
   },
   {
    "duration": 66,
    "start_time": "2024-08-13T16:59:21.524Z"
   },
   {
    "duration": 3,
    "start_time": "2024-08-13T16:59:21.591Z"
   },
   {
    "duration": 13,
    "start_time": "2024-08-13T16:59:21.596Z"
   },
   {
    "duration": 11,
    "start_time": "2024-08-13T16:59:21.610Z"
   },
   {
    "duration": 12,
    "start_time": "2024-08-13T16:59:21.622Z"
   },
   {
    "duration": 20,
    "start_time": "2024-08-13T16:59:21.635Z"
   },
   {
    "duration": 7,
    "start_time": "2024-08-13T16:59:21.659Z"
   },
   {
    "duration": 4,
    "start_time": "2024-08-13T16:59:21.667Z"
   },
   {
    "duration": 23,
    "start_time": "2024-08-13T16:59:21.672Z"
   },
   {
    "duration": 15,
    "start_time": "2024-08-13T16:59:21.697Z"
   },
   {
    "duration": 14,
    "start_time": "2024-08-13T16:59:21.714Z"
   },
   {
    "duration": 5,
    "start_time": "2024-08-13T16:59:21.730Z"
   },
   {
    "duration": 5,
    "start_time": "2024-08-13T16:59:21.765Z"
   },
   {
    "duration": 6,
    "start_time": "2024-08-13T16:59:21.772Z"
   },
   {
    "duration": 9,
    "start_time": "2024-08-13T16:59:21.779Z"
   },
   {
    "duration": 5,
    "start_time": "2024-08-13T16:59:21.790Z"
   },
   {
    "duration": 138,
    "start_time": "2024-08-13T16:59:21.797Z"
   },
   {
    "duration": 4,
    "start_time": "2024-08-13T16:59:21.937Z"
   },
   {
    "duration": 23,
    "start_time": "2024-08-13T16:59:21.942Z"
   },
   {
    "duration": 7,
    "start_time": "2024-08-13T16:59:21.967Z"
   },
   {
    "duration": 4,
    "start_time": "2024-08-13T16:59:21.975Z"
   },
   {
    "duration": 10,
    "start_time": "2024-08-13T16:59:21.981Z"
   },
   {
    "duration": 10,
    "start_time": "2024-08-13T16:59:21.993Z"
   },
   {
    "duration": 201,
    "start_time": "2024-08-13T16:59:22.004Z"
   },
   {
    "duration": 126,
    "start_time": "2024-08-13T16:59:22.207Z"
   },
   {
    "duration": 12,
    "start_time": "2024-08-13T16:59:22.335Z"
   },
   {
    "duration": 34,
    "start_time": "2024-08-13T16:59:22.348Z"
   },
   {
    "duration": 297,
    "start_time": "2024-08-13T16:59:22.384Z"
   },
   {
    "duration": 230,
    "start_time": "2024-08-13T16:59:22.683Z"
   },
   {
    "duration": 13,
    "start_time": "2024-08-13T16:59:22.915Z"
   },
   {
    "duration": 415,
    "start_time": "2024-08-13T16:59:22.930Z"
   },
   {
    "duration": 241,
    "start_time": "2024-08-13T16:59:23.347Z"
   },
   {
    "duration": 325,
    "start_time": "2024-08-13T16:59:23.589Z"
   },
   {
    "duration": 6,
    "start_time": "2024-08-13T16:59:23.918Z"
   },
   {
    "duration": 166,
    "start_time": "2024-08-13T16:59:23.925Z"
   },
   {
    "duration": 6,
    "start_time": "2024-08-13T16:59:24.093Z"
   },
   {
    "duration": 171,
    "start_time": "2024-08-13T16:59:24.100Z"
   },
   {
    "duration": 5,
    "start_time": "2024-08-13T16:59:24.273Z"
   },
   {
    "duration": 24,
    "start_time": "2024-08-13T16:59:24.280Z"
   },
   {
    "duration": 6,
    "start_time": "2024-08-13T16:59:24.306Z"
   },
   {
    "duration": 4,
    "start_time": "2024-08-13T16:59:24.313Z"
   },
   {
    "duration": 100,
    "start_time": "2024-08-13T16:59:24.319Z"
   },
   {
    "duration": 8,
    "start_time": "2024-08-13T16:59:24.421Z"
   },
   {
    "duration": 8,
    "start_time": "2024-08-13T16:59:24.430Z"
   },
   {
    "duration": 26,
    "start_time": "2024-08-13T16:59:24.439Z"
   },
   {
    "duration": 8,
    "start_time": "2024-08-13T16:59:24.467Z"
   },
   {
    "duration": 11,
    "start_time": "2024-08-13T16:59:24.476Z"
   },
   {
    "duration": 12,
    "start_time": "2024-08-13T16:59:24.488Z"
   },
   {
    "duration": 6,
    "start_time": "2024-08-13T16:59:24.502Z"
   },
   {
    "duration": 10,
    "start_time": "2024-08-13T16:59:24.510Z"
   },
   {
    "duration": 20,
    "start_time": "2024-08-13T16:59:24.522Z"
   },
   {
    "duration": 21,
    "start_time": "2024-08-13T16:59:24.544Z"
   },
   {
    "duration": 21,
    "start_time": "2024-08-13T16:59:24.567Z"
   },
   {
    "duration": 3,
    "start_time": "2024-08-13T16:59:24.590Z"
   },
   {
    "duration": 13,
    "start_time": "2024-08-13T17:04:14.460Z"
   },
   {
    "duration": 6,
    "start_time": "2024-08-13T17:05:41.610Z"
   },
   {
    "duration": 17,
    "start_time": "2024-08-13T17:06:47.770Z"
   },
   {
    "duration": 19,
    "start_time": "2024-08-13T17:07:14.471Z"
   },
   {
    "duration": 103,
    "start_time": "2024-08-13T17:07:44.237Z"
   },
   {
    "duration": 21,
    "start_time": "2024-08-13T17:07:53.614Z"
   },
   {
    "duration": 15,
    "start_time": "2024-08-13T17:09:54.759Z"
   },
   {
    "duration": 54,
    "start_time": "2024-08-13T17:11:03.131Z"
   },
   {
    "duration": 54,
    "start_time": "2024-08-13T17:11:12.193Z"
   },
   {
    "duration": 14,
    "start_time": "2024-08-13T17:11:33.558Z"
   },
   {
    "duration": 4,
    "start_time": "2024-08-13T17:14:01.151Z"
   },
   {
    "duration": 16,
    "start_time": "2024-08-13T17:14:07.412Z"
   },
   {
    "duration": 19,
    "start_time": "2024-08-13T17:14:26.931Z"
   },
   {
    "duration": 18,
    "start_time": "2024-08-13T17:15:08.331Z"
   },
   {
    "duration": 20,
    "start_time": "2024-08-13T17:15:23.691Z"
   },
   {
    "duration": 14,
    "start_time": "2024-08-13T17:15:41.240Z"
   },
   {
    "duration": 434,
    "start_time": "2024-08-13T17:16:14.959Z"
   },
   {
    "duration": 3,
    "start_time": "2024-08-13T17:16:15.395Z"
   },
   {
    "duration": 98,
    "start_time": "2024-08-13T17:16:15.400Z"
   },
   {
    "duration": 270,
    "start_time": "2024-08-13T17:16:15.500Z"
   },
   {
    "duration": 491,
    "start_time": "2024-08-13T17:16:15.773Z"
   },
   {
    "duration": 28,
    "start_time": "2024-08-13T17:16:16.266Z"
   },
   {
    "duration": 35,
    "start_time": "2024-08-13T17:16:16.296Z"
   },
   {
    "duration": 14,
    "start_time": "2024-08-13T17:16:16.333Z"
   },
   {
    "duration": 2,
    "start_time": "2024-08-13T17:16:16.349Z"
   },
   {
    "duration": 19,
    "start_time": "2024-08-13T17:16:16.353Z"
   },
   {
    "duration": 12,
    "start_time": "2024-08-13T17:16:16.373Z"
   },
   {
    "duration": 18,
    "start_time": "2024-08-13T17:16:16.387Z"
   },
   {
    "duration": 11,
    "start_time": "2024-08-13T17:16:16.406Z"
   },
   {
    "duration": 7,
    "start_time": "2024-08-13T17:16:16.420Z"
   },
   {
    "duration": 6,
    "start_time": "2024-08-13T17:16:16.428Z"
   },
   {
    "duration": 35,
    "start_time": "2024-08-13T17:16:16.436Z"
   },
   {
    "duration": 16,
    "start_time": "2024-08-13T17:16:16.472Z"
   },
   {
    "duration": 14,
    "start_time": "2024-08-13T17:16:16.489Z"
   },
   {
    "duration": 16,
    "start_time": "2024-08-13T17:16:16.505Z"
   },
   {
    "duration": 14,
    "start_time": "2024-08-13T17:16:16.522Z"
   },
   {
    "duration": 6,
    "start_time": "2024-08-13T17:16:16.537Z"
   },
   {
    "duration": 22,
    "start_time": "2024-08-13T17:16:16.544Z"
   },
   {
    "duration": 5,
    "start_time": "2024-08-13T17:16:16.568Z"
   },
   {
    "duration": 120,
    "start_time": "2024-08-13T17:16:16.575Z"
   },
   {
    "duration": 3,
    "start_time": "2024-08-13T17:16:16.696Z"
   },
   {
    "duration": 8,
    "start_time": "2024-08-13T17:16:16.700Z"
   },
   {
    "duration": 3,
    "start_time": "2024-08-13T17:16:16.710Z"
   },
   {
    "duration": 19,
    "start_time": "2024-08-13T17:16:16.715Z"
   },
   {
    "duration": 20,
    "start_time": "2024-08-13T17:16:16.735Z"
   },
   {
    "duration": 176,
    "start_time": "2024-08-13T17:16:16.756Z"
   },
   {
    "duration": 146,
    "start_time": "2024-08-13T17:16:16.934Z"
   },
   {
    "duration": 11,
    "start_time": "2024-08-13T17:16:17.081Z"
   },
   {
    "duration": 80,
    "start_time": "2024-08-13T17:16:17.094Z"
   },
   {
    "duration": 317,
    "start_time": "2024-08-13T17:16:17.175Z"
   },
   {
    "duration": 231,
    "start_time": "2024-08-13T17:16:17.494Z"
   },
   {
    "duration": 15,
    "start_time": "2024-08-13T17:16:17.727Z"
   },
   {
    "duration": 353,
    "start_time": "2024-08-13T17:16:17.744Z"
   },
   {
    "duration": 240,
    "start_time": "2024-08-13T17:16:18.099Z"
   },
   {
    "duration": 344,
    "start_time": "2024-08-13T17:16:18.341Z"
   },
   {
    "duration": 6,
    "start_time": "2024-08-13T17:16:18.686Z"
   },
   {
    "duration": 160,
    "start_time": "2024-08-13T17:16:18.696Z"
   },
   {
    "duration": 10,
    "start_time": "2024-08-13T17:16:18.858Z"
   },
   {
    "duration": 182,
    "start_time": "2024-08-13T17:16:18.870Z"
   },
   {
    "duration": 5,
    "start_time": "2024-08-13T17:16:19.054Z"
   },
   {
    "duration": 13,
    "start_time": "2024-08-13T17:16:19.065Z"
   },
   {
    "duration": 70,
    "start_time": "2024-08-13T17:16:19.079Z"
   },
   {
    "duration": 4,
    "start_time": "2024-08-13T17:16:19.151Z"
   },
   {
    "duration": 97,
    "start_time": "2024-08-13T17:16:19.156Z"
   },
   {
    "duration": 21,
    "start_time": "2024-08-13T17:16:19.255Z"
   },
   {
    "duration": 17,
    "start_time": "2024-08-13T17:16:19.277Z"
   },
   {
    "duration": 30,
    "start_time": "2024-08-13T17:16:19.295Z"
   },
   {
    "duration": 23,
    "start_time": "2024-08-13T17:16:19.327Z"
   },
   {
    "duration": 118,
    "start_time": "2024-08-13T17:16:19.351Z"
   },
   {
    "duration": 13,
    "start_time": "2024-08-13T17:16:19.470Z"
   },
   {
    "duration": 5,
    "start_time": "2024-08-13T17:16:19.485Z"
   },
   {
    "duration": 22,
    "start_time": "2024-08-13T17:16:19.492Z"
   },
   {
    "duration": 6,
    "start_time": "2024-08-13T17:16:19.516Z"
   },
   {
    "duration": 9,
    "start_time": "2024-08-13T17:16:19.523Z"
   },
   {
    "duration": 10,
    "start_time": "2024-08-13T17:16:19.533Z"
   },
   {
    "duration": 8,
    "start_time": "2024-08-13T17:16:19.544Z"
   },
   {
    "duration": 6,
    "start_time": "2024-08-13T17:16:38.770Z"
   },
   {
    "duration": 15,
    "start_time": "2024-08-13T17:17:59.731Z"
   },
   {
    "duration": 22,
    "start_time": "2024-08-13T17:18:48.230Z"
   },
   {
    "duration": 1125,
    "start_time": "2024-08-13T17:22:54.746Z"
   },
   {
    "duration": 11,
    "start_time": "2024-08-13T17:24:01.486Z"
   },
   {
    "duration": 49,
    "start_time": "2024-08-13T17:25:18.822Z"
   },
   {
    "duration": 55,
    "start_time": "2024-08-13T17:25:54.122Z"
   },
   {
    "duration": 24,
    "start_time": "2024-08-13T17:41:31.134Z"
   },
   {
    "duration": 14,
    "start_time": "2024-08-13T17:42:05.882Z"
   },
   {
    "duration": 5,
    "start_time": "2024-08-13T17:44:32.050Z"
   },
   {
    "duration": 12,
    "start_time": "2024-08-13T17:45:27.601Z"
   },
   {
    "duration": 15,
    "start_time": "2024-08-13T17:45:54.474Z"
   },
   {
    "duration": 6,
    "start_time": "2024-08-13T17:47:13.982Z"
   },
   {
    "duration": 13,
    "start_time": "2024-08-13T17:48:01.582Z"
   },
   {
    "duration": 12,
    "start_time": "2024-08-13T17:49:01.683Z"
   },
   {
    "duration": 14,
    "start_time": "2024-08-13T17:50:06.443Z"
   },
   {
    "duration": 15,
    "start_time": "2024-08-13T17:50:26.982Z"
   },
   {
    "duration": 10,
    "start_time": "2024-08-13T17:50:53.850Z"
   },
   {
    "duration": 19,
    "start_time": "2024-08-13T17:51:39.369Z"
   },
   {
    "duration": 13,
    "start_time": "2024-08-13T17:51:51.922Z"
   },
   {
    "duration": 23,
    "start_time": "2024-08-13T17:51:58.963Z"
   },
   {
    "duration": 12,
    "start_time": "2024-08-13T17:52:43.943Z"
   },
   {
    "duration": 13,
    "start_time": "2024-08-13T17:53:10.801Z"
   },
   {
    "duration": 13,
    "start_time": "2024-08-13T17:53:17.721Z"
   },
   {
    "duration": 13,
    "start_time": "2024-08-13T17:54:20.124Z"
   },
   {
    "duration": 13,
    "start_time": "2024-08-13T17:54:27.743Z"
   },
   {
    "duration": 13,
    "start_time": "2024-08-13T17:54:49.021Z"
   },
   {
    "duration": 13,
    "start_time": "2024-08-13T17:55:26.101Z"
   },
   {
    "duration": 11,
    "start_time": "2024-08-13T17:55:40.904Z"
   },
   {
    "duration": 7,
    "start_time": "2024-08-13T17:56:33.642Z"
   },
   {
    "duration": 6,
    "start_time": "2024-08-13T17:56:43.382Z"
   },
   {
    "duration": 6,
    "start_time": "2024-08-13T17:57:00.281Z"
   },
   {
    "duration": 415,
    "start_time": "2024-08-13T17:59:56.631Z"
   },
   {
    "duration": 16,
    "start_time": "2024-08-13T17:59:57.049Z"
   },
   {
    "duration": 16,
    "start_time": "2024-08-13T17:59:57.067Z"
   },
   {
    "duration": 243,
    "start_time": "2024-08-13T17:59:57.085Z"
   },
   {
    "duration": 534,
    "start_time": "2024-08-13T17:59:57.331Z"
   },
   {
    "duration": 27,
    "start_time": "2024-08-13T17:59:57.867Z"
   },
   {
    "duration": 36,
    "start_time": "2024-08-13T17:59:57.896Z"
   },
   {
    "duration": 16,
    "start_time": "2024-08-13T17:59:57.933Z"
   },
   {
    "duration": 8,
    "start_time": "2024-08-13T17:59:57.950Z"
   },
   {
    "duration": 17,
    "start_time": "2024-08-13T17:59:57.960Z"
   },
   {
    "duration": 44,
    "start_time": "2024-08-13T17:59:57.979Z"
   },
   {
    "duration": 33,
    "start_time": "2024-08-13T17:59:58.024Z"
   },
   {
    "duration": 13,
    "start_time": "2024-08-13T17:59:58.059Z"
   },
   {
    "duration": 6,
    "start_time": "2024-08-13T17:59:58.075Z"
   },
   {
    "duration": 4,
    "start_time": "2024-08-13T17:59:58.083Z"
   },
   {
    "duration": 25,
    "start_time": "2024-08-13T17:59:58.088Z"
   },
   {
    "duration": 16,
    "start_time": "2024-08-13T17:59:58.114Z"
   },
   {
    "duration": 42,
    "start_time": "2024-08-13T17:59:58.132Z"
   },
   {
    "duration": 13,
    "start_time": "2024-08-13T17:59:58.175Z"
   },
   {
    "duration": 8,
    "start_time": "2024-08-13T17:59:58.189Z"
   },
   {
    "duration": 10,
    "start_time": "2024-08-13T17:59:58.198Z"
   },
   {
    "duration": 8,
    "start_time": "2024-08-13T17:59:58.209Z"
   },
   {
    "duration": 5,
    "start_time": "2024-08-13T17:59:58.219Z"
   },
   {
    "duration": 137,
    "start_time": "2024-08-13T17:59:58.226Z"
   },
   {
    "duration": 5,
    "start_time": "2024-08-13T17:59:58.364Z"
   },
   {
    "duration": 6,
    "start_time": "2024-08-13T17:59:58.371Z"
   },
   {
    "duration": 13,
    "start_time": "2024-08-13T17:59:58.378Z"
   },
   {
    "duration": 4,
    "start_time": "2024-08-13T17:59:58.393Z"
   },
   {
    "duration": 6,
    "start_time": "2024-08-13T17:59:58.398Z"
   },
   {
    "duration": 9,
    "start_time": "2024-08-13T17:59:58.405Z"
   },
   {
    "duration": 191,
    "start_time": "2024-08-13T17:59:58.416Z"
   },
   {
    "duration": 125,
    "start_time": "2024-08-13T17:59:58.608Z"
   },
   {
    "duration": 34,
    "start_time": "2024-08-13T17:59:58.735Z"
   },
   {
    "duration": 10,
    "start_time": "2024-08-13T17:59:58.771Z"
   },
   {
    "duration": 308,
    "start_time": "2024-08-13T17:59:58.782Z"
   },
   {
    "duration": 262,
    "start_time": "2024-08-13T17:59:59.093Z"
   },
   {
    "duration": 20,
    "start_time": "2024-08-13T17:59:59.357Z"
   },
   {
    "duration": 336,
    "start_time": "2024-08-13T17:59:59.379Z"
   },
   {
    "duration": 295,
    "start_time": "2024-08-13T17:59:59.716Z"
   },
   {
    "duration": 311,
    "start_time": "2024-08-13T18:00:00.013Z"
   },
   {
    "duration": 6,
    "start_time": "2024-08-13T18:00:00.329Z"
   },
   {
    "duration": 209,
    "start_time": "2024-08-13T18:00:00.336Z"
   },
   {
    "duration": 6,
    "start_time": "2024-08-13T18:00:00.547Z"
   },
   {
    "duration": 334,
    "start_time": "2024-08-13T18:00:00.555Z"
   },
   {
    "duration": 6,
    "start_time": "2024-08-13T18:00:00.891Z"
   },
   {
    "duration": 64,
    "start_time": "2024-08-13T18:00:00.899Z"
   },
   {
    "duration": 34,
    "start_time": "2024-08-13T18:00:00.965Z"
   },
   {
    "duration": 29,
    "start_time": "2024-08-13T18:00:01.001Z"
   },
   {
    "duration": 130,
    "start_time": "2024-08-13T18:00:01.032Z"
   },
   {
    "duration": 45,
    "start_time": "2024-08-13T18:00:01.164Z"
   },
   {
    "duration": 97,
    "start_time": "2024-08-13T18:00:01.212Z"
   },
   {
    "duration": 58,
    "start_time": "2024-08-13T18:00:01.311Z"
   },
   {
    "duration": 36,
    "start_time": "2024-08-13T18:00:01.371Z"
   },
   {
    "duration": 66,
    "start_time": "2024-08-13T18:00:01.408Z"
   },
   {
    "duration": 55,
    "start_time": "2024-08-13T18:00:01.475Z"
   },
   {
    "duration": 57,
    "start_time": "2024-08-13T18:00:01.531Z"
   },
   {
    "duration": 39,
    "start_time": "2024-08-13T18:00:01.589Z"
   },
   {
    "duration": 76,
    "start_time": "2024-08-13T18:00:01.630Z"
   },
   {
    "duration": 224,
    "start_time": "2024-08-13T18:00:01.708Z"
   },
   {
    "duration": 118,
    "start_time": "2024-08-13T18:00:01.934Z"
   },
   {
    "duration": 21,
    "start_time": "2024-08-13T18:00:02.054Z"
   },
   {
    "duration": 10,
    "start_time": "2024-08-13T18:30:10.362Z"
   },
   {
    "duration": 9,
    "start_time": "2024-08-13T18:33:30.682Z"
   },
   {
    "duration": 1002,
    "start_time": "2024-08-13T18:36:10.323Z"
   },
   {
    "duration": 834,
    "start_time": "2024-08-13T18:36:34.142Z"
   },
   {
    "duration": 31,
    "start_time": "2024-08-13T18:36:47.364Z"
   },
   {
    "duration": 28,
    "start_time": "2024-08-13T18:36:52.262Z"
   },
   {
    "duration": 28,
    "start_time": "2024-08-13T18:37:05.563Z"
   },
   {
    "duration": 771,
    "start_time": "2024-08-13T18:37:17.301Z"
   },
   {
    "duration": 5,
    "start_time": "2024-08-13T18:38:21.881Z"
   },
   {
    "duration": 1292,
    "start_time": "2024-08-13T18:38:32.923Z"
   },
   {
    "duration": 264,
    "start_time": "2024-08-13T18:39:27.241Z"
   },
   {
    "duration": 335,
    "start_time": "2024-08-13T18:40:04.663Z"
   },
   {
    "duration": 296,
    "start_time": "2024-08-13T18:40:11.841Z"
   },
   {
    "duration": 11,
    "start_time": "2024-08-13T18:40:37.422Z"
   },
   {
    "duration": 59,
    "start_time": "2024-08-13T18:41:18.964Z"
   },
   {
    "duration": 10,
    "start_time": "2024-08-13T18:41:24.502Z"
   },
   {
    "duration": 9,
    "start_time": "2024-08-13T18:41:55.503Z"
   },
   {
    "duration": 9,
    "start_time": "2024-08-13T18:42:14.182Z"
   },
   {
    "duration": 12,
    "start_time": "2024-08-13T18:42:30.362Z"
   },
   {
    "duration": 9,
    "start_time": "2024-08-13T18:43:58.043Z"
   },
   {
    "duration": 264,
    "start_time": "2024-08-13T18:44:06.409Z"
   },
   {
    "duration": 12,
    "start_time": "2024-08-13T18:44:52.182Z"
   },
   {
    "duration": 277,
    "start_time": "2024-08-13T18:45:06.981Z"
   },
   {
    "duration": 13,
    "start_time": "2024-08-13T18:45:53.782Z"
   },
   {
    "duration": 4,
    "start_time": "2024-08-13T18:46:23.747Z"
   },
   {
    "duration": 784,
    "start_time": "2024-08-13T18:47:13.819Z"
   },
   {
    "duration": 5,
    "start_time": "2024-08-13T18:48:10.191Z"
   },
   {
    "duration": 6,
    "start_time": "2024-08-13T18:48:46.737Z"
   },
   {
    "duration": 6,
    "start_time": "2024-08-13T18:49:45.249Z"
   },
   {
    "duration": 7,
    "start_time": "2024-08-13T18:52:10.319Z"
   },
   {
    "duration": 8,
    "start_time": "2024-08-13T18:52:33.188Z"
   },
   {
    "duration": 13,
    "start_time": "2024-08-13T18:55:03.489Z"
   },
   {
    "duration": 7,
    "start_time": "2024-08-13T18:56:19.359Z"
   },
   {
    "duration": 7,
    "start_time": "2024-08-13T18:57:09.277Z"
   },
   {
    "duration": 12,
    "start_time": "2024-08-13T18:57:24.757Z"
   },
   {
    "duration": 12,
    "start_time": "2024-08-13T19:00:47.238Z"
   },
   {
    "duration": 18,
    "start_time": "2024-08-13T19:02:33.448Z"
   },
   {
    "duration": 11,
    "start_time": "2024-08-13T19:03:32.758Z"
   },
   {
    "duration": 9,
    "start_time": "2024-08-13T19:06:19.402Z"
   },
   {
    "duration": 25,
    "start_time": "2024-08-13T19:07:02.020Z"
   },
   {
    "duration": 4,
    "start_time": "2024-08-13T19:08:13.502Z"
   },
   {
    "duration": 427,
    "start_time": "2024-08-13T19:11:03.761Z"
   },
   {
    "duration": 2,
    "start_time": "2024-08-13T19:11:04.190Z"
   },
   {
    "duration": 27,
    "start_time": "2024-08-13T19:11:04.194Z"
   },
   {
    "duration": 282,
    "start_time": "2024-08-13T19:11:04.223Z"
   },
   {
    "duration": 468,
    "start_time": "2024-08-13T19:11:04.507Z"
   },
   {
    "duration": 27,
    "start_time": "2024-08-13T19:11:04.977Z"
   },
   {
    "duration": 44,
    "start_time": "2024-08-13T19:11:05.005Z"
   },
   {
    "duration": 15,
    "start_time": "2024-08-13T19:11:05.050Z"
   },
   {
    "duration": 38,
    "start_time": "2024-08-13T19:11:05.067Z"
   },
   {
    "duration": 20,
    "start_time": "2024-08-13T19:11:05.106Z"
   },
   {
    "duration": 19,
    "start_time": "2024-08-13T19:11:05.128Z"
   },
   {
    "duration": 25,
    "start_time": "2024-08-13T19:11:05.149Z"
   },
   {
    "duration": 26,
    "start_time": "2024-08-13T19:11:05.176Z"
   },
   {
    "duration": 12,
    "start_time": "2024-08-13T19:11:05.207Z"
   },
   {
    "duration": 15,
    "start_time": "2024-08-13T19:11:05.220Z"
   },
   {
    "duration": 31,
    "start_time": "2024-08-13T19:11:05.236Z"
   },
   {
    "duration": 16,
    "start_time": "2024-08-13T19:11:05.269Z"
   },
   {
    "duration": 16,
    "start_time": "2024-08-13T19:11:05.287Z"
   },
   {
    "duration": 20,
    "start_time": "2024-08-13T19:11:05.304Z"
   },
   {
    "duration": 67,
    "start_time": "2024-08-13T19:11:05.325Z"
   },
   {
    "duration": 133,
    "start_time": "2024-08-13T19:11:05.393Z"
   },
   {
    "duration": 28,
    "start_time": "2024-08-13T19:11:05.527Z"
   },
   {
    "duration": 8,
    "start_time": "2024-08-13T19:11:05.556Z"
   },
   {
    "duration": 118,
    "start_time": "2024-08-13T19:11:05.565Z"
   },
   {
    "duration": 6,
    "start_time": "2024-08-13T19:11:05.685Z"
   },
   {
    "duration": 26,
    "start_time": "2024-08-13T19:11:05.692Z"
   },
   {
    "duration": 23,
    "start_time": "2024-08-13T19:11:05.720Z"
   },
   {
    "duration": 13,
    "start_time": "2024-08-13T19:11:05.745Z"
   },
   {
    "duration": 22,
    "start_time": "2024-08-13T19:11:05.760Z"
   },
   {
    "duration": 15,
    "start_time": "2024-08-13T19:11:05.784Z"
   },
   {
    "duration": 195,
    "start_time": "2024-08-13T19:11:05.800Z"
   },
   {
    "duration": 130,
    "start_time": "2024-08-13T19:11:05.996Z"
   },
   {
    "duration": 11,
    "start_time": "2024-08-13T19:11:06.127Z"
   },
   {
    "duration": 39,
    "start_time": "2024-08-13T19:11:06.140Z"
   },
   {
    "duration": 302,
    "start_time": "2024-08-13T19:11:06.180Z"
   },
   {
    "duration": 225,
    "start_time": "2024-08-13T19:11:06.484Z"
   },
   {
    "duration": 14,
    "start_time": "2024-08-13T19:11:06.710Z"
   },
   {
    "duration": 334,
    "start_time": "2024-08-13T19:11:06.726Z"
   },
   {
    "duration": 232,
    "start_time": "2024-08-13T19:11:07.064Z"
   },
   {
    "duration": 292,
    "start_time": "2024-08-13T19:11:07.298Z"
   },
   {
    "duration": 6,
    "start_time": "2024-08-13T19:11:07.594Z"
   },
   {
    "duration": 167,
    "start_time": "2024-08-13T19:11:07.601Z"
   },
   {
    "duration": 6,
    "start_time": "2024-08-13T19:11:07.769Z"
   },
   {
    "duration": 189,
    "start_time": "2024-08-13T19:11:07.776Z"
   },
   {
    "duration": 5,
    "start_time": "2024-08-13T19:11:07.966Z"
   },
   {
    "duration": 35,
    "start_time": "2024-08-13T19:11:07.973Z"
   },
   {
    "duration": 74,
    "start_time": "2024-08-13T19:11:08.010Z"
   },
   {
    "duration": 30,
    "start_time": "2024-08-13T19:11:08.085Z"
   },
   {
    "duration": 5,
    "start_time": "2024-08-13T19:11:08.117Z"
   },
   {
    "duration": 74,
    "start_time": "2024-08-13T19:11:08.124Z"
   },
   {
    "duration": 8,
    "start_time": "2024-08-13T19:11:08.200Z"
   },
   {
    "duration": 8,
    "start_time": "2024-08-13T19:11:08.209Z"
   },
   {
    "duration": 8,
    "start_time": "2024-08-13T19:11:08.219Z"
   },
   {
    "duration": 5,
    "start_time": "2024-08-13T19:11:08.228Z"
   },
   {
    "duration": 11,
    "start_time": "2024-08-13T19:11:08.234Z"
   },
   {
    "duration": 83,
    "start_time": "2024-08-13T19:11:08.247Z"
   },
   {
    "duration": 10,
    "start_time": "2024-08-13T19:11:08.332Z"
   },
   {
    "duration": 16,
    "start_time": "2024-08-13T19:11:08.343Z"
   },
   {
    "duration": 21,
    "start_time": "2024-08-13T19:11:08.360Z"
   },
   {
    "duration": 4,
    "start_time": "2024-08-13T19:11:08.382Z"
   },
   {
    "duration": 12,
    "start_time": "2024-08-13T19:11:08.388Z"
   },
   {
    "duration": 7,
    "start_time": "2024-08-13T19:11:08.402Z"
   },
   {
    "duration": 18,
    "start_time": "2024-08-13T19:18:01.641Z"
   },
   {
    "duration": 5,
    "start_time": "2024-08-13T19:23:51.705Z"
   },
   {
    "duration": 5,
    "start_time": "2024-08-13T19:24:51.055Z"
   },
   {
    "duration": 5,
    "start_time": "2024-08-13T19:24:51.736Z"
   },
   {
    "duration": 408,
    "start_time": "2024-08-13T19:27:51.504Z"
   },
   {
    "duration": 3,
    "start_time": "2024-08-13T19:27:51.914Z"
   },
   {
    "duration": 14,
    "start_time": "2024-08-13T19:27:51.918Z"
   },
   {
    "duration": 248,
    "start_time": "2024-08-13T19:27:51.934Z"
   },
   {
    "duration": 453,
    "start_time": "2024-08-13T19:27:52.183Z"
   },
   {
    "duration": 27,
    "start_time": "2024-08-13T19:27:52.638Z"
   },
   {
    "duration": 35,
    "start_time": "2024-08-13T19:27:52.667Z"
   },
   {
    "duration": 15,
    "start_time": "2024-08-13T19:27:52.704Z"
   },
   {
    "duration": 2,
    "start_time": "2024-08-13T19:27:52.721Z"
   },
   {
    "duration": 12,
    "start_time": "2024-08-13T19:27:52.726Z"
   },
   {
    "duration": 17,
    "start_time": "2024-08-13T19:27:52.739Z"
   },
   {
    "duration": 12,
    "start_time": "2024-08-13T19:27:52.758Z"
   },
   {
    "duration": 14,
    "start_time": "2024-08-13T19:27:52.771Z"
   },
   {
    "duration": 10,
    "start_time": "2024-08-13T19:27:52.786Z"
   },
   {
    "duration": 7,
    "start_time": "2024-08-13T19:27:52.797Z"
   },
   {
    "duration": 37,
    "start_time": "2024-08-13T19:27:52.805Z"
   },
   {
    "duration": 25,
    "start_time": "2024-08-13T19:27:52.844Z"
   },
   {
    "duration": 15,
    "start_time": "2024-08-13T19:27:52.871Z"
   },
   {
    "duration": 14,
    "start_time": "2024-08-13T19:27:52.887Z"
   },
   {
    "duration": 13,
    "start_time": "2024-08-13T19:27:52.903Z"
   },
   {
    "duration": 5,
    "start_time": "2024-08-13T19:27:52.917Z"
   },
   {
    "duration": 7,
    "start_time": "2024-08-13T19:27:52.924Z"
   },
   {
    "duration": 6,
    "start_time": "2024-08-13T19:27:52.932Z"
   },
   {
    "duration": 144,
    "start_time": "2024-08-13T19:27:52.939Z"
   },
   {
    "duration": 5,
    "start_time": "2024-08-13T19:27:53.085Z"
   },
   {
    "duration": 21,
    "start_time": "2024-08-13T19:27:53.091Z"
   },
   {
    "duration": 10,
    "start_time": "2024-08-13T19:27:53.114Z"
   },
   {
    "duration": 7,
    "start_time": "2024-08-13T19:27:53.129Z"
   },
   {
    "duration": 16,
    "start_time": "2024-08-13T19:27:53.137Z"
   },
   {
    "duration": 18,
    "start_time": "2024-08-13T19:27:53.155Z"
   },
   {
    "duration": 187,
    "start_time": "2024-08-13T19:27:53.174Z"
   },
   {
    "duration": 139,
    "start_time": "2024-08-13T19:27:53.365Z"
   },
   {
    "duration": 12,
    "start_time": "2024-08-13T19:27:53.505Z"
   },
   {
    "duration": 30,
    "start_time": "2024-08-13T19:27:53.518Z"
   },
   {
    "duration": 316,
    "start_time": "2024-08-13T19:27:53.550Z"
   },
   {
    "duration": 224,
    "start_time": "2024-08-13T19:27:53.868Z"
   },
   {
    "duration": 14,
    "start_time": "2024-08-13T19:27:54.094Z"
   },
   {
    "duration": 307,
    "start_time": "2024-08-13T19:27:54.109Z"
   },
   {
    "duration": 235,
    "start_time": "2024-08-13T19:27:54.417Z"
   },
   {
    "duration": 328,
    "start_time": "2024-08-13T19:27:54.653Z"
   },
   {
    "duration": 6,
    "start_time": "2024-08-13T19:27:54.982Z"
   },
   {
    "duration": 172,
    "start_time": "2024-08-13T19:27:54.989Z"
   },
   {
    "duration": 7,
    "start_time": "2024-08-13T19:27:55.164Z"
   },
   {
    "duration": 185,
    "start_time": "2024-08-13T19:27:55.173Z"
   },
   {
    "duration": 7,
    "start_time": "2024-08-13T19:27:55.360Z"
   },
   {
    "duration": 13,
    "start_time": "2024-08-13T19:27:55.369Z"
   },
   {
    "duration": 96,
    "start_time": "2024-08-13T19:27:55.383Z"
   },
   {
    "duration": 74,
    "start_time": "2024-08-13T19:27:55.481Z"
   },
   {
    "duration": 4,
    "start_time": "2024-08-13T19:27:55.557Z"
   },
   {
    "duration": 21,
    "start_time": "2024-08-13T19:27:55.563Z"
   },
   {
    "duration": 9,
    "start_time": "2024-08-13T19:27:55.585Z"
   },
   {
    "duration": 10,
    "start_time": "2024-08-13T19:27:55.596Z"
   },
   {
    "duration": 17,
    "start_time": "2024-08-13T19:27:55.608Z"
   },
   {
    "duration": 5,
    "start_time": "2024-08-13T19:27:55.626Z"
   },
   {
    "duration": 6,
    "start_time": "2024-08-13T19:27:55.632Z"
   },
   {
    "duration": 7,
    "start_time": "2024-08-13T19:27:55.640Z"
   },
   {
    "duration": 14,
    "start_time": "2024-08-13T19:27:55.648Z"
   },
   {
    "duration": 103,
    "start_time": "2024-08-13T19:27:55.665Z"
   },
   {
    "duration": 0,
    "start_time": "2024-08-13T19:27:55.769Z"
   },
   {
    "duration": 0,
    "start_time": "2024-08-13T19:27:55.771Z"
   },
   {
    "duration": 0,
    "start_time": "2024-08-13T19:27:55.773Z"
   },
   {
    "duration": 0,
    "start_time": "2024-08-13T19:27:55.774Z"
   },
   {
    "duration": 11,
    "start_time": "2024-08-13T19:28:56.444Z"
   },
   {
    "duration": 6,
    "start_time": "2024-08-13T19:29:23.763Z"
   },
   {
    "duration": 69,
    "start_time": "2024-08-13T19:30:07.506Z"
   },
   {
    "duration": 25,
    "start_time": "2024-08-13T19:30:24.728Z"
   },
   {
    "duration": 4,
    "start_time": "2024-08-13T19:31:05.234Z"
   },
   {
    "duration": 7,
    "start_time": "2024-08-13T19:35:37.362Z"
   },
   {
    "duration": 4,
    "start_time": "2024-08-13T19:35:38.254Z"
   },
   {
    "duration": 433,
    "start_time": "2024-08-13T20:04:42.544Z"
   },
   {
    "duration": 2,
    "start_time": "2024-08-13T20:04:42.979Z"
   },
   {
    "duration": 11,
    "start_time": "2024-08-13T20:04:42.983Z"
   },
   {
    "duration": 307,
    "start_time": "2024-08-13T20:04:42.996Z"
   },
   {
    "duration": 498,
    "start_time": "2024-08-13T20:04:43.306Z"
   },
   {
    "duration": 28,
    "start_time": "2024-08-13T20:04:43.806Z"
   },
   {
    "duration": 35,
    "start_time": "2024-08-13T20:04:43.835Z"
   },
   {
    "duration": 14,
    "start_time": "2024-08-13T20:04:43.872Z"
   },
   {
    "duration": 2,
    "start_time": "2024-08-13T20:04:43.888Z"
   },
   {
    "duration": 13,
    "start_time": "2024-08-13T20:04:43.891Z"
   },
   {
    "duration": 19,
    "start_time": "2024-08-13T20:04:43.906Z"
   },
   {
    "duration": 12,
    "start_time": "2024-08-13T20:04:43.927Z"
   },
   {
    "duration": 12,
    "start_time": "2024-08-13T20:04:43.940Z"
   },
   {
    "duration": 3,
    "start_time": "2024-08-13T20:04:43.965Z"
   },
   {
    "duration": 5,
    "start_time": "2024-08-13T20:04:43.970Z"
   },
   {
    "duration": 26,
    "start_time": "2024-08-13T20:04:43.977Z"
   },
   {
    "duration": 15,
    "start_time": "2024-08-13T20:04:44.004Z"
   },
   {
    "duration": 15,
    "start_time": "2024-08-13T20:04:44.021Z"
   },
   {
    "duration": 29,
    "start_time": "2024-08-13T20:04:44.037Z"
   },
   {
    "duration": 12,
    "start_time": "2024-08-13T20:04:44.067Z"
   },
   {
    "duration": 6,
    "start_time": "2024-08-13T20:04:44.080Z"
   },
   {
    "duration": 9,
    "start_time": "2024-08-13T20:04:44.087Z"
   },
   {
    "duration": 7,
    "start_time": "2024-08-13T20:04:44.097Z"
   },
   {
    "duration": 124,
    "start_time": "2024-08-13T20:04:44.105Z"
   },
   {
    "duration": 5,
    "start_time": "2024-08-13T20:04:44.231Z"
   },
   {
    "duration": 7,
    "start_time": "2024-08-13T20:04:44.237Z"
   },
   {
    "duration": 23,
    "start_time": "2024-08-13T20:04:44.245Z"
   },
   {
    "duration": 9,
    "start_time": "2024-08-13T20:04:44.269Z"
   },
   {
    "duration": 12,
    "start_time": "2024-08-13T20:04:44.279Z"
   },
   {
    "duration": 10,
    "start_time": "2024-08-13T20:04:44.293Z"
   },
   {
    "duration": 170,
    "start_time": "2024-08-13T20:04:44.305Z"
   },
   {
    "duration": 131,
    "start_time": "2024-08-13T20:04:44.477Z"
   },
   {
    "duration": 11,
    "start_time": "2024-08-13T20:04:44.610Z"
   },
   {
    "duration": 7,
    "start_time": "2024-08-13T20:04:44.622Z"
   },
   {
    "duration": 298,
    "start_time": "2024-08-13T20:04:44.630Z"
   },
   {
    "duration": 233,
    "start_time": "2024-08-13T20:04:44.929Z"
   },
   {
    "duration": 15,
    "start_time": "2024-08-13T20:04:45.165Z"
   },
   {
    "duration": 326,
    "start_time": "2024-08-13T20:04:45.181Z"
   },
   {
    "duration": 248,
    "start_time": "2024-08-13T20:04:45.509Z"
   },
   {
    "duration": 326,
    "start_time": "2024-08-13T20:04:45.758Z"
   },
   {
    "duration": 7,
    "start_time": "2024-08-13T20:04:46.088Z"
   },
   {
    "duration": 169,
    "start_time": "2024-08-13T20:04:46.096Z"
   },
   {
    "duration": 5,
    "start_time": "2024-08-13T20:04:46.267Z"
   },
   {
    "duration": 176,
    "start_time": "2024-08-13T20:04:46.274Z"
   },
   {
    "duration": 5,
    "start_time": "2024-08-13T20:04:46.452Z"
   },
   {
    "duration": 87,
    "start_time": "2024-08-13T20:04:46.465Z"
   },
   {
    "duration": 94,
    "start_time": "2024-08-13T20:04:46.553Z"
   },
   {
    "duration": 52,
    "start_time": "2024-08-13T20:04:46.649Z"
   },
   {
    "duration": 5,
    "start_time": "2024-08-13T20:04:46.703Z"
   },
   {
    "duration": 20,
    "start_time": "2024-08-13T20:04:46.709Z"
   },
   {
    "duration": 16,
    "start_time": "2024-08-13T20:04:46.731Z"
   },
   {
    "duration": 20,
    "start_time": "2024-08-13T20:04:46.749Z"
   },
   {
    "duration": 8,
    "start_time": "2024-08-13T20:04:46.771Z"
   },
   {
    "duration": 5,
    "start_time": "2024-08-13T20:04:46.781Z"
   },
   {
    "duration": 9,
    "start_time": "2024-08-13T20:04:46.788Z"
   },
   {
    "duration": 5,
    "start_time": "2024-08-13T20:04:46.799Z"
   },
   {
    "duration": 9,
    "start_time": "2024-08-13T20:04:46.806Z"
   },
   {
    "duration": 5,
    "start_time": "2024-08-13T20:04:46.817Z"
   },
   {
    "duration": 64,
    "start_time": "2024-08-13T20:04:46.824Z"
   },
   {
    "duration": 4,
    "start_time": "2024-08-13T20:04:46.890Z"
   },
   {
    "duration": 8,
    "start_time": "2024-08-13T20:04:46.895Z"
   },
   {
    "duration": 33,
    "start_time": "2024-08-13T20:04:46.905Z"
   },
   {
    "duration": 400,
    "start_time": "2024-08-14T07:27:40.411Z"
   },
   {
    "duration": 3,
    "start_time": "2024-08-14T07:27:40.813Z"
   },
   {
    "duration": 56,
    "start_time": "2024-08-14T07:27:40.818Z"
   },
   {
    "duration": 245,
    "start_time": "2024-08-14T07:27:40.875Z"
   },
   {
    "duration": 496,
    "start_time": "2024-08-14T07:27:41.123Z"
   },
   {
    "duration": 29,
    "start_time": "2024-08-14T07:27:41.621Z"
   },
   {
    "duration": 40,
    "start_time": "2024-08-14T07:27:41.652Z"
   },
   {
    "duration": 17,
    "start_time": "2024-08-14T07:27:41.697Z"
   },
   {
    "duration": 3,
    "start_time": "2024-08-14T07:27:41.716Z"
   },
   {
    "duration": 20,
    "start_time": "2024-08-14T07:27:41.721Z"
   },
   {
    "duration": 21,
    "start_time": "2024-08-14T07:27:41.743Z"
   },
   {
    "duration": 14,
    "start_time": "2024-08-14T07:27:41.766Z"
   },
   {
    "duration": 17,
    "start_time": "2024-08-14T07:27:41.781Z"
   },
   {
    "duration": 6,
    "start_time": "2024-08-14T07:27:41.802Z"
   },
   {
    "duration": 5,
    "start_time": "2024-08-14T07:27:41.810Z"
   },
   {
    "duration": 43,
    "start_time": "2024-08-14T07:27:41.816Z"
   },
   {
    "duration": 16,
    "start_time": "2024-08-14T07:27:41.860Z"
   },
   {
    "duration": 16,
    "start_time": "2024-08-14T07:27:41.877Z"
   },
   {
    "duration": 6,
    "start_time": "2024-08-14T07:27:41.895Z"
   },
   {
    "duration": 13,
    "start_time": "2024-08-14T07:27:41.903Z"
   },
   {
    "duration": 29,
    "start_time": "2024-08-14T07:27:41.918Z"
   },
   {
    "duration": 11,
    "start_time": "2024-08-14T07:27:41.949Z"
   },
   {
    "duration": 22,
    "start_time": "2024-08-14T07:27:41.962Z"
   },
   {
    "duration": 118,
    "start_time": "2024-08-14T07:27:41.986Z"
   },
   {
    "duration": 5,
    "start_time": "2024-08-14T07:27:42.105Z"
   },
   {
    "duration": 15,
    "start_time": "2024-08-14T07:27:42.112Z"
   },
   {
    "duration": 7,
    "start_time": "2024-08-14T07:27:42.129Z"
   },
   {
    "duration": 15,
    "start_time": "2024-08-14T07:27:42.137Z"
   },
   {
    "duration": 6,
    "start_time": "2024-08-14T07:27:42.154Z"
   },
   {
    "duration": 10,
    "start_time": "2024-08-14T07:27:42.161Z"
   },
   {
    "duration": 177,
    "start_time": "2024-08-14T07:27:42.173Z"
   },
   {
    "duration": 125,
    "start_time": "2024-08-14T07:27:42.352Z"
   },
   {
    "duration": 11,
    "start_time": "2024-08-14T07:27:42.479Z"
   },
   {
    "duration": 9,
    "start_time": "2024-08-14T07:27:42.491Z"
   },
   {
    "duration": 340,
    "start_time": "2024-08-14T07:27:42.502Z"
   },
   {
    "duration": 249,
    "start_time": "2024-08-14T07:27:42.846Z"
   },
   {
    "duration": 13,
    "start_time": "2024-08-14T07:27:43.097Z"
   },
   {
    "duration": 379,
    "start_time": "2024-08-14T07:27:43.112Z"
   },
   {
    "duration": 258,
    "start_time": "2024-08-14T07:27:43.492Z"
   },
   {
    "duration": 331,
    "start_time": "2024-08-14T07:27:43.753Z"
   },
   {
    "duration": 5,
    "start_time": "2024-08-14T07:27:44.090Z"
   },
   {
    "duration": 164,
    "start_time": "2024-08-14T07:27:44.097Z"
   },
   {
    "duration": 5,
    "start_time": "2024-08-14T07:27:44.263Z"
   },
   {
    "duration": 172,
    "start_time": "2024-08-14T07:27:44.270Z"
   },
   {
    "duration": 5,
    "start_time": "2024-08-14T07:27:44.445Z"
   },
   {
    "duration": 19,
    "start_time": "2024-08-14T07:27:44.451Z"
   },
   {
    "duration": 88,
    "start_time": "2024-08-14T07:27:44.471Z"
   },
   {
    "duration": 35,
    "start_time": "2024-08-14T07:27:44.560Z"
   },
   {
    "duration": 3,
    "start_time": "2024-08-14T07:27:44.597Z"
   },
   {
    "duration": 18,
    "start_time": "2024-08-14T07:27:44.602Z"
   },
   {
    "duration": 9,
    "start_time": "2024-08-14T07:27:44.622Z"
   },
   {
    "duration": 16,
    "start_time": "2024-08-14T07:27:44.633Z"
   },
   {
    "duration": 9,
    "start_time": "2024-08-14T07:27:44.650Z"
   },
   {
    "duration": 8,
    "start_time": "2024-08-14T07:27:44.660Z"
   },
   {
    "duration": 11,
    "start_time": "2024-08-14T07:27:44.670Z"
   },
   {
    "duration": 5,
    "start_time": "2024-08-14T07:27:44.682Z"
   },
   {
    "duration": 26,
    "start_time": "2024-08-14T07:27:44.689Z"
   },
   {
    "duration": 8,
    "start_time": "2024-08-14T07:27:44.717Z"
   },
   {
    "duration": 54,
    "start_time": "2024-08-14T07:27:44.727Z"
   },
   {
    "duration": 3,
    "start_time": "2024-08-14T07:27:44.783Z"
   },
   {
    "duration": 28,
    "start_time": "2024-08-14T07:27:44.788Z"
   },
   {
    "duration": 23,
    "start_time": "2024-08-14T07:27:44.817Z"
   },
   {
    "duration": 379,
    "start_time": "2024-08-14T07:35:38.494Z"
   },
   {
    "duration": 3,
    "start_time": "2024-08-14T07:35:38.875Z"
   },
   {
    "duration": 31,
    "start_time": "2024-08-14T07:35:38.880Z"
   },
   {
    "duration": 263,
    "start_time": "2024-08-14T07:35:38.913Z"
   },
   {
    "duration": 493,
    "start_time": "2024-08-14T07:35:39.178Z"
   },
   {
    "duration": 30,
    "start_time": "2024-08-14T07:35:39.673Z"
   },
   {
    "duration": 39,
    "start_time": "2024-08-14T07:35:39.705Z"
   },
   {
    "duration": 17,
    "start_time": "2024-08-14T07:35:39.746Z"
   },
   {
    "duration": 2,
    "start_time": "2024-08-14T07:35:39.765Z"
   },
   {
    "duration": 23,
    "start_time": "2024-08-14T07:35:39.769Z"
   },
   {
    "duration": 23,
    "start_time": "2024-08-14T07:35:39.794Z"
   },
   {
    "duration": 17,
    "start_time": "2024-08-14T07:35:39.819Z"
   },
   {
    "duration": 30,
    "start_time": "2024-08-14T07:35:39.838Z"
   },
   {
    "duration": 16,
    "start_time": "2024-08-14T07:35:39.872Z"
   },
   {
    "duration": 10,
    "start_time": "2024-08-14T07:35:39.890Z"
   },
   {
    "duration": 24,
    "start_time": "2024-08-14T07:35:39.902Z"
   },
   {
    "duration": 21,
    "start_time": "2024-08-14T07:35:39.928Z"
   },
   {
    "duration": 23,
    "start_time": "2024-08-14T07:35:39.951Z"
   },
   {
    "duration": 22,
    "start_time": "2024-08-14T07:35:39.976Z"
   },
   {
    "duration": 22,
    "start_time": "2024-08-14T07:35:40.000Z"
   },
   {
    "duration": 37,
    "start_time": "2024-08-14T07:35:40.024Z"
   },
   {
    "duration": 49,
    "start_time": "2024-08-14T07:35:40.062Z"
   },
   {
    "duration": 24,
    "start_time": "2024-08-14T07:35:40.113Z"
   },
   {
    "duration": 125,
    "start_time": "2024-08-14T07:35:40.139Z"
   },
   {
    "duration": 5,
    "start_time": "2024-08-14T07:35:40.265Z"
   },
   {
    "duration": 13,
    "start_time": "2024-08-14T07:35:40.272Z"
   },
   {
    "duration": 7,
    "start_time": "2024-08-14T07:35:40.287Z"
   },
   {
    "duration": 8,
    "start_time": "2024-08-14T07:35:40.295Z"
   },
   {
    "duration": 9,
    "start_time": "2024-08-14T07:35:40.304Z"
   },
   {
    "duration": 19,
    "start_time": "2024-08-14T07:35:40.315Z"
   },
   {
    "duration": 173,
    "start_time": "2024-08-14T07:35:40.346Z"
   },
   {
    "duration": 142,
    "start_time": "2024-08-14T07:35:40.520Z"
   },
   {
    "duration": 13,
    "start_time": "2024-08-14T07:35:40.665Z"
   },
   {
    "duration": 7,
    "start_time": "2024-08-14T07:35:40.680Z"
   },
   {
    "duration": 320,
    "start_time": "2024-08-14T07:35:40.689Z"
   },
   {
    "duration": 242,
    "start_time": "2024-08-14T07:35:41.011Z"
   },
   {
    "duration": 16,
    "start_time": "2024-08-14T07:35:41.255Z"
   },
   {
    "duration": 331,
    "start_time": "2024-08-14T07:35:41.273Z"
   },
   {
    "duration": 278,
    "start_time": "2024-08-14T07:35:41.606Z"
   },
   {
    "duration": 305,
    "start_time": "2024-08-14T07:35:41.885Z"
   },
   {
    "duration": 8,
    "start_time": "2024-08-14T07:35:42.194Z"
   },
   {
    "duration": 165,
    "start_time": "2024-08-14T07:35:42.204Z"
   },
   {
    "duration": 6,
    "start_time": "2024-08-14T07:35:42.370Z"
   },
   {
    "duration": 184,
    "start_time": "2024-08-14T07:35:42.377Z"
   },
   {
    "duration": 6,
    "start_time": "2024-08-14T07:35:42.563Z"
   },
   {
    "duration": 15,
    "start_time": "2024-08-14T07:35:42.571Z"
   },
   {
    "duration": 98,
    "start_time": "2024-08-14T07:35:42.588Z"
   },
   {
    "duration": 49,
    "start_time": "2024-08-14T07:35:42.688Z"
   },
   {
    "duration": 3,
    "start_time": "2024-08-14T07:35:42.739Z"
   },
   {
    "duration": 19,
    "start_time": "2024-08-14T07:35:42.744Z"
   },
   {
    "duration": 10,
    "start_time": "2024-08-14T07:35:42.765Z"
   },
   {
    "duration": 20,
    "start_time": "2024-08-14T07:35:42.776Z"
   },
   {
    "duration": 24,
    "start_time": "2024-08-14T07:35:42.797Z"
   },
   {
    "duration": 11,
    "start_time": "2024-08-14T07:35:42.823Z"
   },
   {
    "duration": 14,
    "start_time": "2024-08-14T07:35:42.835Z"
   },
   {
    "duration": 47,
    "start_time": "2024-08-14T07:35:42.851Z"
   },
   {
    "duration": 17,
    "start_time": "2024-08-14T07:35:42.900Z"
   },
   {
    "duration": 6,
    "start_time": "2024-08-14T07:35:42.919Z"
   },
   {
    "duration": 28,
    "start_time": "2024-08-14T07:35:42.926Z"
   },
   {
    "duration": 5,
    "start_time": "2024-08-14T07:35:42.955Z"
   },
   {
    "duration": 25,
    "start_time": "2024-08-14T07:35:42.961Z"
   },
   {
    "duration": 9,
    "start_time": "2024-08-14T07:35:42.987Z"
   }
  ],
  "kernelspec": {
   "display_name": "Python 3 (ipykernel)",
   "language": "python",
   "name": "python3"
  },
  "language_info": {
   "codemirror_mode": {
    "name": "ipython",
    "version": 3
   },
   "file_extension": ".py",
   "mimetype": "text/x-python",
   "name": "python",
   "nbconvert_exporter": "python",
   "pygments_lexer": "ipython3",
   "version": "3.8.10"
  },
  "toc": {
   "base_numbering": 1,
   "nav_menu": {},
   "number_sections": true,
   "sideBar": true,
   "skip_h1_title": true,
   "title_cell": "Table of Contents",
   "title_sidebar": "Contents",
   "toc_cell": false,
   "toc_position": {
    "height": "calc(100% - 180px)",
    "left": "10px",
    "top": "150px",
    "width": "268.887px"
   },
   "toc_section_display": true,
   "toc_window_display": false
  }
 },
 "nbformat": 4,
 "nbformat_minor": 4
}
